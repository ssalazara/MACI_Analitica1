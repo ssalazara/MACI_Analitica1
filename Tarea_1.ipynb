{
 "cells": [
  {
   "cell_type": "markdown",
   "metadata": {
    "id": "1d43c1ee"
   },
   "source": [
    "# Tarea 1. \n",
    "\n",
    "## Web scraping, Manejo de datos y Clasificación.\n",
    "\n",
    "\n",
    "**Ayudante:** Martina Cádiz (mcadiz2018@inf.udec.cl)\n",
    "\n",
    "---\n",
    "\n",
    "\n",
    "La tarea debe ser subida a la plataforma en un archivo con el formato **NombreApellido_tarea1.zip**. Este debe contener el código solicitado, junto con el conjunto de datos utilizado. \n",
    "\n",
    "\n",
    "\n",
    "\n",
    "\n",
    "---\n",
    "---"
   ]
  },
  {
   "cell_type": "markdown",
   "metadata": {
    "id": "15810f00"
   },
   "source": [
    "## 1. Web scraping (47 ptos)\n",
    "\n",
    "Una emprendedora ha comenzado su propia empresa de Notebooks y quieren dar una dura pelea a las grandes empresas como Apple, Asus, HP, etc. Para esto contrataron a una empresa consultora quien les realizo un estudio de mercado, técnico y financiero que les permitió reunir información relevante sobre la industria, el mercado, los costos de los materiales y cómo seria su rentabilidad de aquí a un cierto horizonte de tiempo. Sin embargo, a ellos también les gustaría tener información actualizada, en todo momento, de los precios de ventas de sus competidores, así como también, un análisis actual de los precios a nivel de tienda y marca. Ella no tiene conocimientos de Análisis de Datos y de Machine Learning, por ende, lo/la contrata a usted para que realice este proyecto.\n",
    "\n",
    "En primer lugar, ella le comenta que no cuenta con una base de datos disponible para realizar algún\n",
    "análisis y que le gustaría obtener información actualizada del precio al cual están vendiendo los\n",
    "productos sus competidores. Además, otro de los problemas iniciales que surgieron es que no sabe\n",
    "cómo estimar el precio de los móviles que fabricará su empresa, y que no le gustaría simplemente\n",
    "asumir cosas. Por lo tanto, ella le solicita a usted:\n",
    "\n",
    "1. Que genere un código que permita extraer la información de Notebooks de la página www.solotodo.cl/notebooks, ya que recopila información de varias tiendas y marcas diferentes y no tiene restricciones de extracción de datos mediante técnicas de scrapping. Debe extraer hasta la **página 90**.\n",
    "\n",
    "2. Que averigüe alguna relación entre las funciones de los Notebooks y su precio de venta. (Luego de recopilar los datos de ventas).\n",
    "\n"
   ]
  },
  {
   "cell_type": "markdown",
   "metadata": {
    "id": "4aff2aa8"
   },
   "source": [
    "### Los datos que le interesa a la emprendedora son los siguientes:\n",
    "\n",
    "**Información que se puede extraer desde la página general:**\n",
    "\n",
    "- Nombre Notebook (id)\n",
    "- Marca Notebook\n",
    "\n",
    "*Procesador:*\n",
    "- Modelo procesador\n",
    "\n",
    "*RAM:*\n",
    "- GB\n",
    "       \n",
    "*Almacenamiento: (se pedirá extraer el tipo de memoria y sus GB, en caso de que tenga más de una se debe seleccionar la primera)* \n",
    "- Tipo de disco duro \n",
    "- GB\n",
    "    \n",
    "*Tarjeta de video:*\n",
    "- Marca GPU dedicada\n",
    "- GB dedicada\n",
    "    \n",
    "**Información que deberán extraer dentro de cada producto:**\n",
    "- Tabla de precios de los computadores en las diferentes tiendas\n",
    "\n",
    "Como habrán aprendido en clases, en el proceso de recolección de datos no siempre encontrarán toda la información en cada uno de los productos, por lo cual deberán decidir en cómo trabajar con estos tipos de datos faltantes. Para esto tendrán que explicar cada decisión tomada para la representación de estos. Para efectos de revisión, todos los datos obtenidos deberán ser guardados en un archivo \".pkl\" (pickle), ya que la página es actualizada constantemente.\n",
    "\n",
    "**Resumen:** \n",
    "\n",
    "En la primera parte se espera que: \n",
    "1. Extraigan la información **(15 pts)**,\n",
    "2. La almacenen en un DataFrame (información y precios) **(2 pts)**,\n",
    "3. Que limpien los datos **(7 pts)**, \n",
    "4. Generen las variables de interes correspondientes (columnas) **(7 pts)**,\n",
    "5. Que expliquen las decisiones tomadas y guarden los datos trabajados en un archivo “.pkl” **(3 pts)**,\n",
    "6. Y que respondan preguntas relacionadas a los datos **(13 pts)**.\n",
    "\n",
    "En la segunda parte se evaluará que:\n",
    "1. Preprocesen los datos **(3 pts)**,\n",
    "2. Dividan los conjuntos de datos **(3 pts)**,\n",
    "3. Entrenen algún algoritmo sobre los datos de entrenamiento **(5 pts)**,\n",
    "4. Validen sus resultados con el uso de validación cruzada **(5 pts)**,\n",
    "5. Realicen un testeo **(2 pts)**,\n",
    "6. Por último que extraigan conclusiones **(5 pts)**.\n",
    "\n"
   ]
  },
  {
   "cell_type": "markdown",
   "metadata": {
    "id": "a583bb7f"
   },
   "source": [
    "### Librerías"
   ]
  },
  {
   "cell_type": "code",
   "execution_count": null,
   "metadata": {
    "colab": {
     "base_uri": "https://localhost:8080/"
    },
    "id": "b9351ab2",
    "outputId": "a5e4d290-ce72-4dc2-9131-41dba8116847"
   },
   "outputs": [
    {
     "name": "stdout",
     "output_type": "stream",
     "text": [
      "\u001b[K     |████████████████████████████████| 57 kB 2.3 MB/s \n",
      "\u001b[K     |████████████████████████████████| 1.6 MB 10.6 MB/s \n",
      "\u001b[?25hLooking in indexes: https://pypi.org/simple, https://us-python.pkg.dev/colab-wheels/public/simple/\n",
      "Requirement already satisfied: requests in /usr/local/lib/python3.7/dist-packages (2.23.0)\n",
      "Requirement already satisfied: certifi>=2017.4.17 in /usr/local/lib/python3.7/dist-packages (from requests) (2022.9.24)\n",
      "Requirement already satisfied: urllib3!=1.25.0,!=1.25.1,<1.26,>=1.21.1 in /usr/local/lib/python3.7/dist-packages (from requests) (1.24.3)\n",
      "Requirement already satisfied: chardet<4,>=3.0.2 in /usr/local/lib/python3.7/dist-packages (from requests) (3.0.4)\n",
      "Requirement already satisfied: idna<3,>=2.5 in /usr/local/lib/python3.7/dist-packages (from requests) (2.10)\n",
      "Looking in indexes: https://pypi.org/simple, https://us-python.pkg.dev/colab-wheels/public/simple/\n",
      "Requirement already satisfied: bs4 in /usr/local/lib/python3.7/dist-packages (0.0.1)\n",
      "Requirement already satisfied: beautifulsoup4 in /usr/local/lib/python3.7/dist-packages (from bs4) (4.6.3)\n"
     ]
    }
   ],
   "source": [
    "# Recuerde utilizar el chromedriver.exe de acuerdo a la explicación que se dio en la práctica para que no tenga problemas\n",
    "!pip install kora -q\n",
    "!pip install requests\n",
    "!pip install bs4"
   ]
  },
  {
   "cell_type": "code",
   "execution_count": null,
   "metadata": {
    "colab": {
     "base_uri": "https://localhost:8080/"
    },
    "id": "2356dfd6",
    "outputId": "fc17f22b-2e3a-430e-dc28-6ec7bdcca5e9"
   },
   "outputs": [
    {
     "name": "stdout",
     "output_type": "stream",
     "text": [
      "mkdir: cannot create directory ‘data’: File exists\n"
     ]
    }
   ],
   "source": [
    "# Puede utilizar más librerias si lo considera necesario\n",
    "\n",
    "# Web Scraping\n",
    "from kora.selenium import wd\n",
    "import requests\n",
    "import bs4\n",
    "\n",
    "# Data handling\n",
    "import matplotlib.pyplot as plt\n",
    "import pandas as pd\n",
    "import numpy as np\n",
    "import re\n",
    "\n",
    "# Computation\n",
    "import time\n",
    "\n",
    "# Folder related\n",
    "import os\n",
    "!mkdir data "
   ]
  },
  {
   "cell_type": "markdown",
   "metadata": {
    "id": "4f39a4bb"
   },
   "source": [
    "### Extracción de información (15 pts)"
   ]
  },
  {
   "cell_type": "code",
   "execution_count": null,
   "metadata": {
    "id": "pEACs4HHsAwO"
   },
   "outputs": [],
   "source": []
  },
  {
   "cell_type": "markdown",
   "metadata": {
    "id": "NYFTeyA8MIms"
   },
   "source": [
    "### Almacenamiento en DataFrame (2 pts)"
   ]
  },
  {
   "cell_type": "code",
   "execution_count": null,
   "metadata": {
    "id": "WxXAdirLMImt"
   },
   "outputs": [],
   "source": [
    "Y# Seleccione el path donde quiera guardar la data\n",
    "path_save_data = './data'\n",
    "\n",
    "if not os.path.isfile('{}/data_without_clean.pkl'.format(path_save_data)): \n",
    "    df_inicial = pd.DataFrame(#crear dataframe)\n",
    "    df_inicial.to_pickle('{}/data_without_clean.pkl'.format(path_save_data))\n",
    "    \n",
    "# Data guardada\n",
    "else: df_inicial = pd.read_pickle('data/data_without_clean.pkl')\n",
    "    \n",
    "df_inicial"
   ]
  },
  {
   "cell_type": "markdown",
   "metadata": {
    "id": "f87e8829"
   },
   "source": [
    "### Limpieza de datos y generación columnas de interés (17 pts)"
   ]
  },
  {
   "cell_type": "markdown",
   "metadata": {
    "id": "4ad5a165"
   },
   "source": [
    "**Limpieza general de los datos**"
   ]
  },
  {
   "cell_type": "code",
   "execution_count": null,
   "metadata": {
    "id": "KyUtJYFBlpg7"
   },
   "outputs": [],
   "source": []
  },
  {
   "cell_type": "markdown",
   "metadata": {
    "id": "b2d9d5e7"
   },
   "source": [
    "**Generamos columnas de interes**"
   ]
  },
  {
   "cell_type": "code",
   "execution_count": null,
   "metadata": {
    "id": "go9Lh2uJlp7r"
   },
   "outputs": [],
   "source": []
  },
  {
   "cell_type": "markdown",
   "metadata": {
    "id": "fd9f50c5"
   },
   "source": [
    "**Exploración de los datos \"limpios\"**"
   ]
  },
  {
   "cell_type": "code",
   "execution_count": null,
   "metadata": {
    "id": "3ZSFnx9Llqel"
   },
   "outputs": [],
   "source": []
  },
  {
   "cell_type": "markdown",
   "metadata": {
    "id": "88f8962d"
   },
   "source": [
    "**Falta limpiar las marcas de las tiendas.**\n",
    "\n",
    "En este caso no trabajaremos con los precios de las tiendas que incluyan accesorios, ya que **pueden sesgar el precio de los Notebooks** propiamente tal. Para esto **eliminarmos las filas que contengan tiendas con la palabra \"Incluye\"**."
   ]
  },
  {
   "cell_type": "code",
   "execution_count": null,
   "metadata": {
    "id": "GDGCiDeilsSa"
   },
   "outputs": [],
   "source": []
  },
  {
   "cell_type": "markdown",
   "metadata": {
    "id": "c77a7755"
   },
   "source": [
    "**Se guardan los datos limpios y extraídos en un csv.**"
   ]
  },
  {
   "cell_type": "code",
   "execution_count": null,
   "metadata": {
    "id": "NI89xjx-WCSR"
   },
   "outputs": [],
   "source": [
    "#guarda el dataframe en un archivo pickle\n",
    "df_final_clean.to_pickle('data/data_clean_notebooks.pkl')"
   ]
  },
  {
   "cell_type": "markdown",
   "metadata": {
    "id": "96a40bc7"
   },
   "source": [
    "## 2. Manejo de datos (13 ptos)\n",
    "\n",
    "En primera instancia a la emprendedora le gustaría un análisis de filtrado de los Notebooks a nivel de tienda y marca. Para esto le piden a usted que responda las siguientes preguntas:"
   ]
  },
  {
   "cell_type": "markdown",
   "metadata": {
    "id": "0b645d54"
   },
   "source": [
    "### Pregunta 2.1 (3 ptos):\n",
    "\n",
    "Entregue una tabla:\n",
    "\n",
    "*   Notebooks que tengan el precio normal entre mínimo $400.000$ mil y máximo $800.000$ mil, que sean Intel Core i7 y que tengan 16 o menos GB de RAM.\n",
    "\n"
   ]
  },
  {
   "cell_type": "code",
   "execution_count": null,
   "metadata": {
    "id": "TCTyK1J0sY9V"
   },
   "outputs": [],
   "source": []
  },
  {
   "cell_type": "markdown",
   "metadata": {
    "id": "ad4508c6"
   },
   "source": [
    "### Pregunta 2.2 (2 pts - bonus): \n",
    "\n",
    "* ¿Cuáles marcas y tiendas venden Notebooks en el mercado chileno de acuerdo con solotodo?\n",
    "* ¿Cuántas marcas y tiendas venden Notebooks en el mercado chileno de acuerdo con solotodo?\n",
    "\n",
    "Utilice la primera palabra del nombre del Notebook como la marca."
   ]
  },
  {
   "cell_type": "code",
   "execution_count": null,
   "metadata": {
    "id": "z9or381nqnc9"
   },
   "outputs": [],
   "source": []
  },
  {
   "cell_type": "markdown",
   "metadata": {
    "id": "6dac7ae1"
   },
   "source": [
    "### Pregunta 2.3 (2 pts - bonus):\n",
    "\n",
    "¿Cuál es la cantidad de Notebooks que se venden por marca (considere todos los Notebooks, independiente si se vende en otra tienda o no). Para esto se le pide la siguiente tabla:\n",
    "\n",
    "| Marca | Cantidad |\n",
    "|:-----------:|:------:|\n",
    "| Asus\t |38\n",
    "| Apple | 286 |\n",
    "| HP | 462 |\n",
    "| ... | ... |\n",
    "\n",
    "Ademas, con esta información construya un gráfico de barras. Para esto pueden utilizar la librería **Matplotlib**. \n",
    "\n",
    "**Reminder:** Un gráfico siempre debe tener título y labels en el eje x e y."
   ]
  },
  {
   "cell_type": "code",
   "execution_count": null,
   "metadata": {
    "id": "A0uwxV_SstKH"
   },
   "outputs": [],
   "source": []
  },
  {
   "cell_type": "markdown",
   "metadata": {
    "id": "2c527d90"
   },
   "source": [
    "### Pregunta 2.4 (6 pts - bonus):\n",
    "\n",
    "- Muestre en una tabla los precios normales promedios de todas las marcas (redondeé a dos decimales) y luego las estadísticas descriptivas (desviación estándar, promedio, valor máximo y mínimo) de las 3 marcas de Notebooks que tengan el mayor precio normal promedio y las 2 marcas que tengan el menor precio normal promedio (considere todos los Notebooks).\n",
    "\n",
    "    *Ejemplo (primera tabla).*\n",
    "\n",
    "| Marca | Precio normal promedio |\n",
    "|:----------------:|:----------------:|\n",
    "|  Marca 1 | 4.100.000 |\n",
    "| ... | ... |\n",
    "| Marca 26 | 250.000 |\n",
    "\n",
    "- Entregue una tabla con los 30 Notebooks con mayor descuento (precio normal - precio oferta). La tabla debe contener los descuentos de mayor a menor y sin repetición de un mismo notebook en diferentes tiendas (mantenga el Notebook de una misma tienda con el descuento mayor).\n",
    "\n",
    "    *Ejemplo.*\n",
    "\n",
    "| Tienda | Nombre | Precio normal | Precio oferta | Descuento |\n",
    "|:----------------:|:----------------:|:----------------:|:----------------:|:----------------:|\n",
    "| Tienda x |  Nombre 1 | 900.000 |  830.000 | 70.000 |\n",
    "| ... | ... | ... | ... | ... |\n",
    "| Tienda x | Nombre 30 | 643.000 | 603.000 | 40.000 |\n",
    "\n"
   ]
  },
  {
   "cell_type": "code",
   "execution_count": null,
   "metadata": {
    "id": "2UqvGkZksuFR"
   },
   "outputs": [],
   "source": []
  },
  {
   "cell_type": "markdown",
   "metadata": {
    "id": "02dcbbe2"
   },
   "source": [
    "## 3. Clasificación (23 ptos)"
   ]
  },
  {
   "cell_type": "markdown",
   "metadata": {
    "id": "sQQjm30uQSOp"
   },
   "source": [
    "Para resolver el segundo problema (encontrar una relación entre las funciones de un Notebook\n",
    "y su precio de venta), en primera instancia, se le ocurre formular un problema de clasificación en\n",
    "vez de ir directo a uno de regresión. Es decir, se le ocurre formular un modelo que permita clasificar\n",
    "un celular entre ciertos rangos de precios de acuerdo con las características que este tiene. Los\n",
    "rangos de precios que usted debe generar para predecir (etiquetas) son los siguientes:\n",
    "\n",
    "| Etiqueta | Precio | Rango |\n",
    "|:----------------:|:----------------:|:----------------:|\n",
    "| 0 | Bajo | [0 – 500.000) |\n",
    "| 1 | Medio | [500.000 – 700.000) |\n",
    "| 2 | Alto | [700.000 – más) |\n"
   ]
  },
  {
   "cell_type": "markdown",
   "metadata": {
    "id": "VNkgO0-xtqWA"
   },
   "source": [
    "**Consideraciones:**\n",
    "- En esta tarea no tiene que predecir el precio real, sino más bien, debe\n",
    "clasificar en qué rango de precios estará un celular de acuerdo con sus características.\n",
    "- Revise que las variables de una misma columna estén en la misma unidad de medida.\n",
    "- Para la clasificación usted puede utilizar las carcterísticas que estime conveniente, el único requisito es justificar sus decisiones. \n",
    "- Siguiendo la misma lógica del punto anterior, puede eliminar filas si aclara y menciona su eliminación.\n"
   ]
  },
  {
   "cell_type": "markdown",
   "metadata": {
    "id": "741022f7"
   },
   "source": [
    "### Preparación datos\n",
    "\n",
    "Si dentro de esta etapa toma ciertas decisiones sobre el conjunto de datos, dejelas por escrita."
   ]
  },
  {
   "cell_type": "markdown",
   "metadata": {
    "id": "0500b0bc"
   },
   "source": [
    "#### 1.1 Preprocese los datos para entrenar un algoritmo de Machine Learning. (3 pts)\n",
    "\n",
    "Debe crear las etiquetas mencionadas en el enunciado, para esto se recomienda el uso de filtros para la creación de las etiquetas."
   ]
  },
  {
   "cell_type": "code",
   "execution_count": null,
   "metadata": {
    "id": "f8d706c3"
   },
   "outputs": [],
   "source": []
  },
  {
   "cell_type": "markdown",
   "metadata": {
    "id": "2bd58412"
   },
   "source": [
    "#### 1.2 Divida el conjunto de datos en entrenamiento, validación y test. (3 pts)"
   ]
  },
  {
   "cell_type": "code",
   "execution_count": null,
   "metadata": {
    "id": "284313c8"
   },
   "outputs": [],
   "source": []
  },
  {
   "cell_type": "markdown",
   "metadata": {
    "id": "c072bdcb"
   },
   "source": [
    "### Modelamiento\n",
    "\n",
    "Se espera que entrene el modelo con los datos de entrenamiento y busqué los mejores hiperparametros sobre el conjunto de validación. Recuerde utilizar las métricas vistas en clases."
   ]
  },
  {
   "cell_type": "markdown",
   "metadata": {
    "id": "c17b2696"
   },
   "source": [
    "#### 1.3 Entrene el algoritmo sobre el conjunto de entrenamiento. (5 pts)"
   ]
  },
  {
   "cell_type": "code",
   "execution_count": null,
   "metadata": {
    "id": "247f02fc"
   },
   "outputs": [],
   "source": []
  },
  {
   "cell_type": "markdown",
   "metadata": {
    "id": "4e17d1c7"
   },
   "source": [
    "#### 1.4 Valide sus resultados. (5 pts)"
   ]
  },
  {
   "cell_type": "code",
   "execution_count": null,
   "metadata": {
    "id": "e9998fab"
   },
   "outputs": [],
   "source": []
  },
  {
   "cell_type": "markdown",
   "metadata": {
    "id": "8fc6fca9"
   },
   "source": [
    "### Modelo en producción (7 pts)\n",
    "\n",
    "Luego de asegurarse de que encontró los mejores hiperparametros para el modelo, debe ponerlo en producción. Para esto se utilizaran los datos de test (es muy importante que estos datos no hayan sido utilizados antes), ya que esto permite evaluar el desempeño de su modelo sobre datos que no se tienen disponibles en la práctica."
   ]
  },
  {
   "cell_type": "markdown",
   "metadata": {
    "id": "dcd21949"
   },
   "source": [
    "#### 1.5 Pruebe el algoritmo sobre datos con los que no ha trabajado antes (datos de test). (2 pts)"
   ]
  },
  {
   "cell_type": "code",
   "execution_count": null,
   "metadata": {
    "id": "d72e7cad"
   },
   "outputs": [],
   "source": []
  },
  {
   "cell_type": "markdown",
   "metadata": {
    "id": "290312b6"
   },
   "source": [
    "#### 1.6 Concluya los resultados obtenidos, tanto para el conjunto de validación, como para el conjunto de test. (5 pts)"
   ]
  },
  {
   "cell_type": "code",
   "execution_count": null,
   "metadata": {
    "id": "46b7768a"
   },
   "outputs": [],
   "source": []
  }
 ],
 "metadata": {
  "colab": {
   "provenance": [],
   "toc_visible": true
  },
  "kernelspec": {
   "display_name": "Python 3",
   "language": "python",
   "name": "python3"
  },
  "language_info": {
   "codemirror_mode": {
    "name": "ipython",
    "version": 3
   },
   "file_extension": ".py",
   "mimetype": "text/x-python",
   "name": "python",
   "nbconvert_exporter": "python",
   "pygments_lexer": "ipython3",
   "version": "3.7.3"
  },
  "vscode": {
   "interpreter": {
    "hash": "99dbe7d137ab5e4dabafce500ed6bbf0d5f642a9ac691b75854551f3d54cce9c"
   }
  }
 },
 "nbformat": 4,
 "nbformat_minor": 5
}
