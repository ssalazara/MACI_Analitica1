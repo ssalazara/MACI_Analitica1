{
  "cells": [
    {
      "cell_type": "markdown",
      "metadata": {
        "id": "view-in-github",
        "colab_type": "text"
      },
      "source": [
        "<a href=\"https://colab.research.google.com/github/ssalazara/MACI_Analitica1/blob/main/Analitica_Tarea1.ipynb\" target=\"_parent\"><img src=\"https://colab.research.google.com/assets/colab-badge.svg\" alt=\"Open In Colab\"/></a>"
      ]
    },
    {
      "cell_type": "markdown",
      "metadata": {
        "id": "1d43c1ee"
      },
      "source": [
        "# Tarea 1. \n",
        "\n",
        "## Web scraping, Manejo de datos y Clasificación.\n",
        "\n",
        "\n",
        "**Ayudante:** Martina Cádiz (mcadiz2018@inf.udec.cl)\n",
        "\n",
        "---\n",
        "\n",
        "\n",
        "La tarea debe ser subida a la plataforma en un archivo con el formato **NombreApellido_tarea1.zip**. Este debe contener el código solicitado, junto con el conjunto de datos utilizado. \n",
        "\n",
        "\n",
        "\n",
        "\n",
        "\n",
        "---\n",
        "---"
      ],
      "id": "1d43c1ee"
    },
    {
      "cell_type": "markdown",
      "metadata": {
        "id": "15810f00"
      },
      "source": [
        "## 1. Web scraping (47 ptos)\n",
        "\n",
        "Una emprendedora ha comenzado su propia empresa de Notebooks y quieren dar una dura pelea a las grandes empresas como Apple, Asus, HP, etc. Para esto contrataron a una empresa consultora quien les realizo un estudio de mercado, técnico y financiero que les permitió reunir información relevante sobre la industria, el mercado, los costos de los materiales y cómo seria su rentabilidad de aquí a un cierto horizonte de tiempo. Sin embargo, a ellos también les gustaría tener información actualizada, en todo momento, de los precios de ventas de sus competidores, así como también, un análisis actual de los precios a nivel de tienda y marca. Ella no tiene conocimientos de Análisis de Datos y de Machine Learning, por ende, lo/la contrata a usted para que realice este proyecto.\n",
        "\n",
        "En primer lugar, ella le comenta que no cuenta con una base de datos disponible para realizar algún\n",
        "análisis y que le gustaría obtener información actualizada del precio al cual están vendiendo los\n",
        "productos sus competidores. Además, otro de los problemas iniciales que surgieron es que no sabe\n",
        "cómo estimar el precio de los móviles que fabricará su empresa, y que no le gustaría simplemente\n",
        "asumir cosas. Por lo tanto, ella le solicita a usted:\n",
        "\n",
        "1. Que genere un código que permita extraer la información de Notebooks de la página www.solotodo.cl/notebooks, ya que recopila información de varias tiendas y marcas diferentes y no tiene restricciones de extracción de datos mediante técnicas de scrapping. Debe extraer hasta la **página 90**.\n",
        "\n",
        "2. Que averigüe alguna relación entre las funciones de los Notebooks y su precio de venta. (Luego de recopilar los datos de ventas).\n",
        "\n"
      ],
      "id": "15810f00"
    },
    {
      "cell_type": "markdown",
      "metadata": {
        "id": "4aff2aa8"
      },
      "source": [
        "### Los datos que le interesa a la emprendedora son los siguientes:\n",
        "\n",
        "**Información que se puede extraer desde la página general:**\n",
        "\n",
        "- Nombre Notebook (id)\n",
        "- Marca Notebook\n",
        "\n",
        "*Procesador:*\n",
        "- Modelo procesador\n",
        "\n",
        "*RAM:*\n",
        "- GB\n",
        "       \n",
        "*Almacenamiento: (se pedirá extraer el tipo de memoria y sus GB, en caso de que tenga más de una se debe seleccionar la primera)* \n",
        "- Tipo de disco duro \n",
        "- GB\n",
        "    \n",
        "*Tarjeta de video:*\n",
        "- Marca GPU dedicada\n",
        "- GB dedicada\n",
        "    \n",
        "**Información que deberán extraer dentro de cada producto:**\n",
        "- Tabla de precios de los computadores en las diferentes tiendas\n",
        "\n",
        "Como habrán aprendido en clases, en el proceso de recolección de datos no siempre encontrarán toda la información en cada uno de los productos, por lo cual deberán decidir en cómo trabajar con estos tipos de datos faltantes. Para esto tendrán que explicar cada decisión tomada para la representación de estos. Para efectos de revisión, todos los datos obtenidos deberán ser guardados en un archivo \".pkl\" (pickle), ya que la página es actualizada constantemente.\n",
        "\n",
        "**Resumen:** \n",
        "\n",
        "En la primera parte se espera que: \n",
        "1. Extraigan la información **(15 pts)**,\n",
        "2. La almacenen en un DataFrame (información y precios) **(2 pts)**,\n",
        "3. Que limpien los datos **(7 pts)**, \n",
        "4. Generen las variables de interes correspondientes (columnas) **(7 pts)**,\n",
        "5. Que expliquen las decisiones tomadas y guarden los datos trabajados en un archivo “.pkl” **(3 pts)**,\n",
        "6. Y que respondan preguntas relacionadas a los datos **(13 pts)**.\n",
        "\n",
        "En la segunda parte se evaluará que:\n",
        "1. Preprocesen los datos **(3 pts)**,\n",
        "2. Dividan los conjuntos de datos **(3 pts)**,\n",
        "3. Entrenen algún algoritmo sobre los datos de entrenamiento **(5 pts)**,\n",
        "4. Validen sus resultados con el uso de validación cruzada **(5 pts)**,\n",
        "5. Realicen un testeo **(2 pts)**,\n",
        "6. Por último que extraigan conclusiones **(5 pts)**.\n",
        "\n"
      ],
      "id": "4aff2aa8"
    },
    {
      "cell_type": "markdown",
      "metadata": {
        "id": "a583bb7f"
      },
      "source": [
        "### Librerías"
      ],
      "id": "a583bb7f"
    },
    {
      "cell_type": "code",
      "execution_count": 2,
      "metadata": {
        "colab": {
          "base_uri": "https://localhost:8080/"
        },
        "id": "b9351ab2",
        "outputId": "394b0747-f8ba-4002-eda0-937fa2a0073d"
      },
      "outputs": [
        {
          "output_type": "stream",
          "name": "stdout",
          "text": [
            "\u001b[K     |████████████████████████████████| 57 kB 1.9 MB/s \n",
            "\u001b[K     |████████████████████████████████| 1.6 MB 9.7 MB/s \n",
            "\u001b[?25hLooking in indexes: https://pypi.org/simple, https://us-python.pkg.dev/colab-wheels/public/simple/\n",
            "Requirement already satisfied: requests in /usr/local/lib/python3.8/dist-packages (2.23.0)\n",
            "Requirement already satisfied: idna<3,>=2.5 in /usr/local/lib/python3.8/dist-packages (from requests) (2.10)\n",
            "Requirement already satisfied: certifi>=2017.4.17 in /usr/local/lib/python3.8/dist-packages (from requests) (2022.9.24)\n",
            "Requirement already satisfied: chardet<4,>=3.0.2 in /usr/local/lib/python3.8/dist-packages (from requests) (3.0.4)\n",
            "Requirement already satisfied: urllib3!=1.25.0,!=1.25.1,<1.26,>=1.21.1 in /usr/local/lib/python3.8/dist-packages (from requests) (1.24.3)\n",
            "Looking in indexes: https://pypi.org/simple, https://us-python.pkg.dev/colab-wheels/public/simple/\n",
            "Requirement already satisfied: bs4 in /usr/local/lib/python3.8/dist-packages (0.0.1)\n",
            "Requirement already satisfied: beautifulsoup4 in /usr/local/lib/python3.8/dist-packages (from bs4) (4.6.3)\n"
          ]
        }
      ],
      "source": [
        "# Recuerde utilizar el chromedriver.exe de acuerdo a la explicación que se dio en la práctica para que no tenga problemas\n",
        "!pip install kora -q\n",
        "!pip install requests\n",
        "!pip install bs4"
      ],
      "id": "b9351ab2"
    },
    {
      "cell_type": "code",
      "execution_count": 3,
      "metadata": {
        "colab": {
          "base_uri": "https://localhost:8080/"
        },
        "id": "2356dfd6",
        "outputId": "e03b8e1f-5a8f-4b55-a702-a6d16bb8d3f7"
      },
      "outputs": [
        {
          "output_type": "stream",
          "name": "stderr",
          "text": [
            "/usr/local/lib/python3.8/dist-packages/requests/__init__.py:89: RequestsDependencyWarning: urllib3 (1.26.13) or chardet (3.0.4) doesn't match a supported version!\n",
            "  warnings.warn(\"urllib3 ({}) or chardet ({}) doesn't match a supported \"\n"
          ]
        }
      ],
      "source": [
        "  # Librerías\n",
        "\n",
        "# Web Scraping\n",
        "from kora.selenium import wd\n",
        "import requests\n",
        "import bs4\n",
        "\n",
        "# Data handling\n",
        "import matplotlib.pyplot as plt\n",
        "import pandas as pd\n",
        "import numpy as np\n",
        "import re\n",
        "\n",
        "# Computation\n",
        "import time as tm\n",
        "from time import time\n",
        "\n",
        "# Folder related\n",
        "import os\n",
        "!mkdir data \n",
        "\n",
        "# Guardar archivos\n",
        "import pickle\n",
        "\n",
        "# Warnings\n",
        "import warnings\n",
        "warnings.filterwarnings(action = \"ignore\")"
      ],
      "id": "2356dfd6"
    },
    {
      "cell_type": "markdown",
      "metadata": {
        "id": "4f39a4bb"
      },
      "source": [
        "### Extracción de información (15 pts)"
      ],
      "id": "4f39a4bb"
    },
    {
      "cell_type": "code",
      "execution_count": 4,
      "metadata": {
        "id": "pEACs4HHsAwO",
        "colab": {
          "base_uri": "https://localhost:8080/"
        },
        "outputId": "d1f11be4-abd8-4fe9-bac7-947f9392df46"
      },
      "outputs": [
        {
          "output_type": "stream",
          "name": "stdout",
          "text": [
            "Mounted at /content/drive\n"
          ]
        }
      ],
      "source": [
        "# Sincronización con drive para la gestión de archivos\n",
        "from google.colab import drive\n",
        "drive.mount('/content/drive')"
      ],
      "id": "pEACs4HHsAwO"
    },
    {
      "cell_type": "code",
      "source": [
        "# Creación de listas que contendrán las observaciones por cada notebook\n",
        "\n",
        "# URL de cada notebook, desde donde podemos extraer el ID\n",
        "url_product = []\n",
        "\n",
        "# Nombre del notebook\n",
        "names = []\n",
        "\n",
        "# Modelo de procesador\n",
        "processor = []\n",
        "\n",
        "# RAM del notebook en GB\n",
        "ram = []\n",
        "\n",
        "# Almacenamiento\n",
        "storage = []\n",
        "\n",
        "# Modelo de trajeta de video\n",
        "video = []"
      ],
      "metadata": {
        "id": "22jHxoKk60e1"
      },
      "id": "22jHxoKk60e1",
      "execution_count": null,
      "outputs": []
    },
    {
      "cell_type": "markdown",
      "source": [
        "Utilización de BS4 para la extracción de los datos"
      ],
      "metadata": {
        "id": "sfMY9X48_fuy"
      },
      "id": "sfMY9X48_fuy"
    },
    {
      "cell_type": "code",
      "source": [
        "#url página solotodo.cl\n",
        "\n",
        "url_general = 'https://www.solotodo.cl'\n",
        "type_technology='notebooks'\n",
        "contador = 1\n",
        "#ciclo para extraer la información del rango de páginas y llenar los listados\n",
        "\n",
        "for i in range (1, 91):\n",
        "  page_param = {'ordering': 'offer_price_usd', 'page': i}\n",
        "  res = requests.get('{}/{}'.format(url_general, type_technology), params=page_param)\n",
        "  soup = bs4.BeautifulSoup(res.text, 'lxml')\n",
        "  links = soup.find_all('div',  attrs = {'class' :\"d-flex flex-column category-browse-result\"})\n",
        "  print(\"Extrayendo información de la página número \" + str(contador)+ \" \" +str(res))\n",
        "  contador += 1\n",
        "\n",
        "  for link in links:\n",
        "    h3 = link.find('h3') \n",
        "    dl = link.find('dl') \n",
        "    dd = dl.find_all('dd') \n",
        "\n",
        "    url_product.append(url_general + str(h3.a['href'].strip())) # Debido a que el link captado es solo una parte del URL, se combina con los objetos ya generados\n",
        "    names.append(h3.a.text.strip())\n",
        "    processor.append(str(dd[0].text.strip()).replace('\\r\\n\\t\\t', '')) # Selecciona al primer elemento del listado dd, que contiene XXXX y reemplaza '\\r\\n\\t\\t' por nada\n",
        "    ram.append(str(dd[1].text.strip()))\n",
        "    storage.append(str(dd[3].text.strip()))\n",
        "    video.append(str(dd[4].text.strip()))\n"
      ],
      "metadata": {
        "id": "NAtWgFWCD1J4"
      },
      "id": "NAtWgFWCD1J4",
      "execution_count": null,
      "outputs": []
    },
    {
      "cell_type": "markdown",
      "source": [
        "Dataframe obtenido con el rango de páginas seleccionadas"
      ],
      "metadata": {
        "id": "T7rX7WV-_8U5"
      },
      "id": "T7rX7WV-_8U5"
    },
    {
      "cell_type": "code",
      "source": [
        "#creación de dataframe con la información obtenida de las 90 páginas\n",
        "df = pd.DataFrame({'name' : names , 'link' : url_product, 'processor' : processor, 'ram' : ram, 'storage' : storage, 'video' : video })"
      ],
      "metadata": {
        "id": "QZMUDS02_7-1"
      },
      "id": "QZMUDS02_7-1",
      "execution_count": null,
      "outputs": []
    },
    {
      "cell_type": "code",
      "source": [
        "#dataframe guardado en archivo .sav\n",
        "pickle.dump(df, open('drive/MyDrive/Colab Notebooks/tarea1_analitica/datos_tarea.sav', 'wb'))"
      ],
      "metadata": {
        "id": "aw3fiDy35tmx"
      },
      "id": "aw3fiDy35tmx",
      "execution_count": null,
      "outputs": []
    },
    {
      "cell_type": "code",
      "source": [
        "#carga de dataframe anterior desde archivo .sav, renombrado para posterior uso \n",
        "df_st = pickle.load(open('drive/MyDrive/Colab Notebooks/tarea1_analitica/datos_tarea.sav', \"rb\" ))"
      ],
      "metadata": {
        "id": "XWbQA8775ttK"
      },
      "id": "XWbQA8775ttK",
      "execution_count": null,
      "outputs": []
    },
    {
      "cell_type": "code",
      "source": [
        "df_st.head()"
      ],
      "metadata": {
        "id": "EulQ1_tTA9hl",
        "outputId": "1fe9a61d-1330-4fed-d28f-270c123f6998",
        "colab": {
          "base_uri": "https://localhost:8080/",
          "height": 206
        }
      },
      "id": "EulQ1_tTA9hl",
      "execution_count": null,
      "outputs": [
        {
          "output_type": "execute_result",
          "data": {
            "text/plain": [
              "                                                name  \\\n",
              "0  ASUS VivoBook BR1100CKA-GJ0447R [90NX03B1-M05860]   \n",
              "1   Lenovo IdeaPad 3 Chromebook 11IGL05 [82BA0000US]   \n",
              "2                                 EVOO EV-C-116-7-PR   \n",
              "3                Lenovo 100e Chromebook [82CD000BCS]   \n",
              "4                   HP Chromebook 11 G8 EE [1A978LT]   \n",
              "\n",
              "                                                link  \\\n",
              "0  https://www.solotodo.cl/products/122704-asus-v...   \n",
              "1  https://www.solotodo.cl/products/91770-lenovo-...   \n",
              "2  https://www.solotodo.cl/products/117893-evoo-e...   \n",
              "3  https://www.solotodo.cl/products/109341-lenovo...   \n",
              "4  https://www.solotodo.cl/products/89466-hp-chro...   \n",
              "\n",
              "                                           processor                     ram  \\\n",
              "0  Intel Celeron N4500 (2 núcleos / 2 hilos / 110...    4 GB DDR4 (3200 MHz)   \n",
              "1  Intel Celeron N4020 (2 núcleos / 2 hilos / 110...  4 GB LPDDR4 (2400 MHz)   \n",
              "2  Intel Celeron N4000 (2 núcleos / 2 hilos / 110...    4 GB DDR4 (2400 MHz)   \n",
              "3  AMD A4-9120C (2 núcleos / 2 hilos / 1600 MHz -...    4 GB DDR4 (1866 MHz)   \n",
              "4  Intel Celeron N4020 (2 núcleos / 2 hilos / 110...  4 GB LPDDR4 (3733 MHz)   \n",
              "\n",
              "     storage                                              video  \n",
              "0  eMMC 64GB   Intel UHD Graphics Jasper Lake 16 EU (Integrada)  \n",
              "1  eMMC 32GB                 Intel UHD Graphics 600 (Integrada)  \n",
              "2  eMMC 64GB                 Intel UHD Graphics 600 (Integrada)  \n",
              "3  eMMC 32GB  AMD Radeon R4 Graphics (Stoney Ridge) (Integrada)  \n",
              "4  eMMC 32GB                 Intel UHD Graphics 600 (Integrada)  "
            ],
            "text/html": [
              "\n",
              "  <div id=\"df-72d95680-95fc-4867-9726-ea30595f01c1\">\n",
              "    <div class=\"colab-df-container\">\n",
              "      <div>\n",
              "<style scoped>\n",
              "    .dataframe tbody tr th:only-of-type {\n",
              "        vertical-align: middle;\n",
              "    }\n",
              "\n",
              "    .dataframe tbody tr th {\n",
              "        vertical-align: top;\n",
              "    }\n",
              "\n",
              "    .dataframe thead th {\n",
              "        text-align: right;\n",
              "    }\n",
              "</style>\n",
              "<table border=\"1\" class=\"dataframe\">\n",
              "  <thead>\n",
              "    <tr style=\"text-align: right;\">\n",
              "      <th></th>\n",
              "      <th>name</th>\n",
              "      <th>link</th>\n",
              "      <th>processor</th>\n",
              "      <th>ram</th>\n",
              "      <th>storage</th>\n",
              "      <th>video</th>\n",
              "    </tr>\n",
              "  </thead>\n",
              "  <tbody>\n",
              "    <tr>\n",
              "      <th>0</th>\n",
              "      <td>ASUS VivoBook BR1100CKA-GJ0447R [90NX03B1-M05860]</td>\n",
              "      <td>https://www.solotodo.cl/products/122704-asus-v...</td>\n",
              "      <td>Intel Celeron N4500 (2 núcleos / 2 hilos / 110...</td>\n",
              "      <td>4 GB DDR4 (3200 MHz)</td>\n",
              "      <td>eMMC 64GB</td>\n",
              "      <td>Intel UHD Graphics Jasper Lake 16 EU (Integrada)</td>\n",
              "    </tr>\n",
              "    <tr>\n",
              "      <th>1</th>\n",
              "      <td>Lenovo IdeaPad 3 Chromebook 11IGL05 [82BA0000US]</td>\n",
              "      <td>https://www.solotodo.cl/products/91770-lenovo-...</td>\n",
              "      <td>Intel Celeron N4020 (2 núcleos / 2 hilos / 110...</td>\n",
              "      <td>4 GB LPDDR4 (2400 MHz)</td>\n",
              "      <td>eMMC 32GB</td>\n",
              "      <td>Intel UHD Graphics 600 (Integrada)</td>\n",
              "    </tr>\n",
              "    <tr>\n",
              "      <th>2</th>\n",
              "      <td>EVOO EV-C-116-7-PR</td>\n",
              "      <td>https://www.solotodo.cl/products/117893-evoo-e...</td>\n",
              "      <td>Intel Celeron N4000 (2 núcleos / 2 hilos / 110...</td>\n",
              "      <td>4 GB DDR4 (2400 MHz)</td>\n",
              "      <td>eMMC 64GB</td>\n",
              "      <td>Intel UHD Graphics 600 (Integrada)</td>\n",
              "    </tr>\n",
              "    <tr>\n",
              "      <th>3</th>\n",
              "      <td>Lenovo 100e Chromebook [82CD000BCS]</td>\n",
              "      <td>https://www.solotodo.cl/products/109341-lenovo...</td>\n",
              "      <td>AMD A4-9120C (2 núcleos / 2 hilos / 1600 MHz -...</td>\n",
              "      <td>4 GB DDR4 (1866 MHz)</td>\n",
              "      <td>eMMC 32GB</td>\n",
              "      <td>AMD Radeon R4 Graphics (Stoney Ridge) (Integrada)</td>\n",
              "    </tr>\n",
              "    <tr>\n",
              "      <th>4</th>\n",
              "      <td>HP Chromebook 11 G8 EE [1A978LT]</td>\n",
              "      <td>https://www.solotodo.cl/products/89466-hp-chro...</td>\n",
              "      <td>Intel Celeron N4020 (2 núcleos / 2 hilos / 110...</td>\n",
              "      <td>4 GB LPDDR4 (3733 MHz)</td>\n",
              "      <td>eMMC 32GB</td>\n",
              "      <td>Intel UHD Graphics 600 (Integrada)</td>\n",
              "    </tr>\n",
              "  </tbody>\n",
              "</table>\n",
              "</div>\n",
              "      <button class=\"colab-df-convert\" onclick=\"convertToInteractive('df-72d95680-95fc-4867-9726-ea30595f01c1')\"\n",
              "              title=\"Convert this dataframe to an interactive table.\"\n",
              "              style=\"display:none;\">\n",
              "        \n",
              "  <svg xmlns=\"http://www.w3.org/2000/svg\" height=\"24px\"viewBox=\"0 0 24 24\"\n",
              "       width=\"24px\">\n",
              "    <path d=\"M0 0h24v24H0V0z\" fill=\"none\"/>\n",
              "    <path d=\"M18.56 5.44l.94 2.06.94-2.06 2.06-.94-2.06-.94-.94-2.06-.94 2.06-2.06.94zm-11 1L8.5 8.5l.94-2.06 2.06-.94-2.06-.94L8.5 2.5l-.94 2.06-2.06.94zm10 10l.94 2.06.94-2.06 2.06-.94-2.06-.94-.94-2.06-.94 2.06-2.06.94z\"/><path d=\"M17.41 7.96l-1.37-1.37c-.4-.4-.92-.59-1.43-.59-.52 0-1.04.2-1.43.59L10.3 9.45l-7.72 7.72c-.78.78-.78 2.05 0 2.83L4 21.41c.39.39.9.59 1.41.59.51 0 1.02-.2 1.41-.59l7.78-7.78 2.81-2.81c.8-.78.8-2.07 0-2.86zM5.41 20L4 18.59l7.72-7.72 1.47 1.35L5.41 20z\"/>\n",
              "  </svg>\n",
              "      </button>\n",
              "      \n",
              "  <style>\n",
              "    .colab-df-container {\n",
              "      display:flex;\n",
              "      flex-wrap:wrap;\n",
              "      gap: 12px;\n",
              "    }\n",
              "\n",
              "    .colab-df-convert {\n",
              "      background-color: #E8F0FE;\n",
              "      border: none;\n",
              "      border-radius: 50%;\n",
              "      cursor: pointer;\n",
              "      display: none;\n",
              "      fill: #1967D2;\n",
              "      height: 32px;\n",
              "      padding: 0 0 0 0;\n",
              "      width: 32px;\n",
              "    }\n",
              "\n",
              "    .colab-df-convert:hover {\n",
              "      background-color: #E2EBFA;\n",
              "      box-shadow: 0px 1px 2px rgba(60, 64, 67, 0.3), 0px 1px 3px 1px rgba(60, 64, 67, 0.15);\n",
              "      fill: #174EA6;\n",
              "    }\n",
              "\n",
              "    [theme=dark] .colab-df-convert {\n",
              "      background-color: #3B4455;\n",
              "      fill: #D2E3FC;\n",
              "    }\n",
              "\n",
              "    [theme=dark] .colab-df-convert:hover {\n",
              "      background-color: #434B5C;\n",
              "      box-shadow: 0px 1px 3px 1px rgba(0, 0, 0, 0.15);\n",
              "      filter: drop-shadow(0px 1px 2px rgba(0, 0, 0, 0.3));\n",
              "      fill: #FFFFFF;\n",
              "    }\n",
              "  </style>\n",
              "\n",
              "      <script>\n",
              "        const buttonEl =\n",
              "          document.querySelector('#df-72d95680-95fc-4867-9726-ea30595f01c1 button.colab-df-convert');\n",
              "        buttonEl.style.display =\n",
              "          google.colab.kernel.accessAllowed ? 'block' : 'none';\n",
              "\n",
              "        async function convertToInteractive(key) {\n",
              "          const element = document.querySelector('#df-72d95680-95fc-4867-9726-ea30595f01c1');\n",
              "          const dataTable =\n",
              "            await google.colab.kernel.invokeFunction('convertToInteractive',\n",
              "                                                     [key], {});\n",
              "          if (!dataTable) return;\n",
              "\n",
              "          const docLinkHtml = 'Like what you see? Visit the ' +\n",
              "            '<a target=\"_blank\" href=https://colab.research.google.com/notebooks/data_table.ipynb>data table notebook</a>'\n",
              "            + ' to learn more about interactive tables.';\n",
              "          element.innerHTML = '';\n",
              "          dataTable['output_type'] = 'display_data';\n",
              "          await google.colab.output.renderOutput(dataTable, element);\n",
              "          const docLink = document.createElement('div');\n",
              "          docLink.innerHTML = docLinkHtml;\n",
              "          element.appendChild(docLink);\n",
              "        }\n",
              "      </script>\n",
              "    </div>\n",
              "  </div>\n",
              "  "
            ]
          },
          "metadata": {},
          "execution_count": 5
        }
      ]
    },
    {
      "cell_type": "code",
      "source": [
        "df_st.shape"
      ],
      "metadata": {
        "colab": {
          "base_uri": "https://localhost:8080/"
        },
        "id": "j_nmabp_52Dg",
        "outputId": "0ebb5a40-4599-4ffc-9ac9-589d10f1b849"
      },
      "id": "j_nmabp_52Dg",
      "execution_count": null,
      "outputs": [
        {
          "output_type": "execute_result",
          "data": {
            "text/plain": [
              "(1080, 6)"
            ]
          },
          "metadata": {},
          "execution_count": 6
        }
      ]
    },
    {
      "cell_type": "code",
      "source": [
        "df = df_st.copy()"
      ],
      "metadata": {
        "id": "RzrSvqaR7YGd"
      },
      "id": "RzrSvqaR7YGd",
      "execution_count": null,
      "outputs": []
    },
    {
      "cell_type": "code",
      "source": [
        "df"
      ],
      "metadata": {
        "colab": {
          "base_uri": "https://localhost:8080/",
          "height": 424
        },
        "id": "mxdnry387ccS",
        "outputId": "75966ace-a2dd-487d-b5d3-1e9d29b5e494"
      },
      "id": "mxdnry387ccS",
      "execution_count": null,
      "outputs": [
        {
          "output_type": "execute_result",
          "data": {
            "text/plain": [
              "                                                   name  \\\n",
              "0     ASUS VivoBook BR1100CKA-GJ0447R [90NX03B1-M05860]   \n",
              "1      Lenovo IdeaPad 3 Chromebook 11IGL05 [82BA0000US]   \n",
              "2                                    EVOO EV-C-116-7-PR   \n",
              "3                   Lenovo 100e Chromebook [82CD000BCS]   \n",
              "4                      HP Chromebook 11 G8 EE [1A978LT]   \n",
              "...                                                 ...   \n",
              "1075                        Dell G5 Gaming 5525 [5CFYD]   \n",
              "1076            Lenovo ThinkBook 14 G2 ITL [20VD0075CL]   \n",
              "1077    Dell Latitude 7400 (i5-8365U / 8GB / 256GB SSD)   \n",
              "1078              Lenovo IdeaPad 5 14ARE05 [81YM0061US]   \n",
              "1079   ASUS Zenbook 13 UX325EA-LR580W [90NB0SL1-M14530]   \n",
              "\n",
              "                                                   link  \\\n",
              "0     https://www.solotodo.cl/products/122704-asus-v...   \n",
              "1     https://www.solotodo.cl/products/91770-lenovo-...   \n",
              "2     https://www.solotodo.cl/products/117893-evoo-e...   \n",
              "3     https://www.solotodo.cl/products/109341-lenovo...   \n",
              "4     https://www.solotodo.cl/products/89466-hp-chro...   \n",
              "...                                                 ...   \n",
              "1075  https://www.solotodo.cl/products/155117-dell-g...   \n",
              "1076  https://www.solotodo.cl/products/128812-lenovo...   \n",
              "1077  https://www.solotodo.cl/products/85951-dell-la...   \n",
              "1078  https://www.solotodo.cl/products/128874-lenovo...   \n",
              "1079  https://www.solotodo.cl/products/147548-asus-z...   \n",
              "\n",
              "                                              processor  \\\n",
              "0     Intel Celeron N4500 (2 núcleos / 2 hilos / 110...   \n",
              "1     Intel Celeron N4020 (2 núcleos / 2 hilos / 110...   \n",
              "2     Intel Celeron N4000 (2 núcleos / 2 hilos / 110...   \n",
              "3     AMD A4-9120C (2 núcleos / 2 hilos / 1600 MHz -...   \n",
              "4     Intel Celeron N4020 (2 núcleos / 2 hilos / 110...   \n",
              "...                                                 ...   \n",
              "1075  AMD Ryzen 5 6600H (6 núcleos / 12 hilos / 3300...   \n",
              "1076  Intel Core i5-1135G7 (4 núcleos / 8 hilos / 24...   \n",
              "1077  Intel Core i5-8365U (4 núcleos / 8 hilos / 160...   \n",
              "1078  AMD Ryzen 7 4700U (8 núcleos / 8 hilos / 2000 ...   \n",
              "1079  Intel Core i7-1165G7 (4 núcleos / 8 hilos / 28...   \n",
              "\n",
              "                           ram    storage  \\\n",
              "0         4 GB DDR4 (3200 MHz)  eMMC 64GB   \n",
              "1       4 GB LPDDR4 (2400 MHz)  eMMC 32GB   \n",
              "2         4 GB DDR4 (2400 MHz)  eMMC 64GB   \n",
              "3         4 GB DDR4 (1866 MHz)  eMMC 32GB   \n",
              "4       4 GB LPDDR4 (3733 MHz)  eMMC 32GB   \n",
              "...                        ...        ...   \n",
              "1075      8 GB DDR5 (4800 MHz)  SSD 512GB   \n",
              "1076      8 GB DDR4 (3200 MHz)  SSD 256GB   \n",
              "1077      8 GB DDR4 (2400 MHz)  SSD 256GB   \n",
              "1078      8 GB DDR4 (3200 MHz)  SSD 256GB   \n",
              "1079  16 GB LPDDR4X (4267 MHz)  SSD 512GB   \n",
              "\n",
              "                                                  video  \n",
              "0      Intel UHD Graphics Jasper Lake 16 EU (Integrada)  \n",
              "1                    Intel UHD Graphics 600 (Integrada)  \n",
              "2                    Intel UHD Graphics 600 (Integrada)  \n",
              "3     AMD Radeon R4 Graphics (Stoney Ridge) (Integrada)  \n",
              "4                    Intel UHD Graphics 600 (Integrada)  \n",
              "...                                                 ...  \n",
              "1075  AMD Radeon 660M (Integrada)\\nNVIDIA GeForce RT...  \n",
              "1076        Intel Iris Xe Graphics G7 80EUs (Integrada)  \n",
              "1077                 Intel UHD Graphics 620 (Integrada)  \n",
              "1078                   AMD Radeon RX Vega 7 (Integrada)  \n",
              "1079        Intel Iris Xe Graphics G7 96EUs (Integrada)  \n",
              "\n",
              "[1080 rows x 6 columns]"
            ],
            "text/html": [
              "\n",
              "  <div id=\"df-da2543ce-0ee4-468b-b233-6709cdbd2590\">\n",
              "    <div class=\"colab-df-container\">\n",
              "      <div>\n",
              "<style scoped>\n",
              "    .dataframe tbody tr th:only-of-type {\n",
              "        vertical-align: middle;\n",
              "    }\n",
              "\n",
              "    .dataframe tbody tr th {\n",
              "        vertical-align: top;\n",
              "    }\n",
              "\n",
              "    .dataframe thead th {\n",
              "        text-align: right;\n",
              "    }\n",
              "</style>\n",
              "<table border=\"1\" class=\"dataframe\">\n",
              "  <thead>\n",
              "    <tr style=\"text-align: right;\">\n",
              "      <th></th>\n",
              "      <th>name</th>\n",
              "      <th>link</th>\n",
              "      <th>processor</th>\n",
              "      <th>ram</th>\n",
              "      <th>storage</th>\n",
              "      <th>video</th>\n",
              "    </tr>\n",
              "  </thead>\n",
              "  <tbody>\n",
              "    <tr>\n",
              "      <th>0</th>\n",
              "      <td>ASUS VivoBook BR1100CKA-GJ0447R [90NX03B1-M05860]</td>\n",
              "      <td>https://www.solotodo.cl/products/122704-asus-v...</td>\n",
              "      <td>Intel Celeron N4500 (2 núcleos / 2 hilos / 110...</td>\n",
              "      <td>4 GB DDR4 (3200 MHz)</td>\n",
              "      <td>eMMC 64GB</td>\n",
              "      <td>Intel UHD Graphics Jasper Lake 16 EU (Integrada)</td>\n",
              "    </tr>\n",
              "    <tr>\n",
              "      <th>1</th>\n",
              "      <td>Lenovo IdeaPad 3 Chromebook 11IGL05 [82BA0000US]</td>\n",
              "      <td>https://www.solotodo.cl/products/91770-lenovo-...</td>\n",
              "      <td>Intel Celeron N4020 (2 núcleos / 2 hilos / 110...</td>\n",
              "      <td>4 GB LPDDR4 (2400 MHz)</td>\n",
              "      <td>eMMC 32GB</td>\n",
              "      <td>Intel UHD Graphics 600 (Integrada)</td>\n",
              "    </tr>\n",
              "    <tr>\n",
              "      <th>2</th>\n",
              "      <td>EVOO EV-C-116-7-PR</td>\n",
              "      <td>https://www.solotodo.cl/products/117893-evoo-e...</td>\n",
              "      <td>Intel Celeron N4000 (2 núcleos / 2 hilos / 110...</td>\n",
              "      <td>4 GB DDR4 (2400 MHz)</td>\n",
              "      <td>eMMC 64GB</td>\n",
              "      <td>Intel UHD Graphics 600 (Integrada)</td>\n",
              "    </tr>\n",
              "    <tr>\n",
              "      <th>3</th>\n",
              "      <td>Lenovo 100e Chromebook [82CD000BCS]</td>\n",
              "      <td>https://www.solotodo.cl/products/109341-lenovo...</td>\n",
              "      <td>AMD A4-9120C (2 núcleos / 2 hilos / 1600 MHz -...</td>\n",
              "      <td>4 GB DDR4 (1866 MHz)</td>\n",
              "      <td>eMMC 32GB</td>\n",
              "      <td>AMD Radeon R4 Graphics (Stoney Ridge) (Integrada)</td>\n",
              "    </tr>\n",
              "    <tr>\n",
              "      <th>4</th>\n",
              "      <td>HP Chromebook 11 G8 EE [1A978LT]</td>\n",
              "      <td>https://www.solotodo.cl/products/89466-hp-chro...</td>\n",
              "      <td>Intel Celeron N4020 (2 núcleos / 2 hilos / 110...</td>\n",
              "      <td>4 GB LPDDR4 (3733 MHz)</td>\n",
              "      <td>eMMC 32GB</td>\n",
              "      <td>Intel UHD Graphics 600 (Integrada)</td>\n",
              "    </tr>\n",
              "    <tr>\n",
              "      <th>...</th>\n",
              "      <td>...</td>\n",
              "      <td>...</td>\n",
              "      <td>...</td>\n",
              "      <td>...</td>\n",
              "      <td>...</td>\n",
              "      <td>...</td>\n",
              "    </tr>\n",
              "    <tr>\n",
              "      <th>1075</th>\n",
              "      <td>Dell G5 Gaming 5525 [5CFYD]</td>\n",
              "      <td>https://www.solotodo.cl/products/155117-dell-g...</td>\n",
              "      <td>AMD Ryzen 5 6600H (6 núcleos / 12 hilos / 3300...</td>\n",
              "      <td>8 GB DDR5 (4800 MHz)</td>\n",
              "      <td>SSD 512GB</td>\n",
              "      <td>AMD Radeon 660M (Integrada)\\nNVIDIA GeForce RT...</td>\n",
              "    </tr>\n",
              "    <tr>\n",
              "      <th>1076</th>\n",
              "      <td>Lenovo ThinkBook 14 G2 ITL [20VD0075CL]</td>\n",
              "      <td>https://www.solotodo.cl/products/128812-lenovo...</td>\n",
              "      <td>Intel Core i5-1135G7 (4 núcleos / 8 hilos / 24...</td>\n",
              "      <td>8 GB DDR4 (3200 MHz)</td>\n",
              "      <td>SSD 256GB</td>\n",
              "      <td>Intel Iris Xe Graphics G7 80EUs (Integrada)</td>\n",
              "    </tr>\n",
              "    <tr>\n",
              "      <th>1077</th>\n",
              "      <td>Dell Latitude 7400 (i5-8365U / 8GB / 256GB SSD)</td>\n",
              "      <td>https://www.solotodo.cl/products/85951-dell-la...</td>\n",
              "      <td>Intel Core i5-8365U (4 núcleos / 8 hilos / 160...</td>\n",
              "      <td>8 GB DDR4 (2400 MHz)</td>\n",
              "      <td>SSD 256GB</td>\n",
              "      <td>Intel UHD Graphics 620 (Integrada)</td>\n",
              "    </tr>\n",
              "    <tr>\n",
              "      <th>1078</th>\n",
              "      <td>Lenovo IdeaPad 5 14ARE05 [81YM0061US]</td>\n",
              "      <td>https://www.solotodo.cl/products/128874-lenovo...</td>\n",
              "      <td>AMD Ryzen 7 4700U (8 núcleos / 8 hilos / 2000 ...</td>\n",
              "      <td>8 GB DDR4 (3200 MHz)</td>\n",
              "      <td>SSD 256GB</td>\n",
              "      <td>AMD Radeon RX Vega 7 (Integrada)</td>\n",
              "    </tr>\n",
              "    <tr>\n",
              "      <th>1079</th>\n",
              "      <td>ASUS Zenbook 13 UX325EA-LR580W [90NB0SL1-M14530]</td>\n",
              "      <td>https://www.solotodo.cl/products/147548-asus-z...</td>\n",
              "      <td>Intel Core i7-1165G7 (4 núcleos / 8 hilos / 28...</td>\n",
              "      <td>16 GB LPDDR4X (4267 MHz)</td>\n",
              "      <td>SSD 512GB</td>\n",
              "      <td>Intel Iris Xe Graphics G7 96EUs (Integrada)</td>\n",
              "    </tr>\n",
              "  </tbody>\n",
              "</table>\n",
              "<p>1080 rows × 6 columns</p>\n",
              "</div>\n",
              "      <button class=\"colab-df-convert\" onclick=\"convertToInteractive('df-da2543ce-0ee4-468b-b233-6709cdbd2590')\"\n",
              "              title=\"Convert this dataframe to an interactive table.\"\n",
              "              style=\"display:none;\">\n",
              "        \n",
              "  <svg xmlns=\"http://www.w3.org/2000/svg\" height=\"24px\"viewBox=\"0 0 24 24\"\n",
              "       width=\"24px\">\n",
              "    <path d=\"M0 0h24v24H0V0z\" fill=\"none\"/>\n",
              "    <path d=\"M18.56 5.44l.94 2.06.94-2.06 2.06-.94-2.06-.94-.94-2.06-.94 2.06-2.06.94zm-11 1L8.5 8.5l.94-2.06 2.06-.94-2.06-.94L8.5 2.5l-.94 2.06-2.06.94zm10 10l.94 2.06.94-2.06 2.06-.94-2.06-.94-.94-2.06-.94 2.06-2.06.94z\"/><path d=\"M17.41 7.96l-1.37-1.37c-.4-.4-.92-.59-1.43-.59-.52 0-1.04.2-1.43.59L10.3 9.45l-7.72 7.72c-.78.78-.78 2.05 0 2.83L4 21.41c.39.39.9.59 1.41.59.51 0 1.02-.2 1.41-.59l7.78-7.78 2.81-2.81c.8-.78.8-2.07 0-2.86zM5.41 20L4 18.59l7.72-7.72 1.47 1.35L5.41 20z\"/>\n",
              "  </svg>\n",
              "      </button>\n",
              "      \n",
              "  <style>\n",
              "    .colab-df-container {\n",
              "      display:flex;\n",
              "      flex-wrap:wrap;\n",
              "      gap: 12px;\n",
              "    }\n",
              "\n",
              "    .colab-df-convert {\n",
              "      background-color: #E8F0FE;\n",
              "      border: none;\n",
              "      border-radius: 50%;\n",
              "      cursor: pointer;\n",
              "      display: none;\n",
              "      fill: #1967D2;\n",
              "      height: 32px;\n",
              "      padding: 0 0 0 0;\n",
              "      width: 32px;\n",
              "    }\n",
              "\n",
              "    .colab-df-convert:hover {\n",
              "      background-color: #E2EBFA;\n",
              "      box-shadow: 0px 1px 2px rgba(60, 64, 67, 0.3), 0px 1px 3px 1px rgba(60, 64, 67, 0.15);\n",
              "      fill: #174EA6;\n",
              "    }\n",
              "\n",
              "    [theme=dark] .colab-df-convert {\n",
              "      background-color: #3B4455;\n",
              "      fill: #D2E3FC;\n",
              "    }\n",
              "\n",
              "    [theme=dark] .colab-df-convert:hover {\n",
              "      background-color: #434B5C;\n",
              "      box-shadow: 0px 1px 3px 1px rgba(0, 0, 0, 0.15);\n",
              "      filter: drop-shadow(0px 1px 2px rgba(0, 0, 0, 0.3));\n",
              "      fill: #FFFFFF;\n",
              "    }\n",
              "  </style>\n",
              "\n",
              "      <script>\n",
              "        const buttonEl =\n",
              "          document.querySelector('#df-da2543ce-0ee4-468b-b233-6709cdbd2590 button.colab-df-convert');\n",
              "        buttonEl.style.display =\n",
              "          google.colab.kernel.accessAllowed ? 'block' : 'none';\n",
              "\n",
              "        async function convertToInteractive(key) {\n",
              "          const element = document.querySelector('#df-da2543ce-0ee4-468b-b233-6709cdbd2590');\n",
              "          const dataTable =\n",
              "            await google.colab.kernel.invokeFunction('convertToInteractive',\n",
              "                                                     [key], {});\n",
              "          if (!dataTable) return;\n",
              "\n",
              "          const docLinkHtml = 'Like what you see? Visit the ' +\n",
              "            '<a target=\"_blank\" href=https://colab.research.google.com/notebooks/data_table.ipynb>data table notebook</a>'\n",
              "            + ' to learn more about interactive tables.';\n",
              "          element.innerHTML = '';\n",
              "          dataTable['output_type'] = 'display_data';\n",
              "          await google.colab.output.renderOutput(dataTable, element);\n",
              "          const docLink = document.createElement('div');\n",
              "          docLink.innerHTML = docLinkHtml;\n",
              "          element.appendChild(docLink);\n",
              "        }\n",
              "      </script>\n",
              "    </div>\n",
              "  </div>\n",
              "  "
            ]
          },
          "metadata": {},
          "execution_count": 8
        }
      ]
    },
    {
      "cell_type": "code",
      "source": [
        "# Capturar los precios\n",
        "#df para almacenar la información de las tablas\n",
        "df_complete = pd.DataFrame()\n",
        "contador2 = 1\n",
        "#ciclo para extraer la información de las tiendas y los precios de los productos\n",
        "for i in range(df.shape[0]):\n",
        "\n",
        "  wd.get(df[\"link\"][i])\n",
        "  tm.sleep(4)\n",
        "  soup_links = bs4.BeautifulSoup(wd.page_source, 'lxml')\n",
        "  table = soup_links.find('table')  \n",
        "  df_table = pd.read_html(str(table))[0]\n",
        "  print(\"Obteniendo los precios del notebook numero\" + str(contador2))\n",
        "  contador2 += 1\n",
        "\n",
        "  #creación de columnas con la información requerida para el análisis posterior\n",
        "  df_table[\"id\"] = df_st['link'][i].split('-')[0].replace('https://www.solotodo.cl/products/', '')\n",
        "  df_table[\"name\"] = df_st['name'][i]\n",
        "  df_table[\"processor\"] = df_st['processor'][i]\n",
        "  df_table[\"ram\"] = df_st[\"ram\"][i]\n",
        "  df_table[\"storage\"] = df_st[\"storage\"][i]\n",
        "  df_table[\"video\"] = df_st[\"video\"][i]\n",
        "  df_complete = pd.concat([df_complete, df_table])\n",
        "\n",
        "  # Creación de archivos .pkl temporales para asegurar la acumulación de casos, esto debido a la conexión inestable de mi proveedor de internet.\n",
        "  # Cada 90 ciclos guarda un archivo incremental con las lecturas que lleva, lo que me permite retomar el scrapping según el punto de desconexión.\n",
        "  \n",
        "  if contador2 % 90 == 0:\n",
        "    pickle.dump(df_complete, open('drive/MyDrive/Colab Notebooks/tarea1_analitica/precios_tarea_' + str(contador2/90) + '.sav', 'wb'))"
      ],
      "metadata": {
        "id": "vBBTeIlm5bBn"
      },
      "id": "vBBTeIlm5bBn",
      "execution_count": null,
      "outputs": []
    },
    {
      "cell_type": "markdown",
      "metadata": {
        "id": "NYFTeyA8MIms"
      },
      "source": [
        "### Almacenamiento en DataFrame (2 pts)"
      ],
      "id": "NYFTeyA8MIms"
    },
    {
      "cell_type": "code",
      "source": [
        "pickle.dump(df_complete, open('drive/MyDrive/Colab Notebooks/tarea1_analitica/precios_tarea_resp.sav', 'wb'))"
      ],
      "metadata": {
        "id": "bqvsSJEK3ad9"
      },
      "id": "bqvsSJEK3ad9",
      "execution_count": null,
      "outputs": []
    },
    {
      "cell_type": "code",
      "source": [
        "#carga de dataframe anterior desde archivo .sav, renombrado para posterior uso \n",
        "df_main = pickle.load(open('drive/MyDrive/Colab Notebooks/tarea1_analitica/precios_tarea_resp.sav', \"rb\" )).reset_index().drop(columns = 'index')"
      ],
      "metadata": {
        "id": "DOuM9sNMZuss"
      },
      "id": "DOuM9sNMZuss",
      "execution_count": null,
      "outputs": []
    },
    {
      "cell_type": "code",
      "source": [
        "df_main.head(6)"
      ],
      "metadata": {
        "colab": {
          "base_uri": "https://localhost:8080/",
          "height": 420
        },
        "id": "xmO_CA8GaUfF",
        "outputId": "862a7c73-9302-4bab-d53a-cf7fedb83bdc"
      },
      "id": "xmO_CA8GaUfF",
      "execution_count": null,
      "outputs": [
        {
          "output_type": "execute_result",
          "data": {
            "text/plain": [
              "         Tienda  Rating Con el medio de pago preferido de la tiendaP. oferta  \\\n",
              "0        AbcDin     NaN                                           $ 99.990     \n",
              "1  Bookcomputer     NaN                                          $ 109.990     \n",
              "2    Best Store     NaN                                          $ 335.353     \n",
              "3      Centrale     NaN                                          $ 338.640     \n",
              "4         Winpy     NaN                                          $ 338.656     \n",
              "5           Wei     NaN                                          $ 341.918     \n",
              "\n",
              "  Con cualquier medio de pagoP. normal      id  \\\n",
              "0                             $ 99.990  122704   \n",
              "1                            $ 109.990  122704   \n",
              "2                            $ 342.197  122704   \n",
              "3                            $ 355.573  122704   \n",
              "4                            $ 356.480  122704   \n",
              "5                            $ 352.716  122704   \n",
              "\n",
              "                                                name  \\\n",
              "0  ASUS VivoBook BR1100CKA-GJ0447R [90NX03B1-M05860]   \n",
              "1  ASUS VivoBook BR1100CKA-GJ0447R [90NX03B1-M05860]   \n",
              "2  ASUS VivoBook BR1100CKA-GJ0447R [90NX03B1-M05860]   \n",
              "3  ASUS VivoBook BR1100CKA-GJ0447R [90NX03B1-M05860]   \n",
              "4  ASUS VivoBook BR1100CKA-GJ0447R [90NX03B1-M05860]   \n",
              "5  ASUS VivoBook BR1100CKA-GJ0447R [90NX03B1-M05860]   \n",
              "\n",
              "                                           processor                   ram  \\\n",
              "0  Intel Celeron N4500 (2 núcleos / 2 hilos / 110...  4 GB DDR4 (3200 MHz)   \n",
              "1  Intel Celeron N4500 (2 núcleos / 2 hilos / 110...  4 GB DDR4 (3200 MHz)   \n",
              "2  Intel Celeron N4500 (2 núcleos / 2 hilos / 110...  4 GB DDR4 (3200 MHz)   \n",
              "3  Intel Celeron N4500 (2 núcleos / 2 hilos / 110...  4 GB DDR4 (3200 MHz)   \n",
              "4  Intel Celeron N4500 (2 núcleos / 2 hilos / 110...  4 GB DDR4 (3200 MHz)   \n",
              "5  Intel Celeron N4500 (2 núcleos / 2 hilos / 110...  4 GB DDR4 (3200 MHz)   \n",
              "\n",
              "     storage                                             video  \n",
              "0  eMMC 64GB  Intel UHD Graphics Jasper Lake 16 EU (Integrada)  \n",
              "1  eMMC 64GB  Intel UHD Graphics Jasper Lake 16 EU (Integrada)  \n",
              "2  eMMC 64GB  Intel UHD Graphics Jasper Lake 16 EU (Integrada)  \n",
              "3  eMMC 64GB  Intel UHD Graphics Jasper Lake 16 EU (Integrada)  \n",
              "4  eMMC 64GB  Intel UHD Graphics Jasper Lake 16 EU (Integrada)  \n",
              "5  eMMC 64GB  Intel UHD Graphics Jasper Lake 16 EU (Integrada)  "
            ],
            "text/html": [
              "\n",
              "  <div id=\"df-94759b11-15d9-4993-a2ba-d9e0e876d651\">\n",
              "    <div class=\"colab-df-container\">\n",
              "      <div>\n",
              "<style scoped>\n",
              "    .dataframe tbody tr th:only-of-type {\n",
              "        vertical-align: middle;\n",
              "    }\n",
              "\n",
              "    .dataframe tbody tr th {\n",
              "        vertical-align: top;\n",
              "    }\n",
              "\n",
              "    .dataframe thead th {\n",
              "        text-align: right;\n",
              "    }\n",
              "</style>\n",
              "<table border=\"1\" class=\"dataframe\">\n",
              "  <thead>\n",
              "    <tr style=\"text-align: right;\">\n",
              "      <th></th>\n",
              "      <th>Tienda</th>\n",
              "      <th>Rating</th>\n",
              "      <th>Con el medio de pago preferido de la tiendaP. oferta</th>\n",
              "      <th>Con cualquier medio de pagoP. normal</th>\n",
              "      <th>id</th>\n",
              "      <th>name</th>\n",
              "      <th>processor</th>\n",
              "      <th>ram</th>\n",
              "      <th>storage</th>\n",
              "      <th>video</th>\n",
              "    </tr>\n",
              "  </thead>\n",
              "  <tbody>\n",
              "    <tr>\n",
              "      <th>0</th>\n",
              "      <td>AbcDin</td>\n",
              "      <td>NaN</td>\n",
              "      <td>$ 99.990</td>\n",
              "      <td>$ 99.990</td>\n",
              "      <td>122704</td>\n",
              "      <td>ASUS VivoBook BR1100CKA-GJ0447R [90NX03B1-M05860]</td>\n",
              "      <td>Intel Celeron N4500 (2 núcleos / 2 hilos / 110...</td>\n",
              "      <td>4 GB DDR4 (3200 MHz)</td>\n",
              "      <td>eMMC 64GB</td>\n",
              "      <td>Intel UHD Graphics Jasper Lake 16 EU (Integrada)</td>\n",
              "    </tr>\n",
              "    <tr>\n",
              "      <th>1</th>\n",
              "      <td>Bookcomputer</td>\n",
              "      <td>NaN</td>\n",
              "      <td>$ 109.990</td>\n",
              "      <td>$ 109.990</td>\n",
              "      <td>122704</td>\n",
              "      <td>ASUS VivoBook BR1100CKA-GJ0447R [90NX03B1-M05860]</td>\n",
              "      <td>Intel Celeron N4500 (2 núcleos / 2 hilos / 110...</td>\n",
              "      <td>4 GB DDR4 (3200 MHz)</td>\n",
              "      <td>eMMC 64GB</td>\n",
              "      <td>Intel UHD Graphics Jasper Lake 16 EU (Integrada)</td>\n",
              "    </tr>\n",
              "    <tr>\n",
              "      <th>2</th>\n",
              "      <td>Best Store</td>\n",
              "      <td>NaN</td>\n",
              "      <td>$ 335.353</td>\n",
              "      <td>$ 342.197</td>\n",
              "      <td>122704</td>\n",
              "      <td>ASUS VivoBook BR1100CKA-GJ0447R [90NX03B1-M05860]</td>\n",
              "      <td>Intel Celeron N4500 (2 núcleos / 2 hilos / 110...</td>\n",
              "      <td>4 GB DDR4 (3200 MHz)</td>\n",
              "      <td>eMMC 64GB</td>\n",
              "      <td>Intel UHD Graphics Jasper Lake 16 EU (Integrada)</td>\n",
              "    </tr>\n",
              "    <tr>\n",
              "      <th>3</th>\n",
              "      <td>Centrale</td>\n",
              "      <td>NaN</td>\n",
              "      <td>$ 338.640</td>\n",
              "      <td>$ 355.573</td>\n",
              "      <td>122704</td>\n",
              "      <td>ASUS VivoBook BR1100CKA-GJ0447R [90NX03B1-M05860]</td>\n",
              "      <td>Intel Celeron N4500 (2 núcleos / 2 hilos / 110...</td>\n",
              "      <td>4 GB DDR4 (3200 MHz)</td>\n",
              "      <td>eMMC 64GB</td>\n",
              "      <td>Intel UHD Graphics Jasper Lake 16 EU (Integrada)</td>\n",
              "    </tr>\n",
              "    <tr>\n",
              "      <th>4</th>\n",
              "      <td>Winpy</td>\n",
              "      <td>NaN</td>\n",
              "      <td>$ 338.656</td>\n",
              "      <td>$ 356.480</td>\n",
              "      <td>122704</td>\n",
              "      <td>ASUS VivoBook BR1100CKA-GJ0447R [90NX03B1-M05860]</td>\n",
              "      <td>Intel Celeron N4500 (2 núcleos / 2 hilos / 110...</td>\n",
              "      <td>4 GB DDR4 (3200 MHz)</td>\n",
              "      <td>eMMC 64GB</td>\n",
              "      <td>Intel UHD Graphics Jasper Lake 16 EU (Integrada)</td>\n",
              "    </tr>\n",
              "    <tr>\n",
              "      <th>5</th>\n",
              "      <td>Wei</td>\n",
              "      <td>NaN</td>\n",
              "      <td>$ 341.918</td>\n",
              "      <td>$ 352.716</td>\n",
              "      <td>122704</td>\n",
              "      <td>ASUS VivoBook BR1100CKA-GJ0447R [90NX03B1-M05860]</td>\n",
              "      <td>Intel Celeron N4500 (2 núcleos / 2 hilos / 110...</td>\n",
              "      <td>4 GB DDR4 (3200 MHz)</td>\n",
              "      <td>eMMC 64GB</td>\n",
              "      <td>Intel UHD Graphics Jasper Lake 16 EU (Integrada)</td>\n",
              "    </tr>\n",
              "  </tbody>\n",
              "</table>\n",
              "</div>\n",
              "      <button class=\"colab-df-convert\" onclick=\"convertToInteractive('df-94759b11-15d9-4993-a2ba-d9e0e876d651')\"\n",
              "              title=\"Convert this dataframe to an interactive table.\"\n",
              "              style=\"display:none;\">\n",
              "        \n",
              "  <svg xmlns=\"http://www.w3.org/2000/svg\" height=\"24px\"viewBox=\"0 0 24 24\"\n",
              "       width=\"24px\">\n",
              "    <path d=\"M0 0h24v24H0V0z\" fill=\"none\"/>\n",
              "    <path d=\"M18.56 5.44l.94 2.06.94-2.06 2.06-.94-2.06-.94-.94-2.06-.94 2.06-2.06.94zm-11 1L8.5 8.5l.94-2.06 2.06-.94-2.06-.94L8.5 2.5l-.94 2.06-2.06.94zm10 10l.94 2.06.94-2.06 2.06-.94-2.06-.94-.94-2.06-.94 2.06-2.06.94z\"/><path d=\"M17.41 7.96l-1.37-1.37c-.4-.4-.92-.59-1.43-.59-.52 0-1.04.2-1.43.59L10.3 9.45l-7.72 7.72c-.78.78-.78 2.05 0 2.83L4 21.41c.39.39.9.59 1.41.59.51 0 1.02-.2 1.41-.59l7.78-7.78 2.81-2.81c.8-.78.8-2.07 0-2.86zM5.41 20L4 18.59l7.72-7.72 1.47 1.35L5.41 20z\"/>\n",
              "  </svg>\n",
              "      </button>\n",
              "      \n",
              "  <style>\n",
              "    .colab-df-container {\n",
              "      display:flex;\n",
              "      flex-wrap:wrap;\n",
              "      gap: 12px;\n",
              "    }\n",
              "\n",
              "    .colab-df-convert {\n",
              "      background-color: #E8F0FE;\n",
              "      border: none;\n",
              "      border-radius: 50%;\n",
              "      cursor: pointer;\n",
              "      display: none;\n",
              "      fill: #1967D2;\n",
              "      height: 32px;\n",
              "      padding: 0 0 0 0;\n",
              "      width: 32px;\n",
              "    }\n",
              "\n",
              "    .colab-df-convert:hover {\n",
              "      background-color: #E2EBFA;\n",
              "      box-shadow: 0px 1px 2px rgba(60, 64, 67, 0.3), 0px 1px 3px 1px rgba(60, 64, 67, 0.15);\n",
              "      fill: #174EA6;\n",
              "    }\n",
              "\n",
              "    [theme=dark] .colab-df-convert {\n",
              "      background-color: #3B4455;\n",
              "      fill: #D2E3FC;\n",
              "    }\n",
              "\n",
              "    [theme=dark] .colab-df-convert:hover {\n",
              "      background-color: #434B5C;\n",
              "      box-shadow: 0px 1px 3px 1px rgba(0, 0, 0, 0.15);\n",
              "      filter: drop-shadow(0px 1px 2px rgba(0, 0, 0, 0.3));\n",
              "      fill: #FFFFFF;\n",
              "    }\n",
              "  </style>\n",
              "\n",
              "      <script>\n",
              "        const buttonEl =\n",
              "          document.querySelector('#df-94759b11-15d9-4993-a2ba-d9e0e876d651 button.colab-df-convert');\n",
              "        buttonEl.style.display =\n",
              "          google.colab.kernel.accessAllowed ? 'block' : 'none';\n",
              "\n",
              "        async function convertToInteractive(key) {\n",
              "          const element = document.querySelector('#df-94759b11-15d9-4993-a2ba-d9e0e876d651');\n",
              "          const dataTable =\n",
              "            await google.colab.kernel.invokeFunction('convertToInteractive',\n",
              "                                                     [key], {});\n",
              "          if (!dataTable) return;\n",
              "\n",
              "          const docLinkHtml = 'Like what you see? Visit the ' +\n",
              "            '<a target=\"_blank\" href=https://colab.research.google.com/notebooks/data_table.ipynb>data table notebook</a>'\n",
              "            + ' to learn more about interactive tables.';\n",
              "          element.innerHTML = '';\n",
              "          dataTable['output_type'] = 'display_data';\n",
              "          await google.colab.output.renderOutput(dataTable, element);\n",
              "          const docLink = document.createElement('div');\n",
              "          docLink.innerHTML = docLinkHtml;\n",
              "          element.appendChild(docLink);\n",
              "        }\n",
              "      </script>\n",
              "    </div>\n",
              "  </div>\n",
              "  "
            ]
          },
          "metadata": {},
          "execution_count": 5
        }
      ]
    },
    {
      "cell_type": "markdown",
      "metadata": {
        "id": "f87e8829"
      },
      "source": [
        "### Limpieza de datos y generación columnas de interés (17 pts)"
      ],
      "id": "f87e8829"
    },
    {
      "cell_type": "markdown",
      "metadata": {
        "id": "4ad5a165"
      },
      "source": [
        "**Limpieza general de los datos**"
      ],
      "id": "4ad5a165"
    },
    {
      "cell_type": "markdown",
      "source": [
        "El dataframe inicial contiene 10 columnas y 3286 registros de notebooks."
      ],
      "metadata": {
        "id": "GiKafjpIhNJt"
      },
      "id": "GiKafjpIhNJt"
    },
    {
      "cell_type": "code",
      "execution_count": null,
      "metadata": {
        "id": "WxXAdirLMImt"
      },
      "outputs": [],
      "source": [
        "\"\"\"\n",
        "1) Observar la forma del DF \n",
        "2) Ordenar columnas: id, nombre, precio1, precio2, else.\n",
        "3) Eliminar Rating\n",
        "4) Cambiar nombre a precios\n",
        "5) Eliminar el $\n",
        "6) Lambda para transformar precios, ram, storage y video a int, \n",
        "\"\"\""
      ],
      "id": "WxXAdirLMImt"
    },
    {
      "cell_type": "code",
      "source": [
        "# 1) Observar la forma del DF \n",
        "df_main.shape\n"
      ],
      "metadata": {
        "colab": {
          "base_uri": "https://localhost:8080/"
        },
        "id": "1wu9HMIagOjl",
        "outputId": "e4230247-302a-4db0-f9e5-3f0c3668e31c"
      },
      "id": "1wu9HMIagOjl",
      "execution_count": null,
      "outputs": [
        {
          "output_type": "execute_result",
          "data": {
            "text/plain": [
              "(3286, 10)"
            ]
          },
          "metadata": {},
          "execution_count": 6
        }
      ]
    },
    {
      "cell_type": "code",
      "source": [
        "#Datos nulos\n",
        "df_main.isnull().sum()"
      ],
      "metadata": {
        "colab": {
          "base_uri": "https://localhost:8080/"
        },
        "id": "rDJuVODgh3vE",
        "outputId": "99f86cc6-1bf9-4c10-dc1f-cd4a954564f7"
      },
      "id": "rDJuVODgh3vE",
      "execution_count": null,
      "outputs": [
        {
          "output_type": "execute_result",
          "data": {
            "text/plain": [
              "Tienda                                                     0\n",
              "Rating                                                  3286\n",
              "Con el medio de pago preferido de la tiendaP. oferta       0\n",
              "Con cualquier medio de pagoP. normal                       0\n",
              "id                                                         0\n",
              "name                                                       0\n",
              "processor                                                  0\n",
              "ram                                                        0\n",
              "storage                                                    0\n",
              "video                                                      0\n",
              "dtype: int64"
            ]
          },
          "metadata": {},
          "execution_count": 7
        }
      ]
    },
    {
      "cell_type": "code",
      "source": [
        "# 2) Ordenar columnas: id, nombre, precio1, precio2, else.\n",
        "# df_md = DataFrame Main Ordered\n",
        "df_md = df_main[['id', 'name', 'Tienda', \n",
        "       'Con el medio de pago preferido de la tiendaP. oferta',\n",
        "       'Con cualquier medio de pagoP. normal',  'processor',\n",
        "       'ram', 'storage', 'video', 'Rating']]"
      ],
      "metadata": {
        "id": "RJeSg1zIh_VJ"
      },
      "id": "RJeSg1zIh_VJ",
      "execution_count": null,
      "outputs": []
    },
    {
      "cell_type": "markdown",
      "source": [
        "Eliminación de la columna Rating al no aportar información. "
      ],
      "metadata": {
        "id": "YOjIcZHHh7XC"
      },
      "id": "YOjIcZHHh7XC"
    },
    {
      "cell_type": "code",
      "source": [
        "# 3) Eliminar Rating\n",
        "df_md.drop(columns = ['Rating'], inplace = True)"
      ],
      "metadata": {
        "id": "aR8zcNwZhmD7"
      },
      "id": "aR8zcNwZhmD7",
      "execution_count": null,
      "outputs": []
    },
    {
      "cell_type": "code",
      "source": [
        "# 4) Cambiar nombre a precios\n",
        "df_md.rename(columns = {'Con el medio de pago preferido de la tiendaP. oferta': 'precio oferta', 'Con cualquier medio de pagoP. normal': 'precio normal'}, inplace = True)"
      ],
      "metadata": {
        "id": "k5K-pm1hkzOo"
      },
      "id": "k5K-pm1hkzOo",
      "execution_count": null,
      "outputs": []
    },
    {
      "cell_type": "code",
      "execution_count": null,
      "metadata": {
        "id": "KyUtJYFBlpg7",
        "colab": {
          "base_uri": "https://localhost:8080/"
        },
        "outputId": "2f6dacea-3a9a-471e-bc92-8b3427991419"
      },
      "outputs": [
        {
          "output_type": "execute_result",
          "data": {
            "text/plain": [
              "Index(['id', 'name', 'Tienda', 'precio oferta', 'precio normal', 'processor',\n",
              "       'ram', 'storage', 'video'],\n",
              "      dtype='object')"
            ]
          },
          "metadata": {},
          "execution_count": 11
        }
      ],
      "source": [
        "df_md.columns"
      ],
      "id": "KyUtJYFBlpg7"
    },
    {
      "cell_type": "code",
      "source": [
        "#creación de columna adicional para reemplazar el precio oferta\n",
        "df_md[\"precio_of\"] = ''"
      ],
      "metadata": {
        "id": "MmxuvBjpR7cf"
      },
      "id": "MmxuvBjpR7cf",
      "execution_count": null,
      "outputs": []
    },
    {
      "cell_type": "code",
      "source": [
        "# 5) Eliminar el caracter '$' de los precios\n",
        "df_md[\"precio normal\"] = df_md[\"precio normal\"].apply(lambda x: x.replace('$','').replace('.',''))"
      ],
      "metadata": {
        "id": "8OZ6ZfdgoZTM"
      },
      "id": "8OZ6ZfdgoZTM",
      "execution_count": null,
      "outputs": []
    },
    {
      "cell_type": "code",
      "source": [
        "#función que selecciona el primer valor presente (en caso de haber más) y que reemplaza el caracter $ por caracter vacío\n",
        "def split_precio(df, col, n_col):\n",
        "    for i in range(len(df[col])):\n",
        "        if len(df_md[col][i]) > 15:\n",
        "            df_md[n_col][i] = df[col][i].split('$')[1].replace('.','')\n",
        "        else:\n",
        "            df_md[n_col][i] = df[col][i].replace('$','').replace('.','')"
      ],
      "metadata": {
        "id": "Ga4YfIvTvfcZ"
      },
      "id": "Ga4YfIvTvfcZ",
      "execution_count": null,
      "outputs": []
    },
    {
      "cell_type": "code",
      "source": [
        "split_precio(df_md, 'precio oferta', 'precio_of')"
      ],
      "metadata": {
        "id": "K1iVtjvaJD6C"
      },
      "id": "K1iVtjvaJD6C",
      "execution_count": null,
      "outputs": []
    },
    {
      "cell_type": "code",
      "source": [
        "df_md['precio oferta'] = df_md['precio_of'].copy() "
      ],
      "metadata": {
        "id": "NTW2XPbAUt5y"
      },
      "id": "NTW2XPbAUt5y",
      "execution_count": null,
      "outputs": []
    },
    {
      "cell_type": "markdown",
      "source": [
        "Al copiar los valores de la columna 'precio_of' en 'precio oferta', podemos eliminar la primera."
      ],
      "metadata": {
        "id": "5rYVc-fYVzc4"
      },
      "id": "5rYVc-fYVzc4"
    },
    {
      "cell_type": "code",
      "source": [
        "df_md['precio oferta']"
      ],
      "metadata": {
        "colab": {
          "base_uri": "https://localhost:8080/"
        },
        "id": "h8Ve1o_5XzUA",
        "outputId": "5433f866-8bdc-44ff-f9c9-d7dda0ab8491"
      },
      "id": "h8Ve1o_5XzUA",
      "execution_count": null,
      "outputs": [
        {
          "output_type": "execute_result",
          "data": {
            "text/plain": [
              "0          99990\n",
              "1         109990\n",
              "2         335353\n",
              "3         338640\n",
              "4         338656\n",
              "          ...   \n",
              "3281      919990\n",
              "3282      979990\n",
              "3283     1444763\n",
              "3284     1609900\n",
              "3285     1609900\n",
              "Name: precio oferta, Length: 3286, dtype: object"
            ]
          },
          "metadata": {},
          "execution_count": 27
        }
      ]
    },
    {
      "cell_type": "code",
      "source": [
        "df_md.drop(columns = ['precio_of'], inplace = True)"
      ],
      "metadata": {
        "id": "1bjxygRwYF8B"
      },
      "id": "1bjxygRwYF8B",
      "execution_count": null,
      "outputs": []
    },
    {
      "cell_type": "markdown",
      "metadata": {
        "id": "b2d9d5e7"
      },
      "source": [
        "**Generamos columnas de interes**"
      ],
      "id": "b2d9d5e7"
    },
    {
      "cell_type": "code",
      "execution_count": null,
      "metadata": {
        "id": "go9Lh2uJlp7r"
      },
      "outputs": [],
      "source": [
        "# Utilizando lambda iteramos por todos los casos del df, ejecutando separaciones especificas\n",
        "\n",
        "# Marca del notebook\n",
        "df_md[\"marca\"] = df_md['name'].apply(lambda x: x.split(' ')[0])"
      ],
      "id": "go9Lh2uJlp7r"
    },
    {
      "cell_type": "code",
      "source": [
        "# Procesador\n",
        "df_md[\"nombre_procesador\"] = df_md['processor'].apply(lambda x: x.split(' (')[0])"
      ],
      "metadata": {
        "id": "e-7VIP9tYfLx"
      },
      "id": "e-7VIP9tYfLx",
      "execution_count": null,
      "outputs": []
    },
    {
      "cell_type": "code",
      "source": [
        "# Nucleos del procesador\n",
        "df_md[\"nucleos_procesador\"] = df_md['processor'].apply(lambda x: x.split('(')[1].split(' ')[0])"
      ],
      "metadata": {
        "id": "GuG-oi4PZBLF"
      },
      "id": "GuG-oi4PZBLF",
      "execution_count": null,
      "outputs": []
    },
    {
      "cell_type": "code",
      "source": [
        "# Hilos del procesador\n",
        "df_md[\"hilos_procesador\"] = df_md['processor'].apply(lambda x: x.split('/ ')[1].split(' ')[0])"
      ],
      "metadata": {
        "id": "qeAZ1f9vaJiP"
      },
      "id": "qeAZ1f9vaJiP",
      "execution_count": null,
      "outputs": []
    },
    {
      "cell_type": "code",
      "source": [
        "# Frecuencias del procesador (normal y turbo)\n",
        "df_md[\"freq_procesador\"] = df_md['processor'].apply(lambda x: x.split('/ ')[2].replace(')',''))"
      ],
      "metadata": {
        "id": "CSK76WM2avD6"
      },
      "id": "CSK76WM2avD6",
      "execution_count": null,
      "outputs": []
    },
    {
      "cell_type": "code",
      "source": [
        "# Creación columna de frecuencia normal del procesador en MHz\n",
        "df_md[\"freq_procesador_MHz\"] = df_md[\"freq_procesador\"].apply(lambda x: x.split(' ')[0])"
      ],
      "metadata": {
        "id": "ghGfW9MnbBP_"
      },
      "id": "ghGfW9MnbBP_",
      "execution_count": null,
      "outputs": []
    },
    {
      "cell_type": "code",
      "source": [
        "# Creación columna de frecuencia turbo del procesador en MHz\n",
        "df_md[\"freq_procesador_turbo_MHz\"] = ''\n",
        "\n",
        "def split_turbo(df, columna, nueva_col):\n",
        "    for i in range(len(df_md[columna])):\n",
        "        if len(df_md[columna][i]) > 8:\n",
        "            df_md[nueva_col][i] = df[columna][i].split('- ')[1].split(' ')[0]\n",
        "        else:\n",
        "            df_md[nueva_col][i] = np.nan"
      ],
      "metadata": {
        "id": "h74wlLRAbKeS"
      },
      "id": "h74wlLRAbKeS",
      "execution_count": null,
      "outputs": []
    },
    {
      "cell_type": "code",
      "source": [
        "split_turbo(df_md, \"freq_procesador\", \"freq_procesador_turbo_MHz\")"
      ],
      "metadata": {
        "id": "OyGnpFFsc76H"
      },
      "id": "OyGnpFFsc76H",
      "execution_count": null,
      "outputs": []
    },
    {
      "cell_type": "code",
      "source": [
        "df_md[\"freq_procesador_MHz\"]"
      ],
      "metadata": {
        "colab": {
          "base_uri": "https://localhost:8080/"
        },
        "id": "rihiCsqDemBV",
        "outputId": "9b217c97-94da-4181-acb0-95a991cbf3f8"
      },
      "id": "rihiCsqDemBV",
      "execution_count": null,
      "outputs": [
        {
          "output_type": "execute_result",
          "data": {
            "text/plain": [
              "0       1100\n",
              "1       1100\n",
              "2       1100\n",
              "3       1100\n",
              "4       1100\n",
              "        ... \n",
              "3281    2800\n",
              "3282    2800\n",
              "3283    2800\n",
              "3284    2800\n",
              "3285    2800\n",
              "Name: freq_procesador_MHz, Length: 3286, dtype: object"
            ]
          },
          "metadata": {},
          "execution_count": 54
        }
      ]
    },
    {
      "cell_type": "code",
      "source": [
        "# RAM\n",
        "df_md[\"GB_ram\"] =  df_md['ram'].apply(lambda x: x.split(' ')[0])"
      ],
      "metadata": {
        "id": "P2xEO3LVdAb_"
      },
      "id": "P2xEO3LVdAb_",
      "execution_count": null,
      "outputs": []
    },
    {
      "cell_type": "code",
      "source": [
        "# Tipo de RAM\n",
        "df_md[\"tipo_ram\"] = df_md['ram'].apply(lambda x: x.split(' ')[2])"
      ],
      "metadata": {
        "id": "aOumnUwjdStb"
      },
      "id": "aOumnUwjdStb",
      "execution_count": null,
      "outputs": []
    },
    {
      "cell_type": "code",
      "source": [
        "# Frecuencia de la ram\n",
        "df_md[\"freq_ram_MHz\"] = df_md['ram'].apply(lambda x: x.split('(')[1].split(' ')[0])"
      ],
      "metadata": {
        "id": "fx6qhMDIdfWP"
      },
      "id": "fx6qhMDIdfWP",
      "execution_count": null,
      "outputs": []
    },
    {
      "cell_type": "code",
      "source": [
        "# Almacenamiento\n",
        "df_md[\"tipo_almacenamiento\"] = df_md['storage'].apply(lambda x: x.split(\" \")[0])"
      ],
      "metadata": {
        "id": "g42S3rG2d82m"
      },
      "id": "g42S3rG2d82m",
      "execution_count": null,
      "outputs": []
    },
    {
      "cell_type": "code",
      "source": [
        "# Manejo de los nombres que incluyen Intel Optane que fue eliminado por la separación anterior\n",
        "df_md[\"tipo_almacenamiento\"] = df_md[\"tipo_almacenamiento\"].apply(lambda x: x.replace('Intel', 'Intel Optane'))"
      ],
      "metadata": {
        "id": "9QG8TYTeeFrG"
      },
      "id": "9QG8TYTeeFrG",
      "execution_count": null,
      "outputs": []
    },
    {
      "cell_type": "code",
      "source": [
        "# Creación de columna del tamaño de almacenamiento\n",
        "df_md[\"tamaño_almacenamiento\"] = ''\n",
        "\n",
        "def split_storage(df, columna, nueva_col):\n",
        "    for i in range(len(df[columna])):\n",
        "      \n",
        "        if \"Intel Optane\" in df[columna][i].split('\\n')[0]:\n",
        "            df[nueva_col][i] = df[columna][i].split('\\n')[0].split(' ')[2][:-2]\n",
        "            \n",
        "        else:\n",
        "            df[nueva_col][i] = df[columna][i].split('\\n')[0].split(' ')[1][:-2]"
      ],
      "metadata": {
        "id": "e3UGr5IveOWh"
      },
      "id": "e3UGr5IveOWh",
      "execution_count": null,
      "outputs": []
    },
    {
      "cell_type": "code",
      "source": [
        "split_storage(df_md, \"storage\", \"tamaño_almacenamiento\")"
      ],
      "metadata": {
        "id": "mSAHxlBBfSQF"
      },
      "id": "mSAHxlBBfSQF",
      "execution_count": null,
      "outputs": []
    },
    {
      "cell_type": "code",
      "source": [
        "df_md[\"storage\"]"
      ],
      "metadata": {
        "colab": {
          "base_uri": "https://localhost:8080/"
        },
        "id": "lWZhQSWCfZ_J",
        "outputId": "d671733e-be79-433d-a5b2-cebaa1af7cdc"
      },
      "id": "lWZhQSWCfZ_J",
      "execution_count": null,
      "outputs": [
        {
          "output_type": "execute_result",
          "data": {
            "text/plain": [
              "0       eMMC 64GB\n",
              "1       eMMC 64GB\n",
              "2       eMMC 64GB\n",
              "3       eMMC 64GB\n",
              "4       eMMC 64GB\n",
              "          ...    \n",
              "3281    SSD 512GB\n",
              "3282    SSD 512GB\n",
              "3283    SSD 512GB\n",
              "3284    SSD 512GB\n",
              "3285    SSD 512GB\n",
              "Name: storage, Length: 3286, dtype: object"
            ]
          },
          "metadata": {},
          "execution_count": 57
        }
      ]
    },
    {
      "cell_type": "code",
      "source": [
        "#creación de columna con la unidad de almacenamiento\n",
        "#se renombra Intel optane a intel en la nueva columna para no tener problemas con el largo de la cadena\n",
        "df_md[\"unidad_almacenamiento\"] = df_md['storage'].apply(lambda x: x.replace('Intel Optane', 'Intel'))"
      ],
      "metadata": {
        "id": "F10yOgdGfrZX"
      },
      "id": "F10yOgdGfrZX",
      "execution_count": null,
      "outputs": []
    },
    {
      "cell_type": "code",
      "source": [
        "df_md[\"unidad_almacenamiento\"] = df_md[\"unidad_almacenamiento\"].apply(lambda x: x.split('\\n')[0].split(\" \")[1][-2:])"
      ],
      "metadata": {
        "id": "SV6NVccqgR8J"
      },
      "id": "SV6NVccqgR8J",
      "execution_count": null,
      "outputs": []
    },
    {
      "cell_type": "code",
      "source": [
        "df_md[\"gpu_integrada\"], df_md[\"gpu_dedicada\"], df_md[\"gb_gpu_dedicada\"] = \"\",\"\", \"\""
      ],
      "metadata": {
        "id": "CcMFyVnYgamJ"
      },
      "id": "CcMFyVnYgamJ",
      "execution_count": null,
      "outputs": []
    },
    {
      "cell_type": "code",
      "source": [
        "def split_video(df, columna, col_integrada, col_dedicada, col_gb):\n",
        "    \n",
        "    for i in range(len(df[columna])):\n",
        "        if \"\\n\" in df[columna][i]:\n",
        "            df[col_dedicada][i] = df[columna][i].split('\\n')[1].split('(')[0]\n",
        "            \n",
        "            if 'Integrada' not in df[columna][i].split('\\n')[1]:\n",
        "                df[col_dedicada][i] = df[col_dedicada][i].split('(')[0]\n",
        "                df[col_gb][i] = df[columna][i].split('\\n')[1].split('(')[1].split(' ')[0]\n",
        "               \n",
        "                                \n",
        "            else:\n",
        "                df[col_dedicada][i] = np.nan\n",
        "                df[col_gb][i] = np.nan\n",
        "\n",
        "        else:\n",
        "            df[col_dedicada][i] = np.nan\n",
        "            df[col_gb][i] = np.nan\n",
        "        \n",
        "    for i in range(len(df[columna])):   \n",
        "        \n",
        "        if \"Integrada\" in df[columna][i]:\n",
        "            df[col_integrada][i] = df[columna][i].split('\\n')[0].replace('(Integrada)','')\n",
        "        \n",
        "        else:\n",
        "            df[col_integrada][i] = np.nan"
      ],
      "metadata": {
        "id": "SiRCPGqchIjD"
      },
      "id": "SiRCPGqchIjD",
      "execution_count": null,
      "outputs": []
    },
    {
      "cell_type": "code",
      "source": [
        "split_video(df_md, 'video', 'gpu_integrada', 'gpu_dedicada', 'gb_gpu_dedicada')"
      ],
      "metadata": {
        "id": "vfnKDhGyhVyF"
      },
      "id": "vfnKDhGyhVyF",
      "execution_count": null,
      "outputs": []
    },
    {
      "cell_type": "code",
      "source": [
        "df_clean = df_md.drop(columns = ['processor', 'ram', 'storage', 'video', 'freq_procesador']).copy()"
      ],
      "metadata": {
        "id": "Zu4asEishbe0"
      },
      "id": "Zu4asEishbe0",
      "execution_count": null,
      "outputs": []
    },
    {
      "cell_type": "code",
      "source": [
        "print(df_clean.columns)"
      ],
      "metadata": {
        "colab": {
          "base_uri": "https://localhost:8080/"
        },
        "id": "x3peuNe7hzMe",
        "outputId": "583d3387-a98a-422e-eb8d-efcf6bfad001"
      },
      "id": "x3peuNe7hzMe",
      "execution_count": null,
      "outputs": [
        {
          "output_type": "stream",
          "name": "stdout",
          "text": [
            "Index(['id', 'name', 'Tienda', 'precio oferta', 'precio normal', 'marca',\n",
            "       'nombre_procesador', 'nucleos_procesador', 'hilos_procesador',\n",
            "       'freq_procesador_MHz', 'freq_procesador_turbo_MHz', 'GB_ram',\n",
            "       'tipo_ram', 'freq_ram_MHz', 'tipo_almacenamiento',\n",
            "       'tamaño_almacenamiento', 'unidad_almacenamiento', 'gpu_integrada',\n",
            "       'gpu_dedicada', 'gb_gpu_dedicada'],\n",
            "      dtype='object')\n"
          ]
        }
      ]
    },
    {
      "cell_type": "markdown",
      "source": [
        "Todos los datos son detipo objeto, se cambiarán a int las siguientes columnas: 'precio_normal', 'id', 'precio_of', 'nucleos_procesador', 'hilos_procesador', 'freq_procesador_MHz', 'freq_procesador_turbo_MHz', 'GB_ram', 'freq_ram_MHz', 'tamaño_almacenamiento', 'gb_gpu_dedicada' "
      ],
      "metadata": {
        "id": "uVuRyr0eiHbR"
      },
      "id": "uVuRyr0eiHbR"
    },
    {
      "cell_type": "code",
      "source": [
        "df_clean['precio normal'] = df_clean['precio normal'].astype(int)\n",
        "df_clean['id'] = df_clean['id'].astype(int)\n",
        "df_clean['precio oferta'] = df_clean['precio oferta'].astype(int)\n",
        "df_clean['nucleos_procesador'] = df_clean['nucleos_procesador'].astype(int)\n",
        "df_clean['hilos_procesador'] = df_clean['hilos_procesador'].astype(int)\n",
        "df_clean['freq_procesador_MHz'] = df_clean['freq_procesador_MHz'].astype(int)\n",
        "df_clean['freq_procesador_turbo_MHz'] = df_clean['freq_procesador_turbo_MHz'].astype(float).astype('Int32')\n",
        "df_clean['GB_ram'] = df_clean['GB_ram'].astype(int)\n",
        "df_clean['freq_ram_MHz'] = df_clean['freq_ram_MHz'].astype(int)\n",
        "df_clean['tamaño_almacenamiento'] = df_clean['tamaño_almacenamiento'].astype(int)\n",
        "df_clean['gb_gpu_dedicada'] = df_clean['gb_gpu_dedicada'].astype(float).astype('Int32')"
      ],
      "metadata": {
        "id": "Oqivcg2UiBJP"
      },
      "id": "Oqivcg2UiBJP",
      "execution_count": null,
      "outputs": []
    },
    {
      "cell_type": "markdown",
      "metadata": {
        "id": "88f8962d"
      },
      "source": [
        "**Falta limpiar las marcas de las tiendas.**\n",
        "\n",
        "En este caso no trabajaremos con los precios de las tiendas que incluyan accesorios, ya que **pueden sesgar el precio de los Notebooks** propiamente tal. Para esto **eliminarmos las filas que contengan tiendas con la palabra \"Incluye\"**."
      ],
      "id": "88f8962d"
    },
    {
      "cell_type": "code",
      "execution_count": null,
      "metadata": {
        "id": "3ZSFnx9Llqel"
      },
      "outputs": [],
      "source": [
        "indices = []\n",
        "for i in range(len(df_clean['Tienda'])):\n",
        "    if \"Incluye\" in df_clean['Tienda'][i]:\n",
        "        indices.append(i)"
      ],
      "id": "3ZSFnx9Llqel"
    },
    {
      "cell_type": "code",
      "source": [
        "#Eliminación de las tiendas que poseen la palabra \"Incluye\"\n",
        "df_clean.drop(index = indices, inplace=True)"
      ],
      "metadata": {
        "id": "O8py_vIKiif9"
      },
      "id": "O8py_vIKiif9",
      "execution_count": null,
      "outputs": []
    },
    {
      "cell_type": "markdown",
      "metadata": {
        "id": "c77a7755"
      },
      "source": [
        "**Se guardan los datos limpios y extraídos en un csv.**"
      ],
      "id": "c77a7755"
    },
    {
      "cell_type": "code",
      "source": [
        "# Guardado de datos en archivo \".pkl\"\n",
        "pickle.dump(df_clean, open('drive/MyDrive/Colab Notebooks/tarea1_analitica/datos_clean.sav', 'wb'))"
      ],
      "metadata": {
        "id": "9xALCTiJintQ"
      },
      "id": "9xALCTiJintQ",
      "execution_count": null,
      "outputs": []
    },
    {
      "cell_type": "markdown",
      "source": [
        "# Archivo '.pkl' con DataFrame"
      ],
      "metadata": {
        "id": "HMCHx-7B1r5i"
      },
      "id": "HMCHx-7B1r5i"
    },
    {
      "cell_type": "code",
      "source": [
        "# Carga de archivo pickle\n",
        "df_clean = pickle.load(open('drive/MyDrive/Colab Notebooks/tarea1_analitica/datos_clean.sav', \"rb\" ))"
      ],
      "metadata": {
        "id": "KsEmWGjEi7MG"
      },
      "id": "KsEmWGjEi7MG",
      "execution_count": 5,
      "outputs": []
    },
    {
      "cell_type": "markdown",
      "metadata": {
        "id": "fd9f50c5"
      },
      "source": [
        "**Exploración de los datos \"limpios\"**"
      ],
      "id": "fd9f50c5"
    },
    {
      "cell_type": "code",
      "source": [
        "df_clean.shape"
      ],
      "metadata": {
        "colab": {
          "base_uri": "https://localhost:8080/"
        },
        "id": "w4ohKABrikti",
        "outputId": "b3f0dcbf-9b3f-4c28-e0d3-07faacefbd2a"
      },
      "id": "w4ohKABrikti",
      "execution_count": null,
      "outputs": [
        {
          "output_type": "execute_result",
          "data": {
            "text/plain": [
              "(3258, 20)"
            ]
          },
          "metadata": {},
          "execution_count": 9
        }
      ]
    },
    {
      "cell_type": "code",
      "source": [
        "print(df_clean.info())"
      ],
      "metadata": {
        "colab": {
          "base_uri": "https://localhost:8080/"
        },
        "id": "_PBAnbpJiTVP",
        "outputId": "f856d1b1-3c9e-458c-a791-39b40cbffc4b"
      },
      "id": "_PBAnbpJiTVP",
      "execution_count": null,
      "outputs": [
        {
          "output_type": "stream",
          "name": "stdout",
          "text": [
            "<class 'pandas.core.frame.DataFrame'>\n",
            "Int64Index: 3258 entries, 0 to 3285\n",
            "Data columns (total 20 columns):\n",
            " #   Column                     Non-Null Count  Dtype \n",
            "---  ------                     --------------  ----- \n",
            " 0   id                         3258 non-null   int64 \n",
            " 1   name                       3258 non-null   object\n",
            " 2   Tienda                     3258 non-null   object\n",
            " 3   precio oferta              3258 non-null   int64 \n",
            " 4   precio normal              3258 non-null   int64 \n",
            " 5   marca                      3258 non-null   object\n",
            " 6   nombre_procesador          3258 non-null   object\n",
            " 7   nucleos_procesador         3258 non-null   int64 \n",
            " 8   hilos_procesador           3258 non-null   int64 \n",
            " 9   freq_procesador_MHz        3258 non-null   int64 \n",
            " 10  freq_procesador_turbo_MHz  3152 non-null   Int32 \n",
            " 11  GB_ram                     3258 non-null   int64 \n",
            " 12  tipo_ram                   3258 non-null   object\n",
            " 13  freq_ram_MHz               3258 non-null   int64 \n",
            " 14  tipo_almacenamiento        3258 non-null   object\n",
            " 15  tamaño_almacenamiento      3258 non-null   int64 \n",
            " 16  unidad_almacenamiento      3258 non-null   object\n",
            " 17  gpu_integrada              3244 non-null   object\n",
            " 18  gpu_dedicada               229 non-null    object\n",
            " 19  gb_gpu_dedicada            229 non-null    Int32 \n",
            "dtypes: Int32(2), int64(9), object(9)\n",
            "memory usage: 515.4+ KB\n",
            "None\n"
          ]
        }
      ]
    },
    {
      "cell_type": "markdown",
      "metadata": {
        "id": "96a40bc7"
      },
      "source": [
        "## 2. Manejo de datos (13 ptos)\n",
        "\n",
        "En primera instancia a la emprendedora le gustaría un análisis de filtrado de los Notebooks a nivel de tienda y marca. Para esto le piden a usted que responda las siguientes preguntas:"
      ],
      "id": "96a40bc7"
    },
    {
      "cell_type": "markdown",
      "metadata": {
        "id": "0b645d54"
      },
      "source": [
        "### Pregunta 2.1 (3 ptos):\n",
        "\n",
        "Entregue una tabla:\n",
        "\n",
        "*   Notebooks que tengan el precio normal entre mínimo $400.000$ mil y máximo $800.000$ mil, que sean Intel Core i7 y que tengan 16 o menos GB de RAM.\n",
        "\n"
      ],
      "id": "0b645d54"
    },
    {
      "cell_type": "code",
      "execution_count": null,
      "metadata": {
        "id": "TCTyK1J0sY9V"
      },
      "outputs": [],
      "source": [
        "df_precio = df_clean[(df_clean['precio normal']>400000) & (df_clean['precio normal']<800000)]"
      ],
      "id": "TCTyK1J0sY9V"
    },
    {
      "cell_type": "code",
      "source": [
        "df_proce = df_precio[df_precio['nombre_procesador'].str.contains('Intel Core i7')]"
      ],
      "metadata": {
        "id": "ysOz2nshGK-U"
      },
      "id": "ysOz2nshGK-U",
      "execution_count": null,
      "outputs": []
    },
    {
      "cell_type": "code",
      "source": [
        "df_ram = df_proce[df_proce['GB_ram']<=16]"
      ],
      "metadata": {
        "id": "EWNY-is7_s8C"
      },
      "id": "EWNY-is7_s8C",
      "execution_count": null,
      "outputs": []
    },
    {
      "cell_type": "markdown",
      "source": [
        "Son 111 notebooks que cumplen con los requerimientos solicitados de precio y componentes. "
      ],
      "metadata": {
        "id": "RH_2UUrHB1im"
      },
      "id": "RH_2UUrHB1im"
    },
    {
      "cell_type": "code",
      "source": [
        "requerimiento = pd.DataFrame(columns = (['id', 'name']))"
      ],
      "metadata": {
        "id": "pxlCSO1s_zWY"
      },
      "id": "pxlCSO1s_zWY",
      "execution_count": null,
      "outputs": []
    },
    {
      "cell_type": "code",
      "source": [
        "requerimiento['id'] = df_ram['id']\n",
        "requerimiento['name'] = df_ram['name']\n",
        "\n",
        "print(requerimiento)"
      ],
      "metadata": {
        "colab": {
          "base_uri": "https://localhost:8080/"
        },
        "id": "sZhQKf-rCZDH",
        "outputId": "04d1482a-c444-4d99-d23b-04c268360fce"
      },
      "id": "sZhQKf-rCZDH",
      "execution_count": null,
      "outputs": [
        {
          "output_type": "stream",
          "name": "stdout",
          "text": [
            "          id                                               name\n",
            "1315  147449  Lenovo ThinkPad T470 (i7-6500U / 16GB / 500GB)...\n",
            "1433   96568                                 EVOO EV-C-156-1-BK\n",
            "1436  153804    Dell Latitude 7280 (i7-7600U / 8GB / 256GB SSD)\n",
            "1523  132907  Lenovo ThinkPad X1 Carbon (i7-6500U / 8GB / 25...\n",
            "1574  147448  Lenovo ThinkPad T470 (i7-6500U / 16GB / 480GB ...\n",
            "...      ...                                                ...\n",
            "2921  152953                  HP Pavilion 15-EG1073CL [4S157UA]\n",
            "2922  150743                   HP Pavilion 15-EG1073 [4S157UAR]\n",
            "2923  150451                           HP 15-DY2033NR [544Q3UA]\n",
            "2926  116491                  HP Pavilion 13-BB0015CL [1N8K2UA]\n",
            "2940  153353  Samsung Galaxy Book Pro - Mystic Blue [NP930XD...\n",
            "\n",
            "[111 rows x 2 columns]\n"
          ]
        }
      ]
    },
    {
      "cell_type": "markdown",
      "metadata": {
        "id": "ad4508c6"
      },
      "source": [
        "### Pregunta 2.2 (2 pts - bonus): \n",
        "\n",
        "* ¿Cuáles marcas y tiendas venden Notebooks en el mercado chileno de acuerdo con solotodo?\n",
        "* ¿Cuántas marcas y tiendas venden Notebooks en el mercado chileno de acuerdo con solotodo?\n",
        "\n",
        "Utilice la primera palabra del nombre del Notebook como la marca."
      ],
      "id": "ad4508c6"
    },
    {
      "cell_type": "markdown",
      "source": [
        "### Información de tiendas que venden notebook en el mercado chileno"
      ],
      "metadata": {
        "id": "6SRdryPtDlVk"
      },
      "id": "6SRdryPtDlVk"
    },
    {
      "cell_type": "code",
      "execution_count": null,
      "metadata": {
        "id": "z9or381nqnc9",
        "colab": {
          "base_uri": "https://localhost:8080/"
        },
        "outputId": "8bb1e300-021c-40ae-d9b8-643a03f42436"
      },
      "outputs": [
        {
          "output_type": "stream",
          "name": "stdout",
          "text": [
            "['Tienda que vende notebook en Chile: AbcDin'\n",
            " 'Tienda que vende notebook en Chile: Bookcomputer'\n",
            " 'Tienda que vende notebook en Chile: Best Store'\n",
            " 'Tienda que vende notebook en Chile: Centrale'\n",
            " 'Tienda que vende notebook en Chile: Winpy'\n",
            " 'Tienda que vende notebook en Chile: Wei'\n",
            " 'Tienda que vende notebook en Chile: Isibook'\n",
            " 'Tienda que vende notebook en Chile: Golden Digital'\n",
            " 'Tienda que vende notebook en Chile: Globalbox'\n",
            " 'Tienda que vende notebook en Chile: SP Digital'\n",
            " 'Tienda que vende notebook en Chile: NotebookStore'\n",
            " 'Tienda que vende notebook en Chile: Danaus'\n",
            " 'Tienda que vende notebook en Chile: Falabella'\n",
            " 'Tienda que vende notebook en Chile: Paris'\n",
            " 'Tienda que vende notebook en Chile: PortatilChile'\n",
            " 'Tienda que vende notebook en Chile: Sicot'\n",
            " 'Tienda que vende notebook en Chile: OPC Store'\n",
            " 'Tienda que vende notebook en Chile: Reuse'\n",
            " 'Tienda que vende notebook en Chile: Ripley'\n",
            " 'Tienda que vende notebook en Chile: Mercado Libre'\n",
            " 'Tienda que vende notebook en Chile: Casa Royal'\n",
            " 'Tienda que vende notebook en Chile: Hites'\n",
            " 'Tienda que vende notebook en Chile: Spider Store'\n",
            " 'Tienda que vende notebook en Chile: PC Factory'\n",
            " 'Tienda que vende notebook en Chile: Xcom'\n",
            " 'Tienda que vende notebook en Chile: La Polar'\n",
            " 'Tienda que vende notebook en Chile: Lider'\n",
            " 'Tienda que vende notebook en Chile: GGames'\n",
            " 'Tienda que vende notebook en Chile: Electronica Budini'\n",
            " 'Tienda que vende notebook en Chile: Zacto'\n",
            " 'Tienda que vende notebook en Chile: LifeMax'\n",
            " 'Tienda que vende notebook en Chile: Jasaltec'\n",
            " 'Tienda que vende notebook en Chile: TecnoPro'\n",
            " 'Tienda que vende notebook en Chile: HP Online'\n",
            " 'Tienda que vende notebook en Chile: UltraPC'\n",
            " 'Tienda que vende notebook en Chile: Sodimac'\n",
            " 'Tienda que vende notebook en Chile: Cintegral'\n",
            " 'Tienda que vende notebook en Chile: Bip'\n",
            " 'Tienda que vende notebook en Chile: LOi Chile'\n",
            " 'Tienda que vende notebook en Chile: Todoclick'\n",
            " 'Tienda que vende notebook en Chile: YouTech'\n",
            " 'Tienda que vende notebook en Chile: KDTEC'\n",
            " 'Tienda que vende notebook en Chile: PC Link Store'\n",
            " 'Tienda que vende notebook en Chile: PC Express'\n",
            " 'Tienda que vende notebook en Chile: EYC'\n",
            " 'Tienda que vende notebook en Chile: Elite Center'\n",
            " 'Tienda que vende notebook en Chile: Golden Gamers'\n",
            " 'Tienda que vende notebook en Chile: AZtech'\n",
            " 'Tienda que vende notebook en Chile: Acer Store'\n",
            " 'Tienda que vende notebook en Chile: Fiestalan'\n",
            " 'Tienda que vende notebook en Chile: Alca Plus'\n",
            " 'Tienda que vende notebook en Chile: SmartDeal'\n",
            " 'Tienda que vende notebook en Chile: AllTec'\n",
            " 'Tienda que vende notebook en Chile: Tecnocam'\n",
            " 'Tienda que vende notebook en Chile: Dreamtec'\n",
            " 'Tienda que vende notebook en Chile: TecnoSite'\n",
            " 'Tienda que vende notebook en Chile: Giga Black'\n",
            " 'Tienda que vende notebook en Chile: SCGlobal'\n",
            " 'Tienda que vende notebook en Chile: PC-Nitro'\n",
            " 'Tienda que vende notebook en Chile: Notebooksya!'\n",
            " 'Tienda que vende notebook en Chile: Digiplot'\n",
            " 'Tienda que vende notebook en Chile: Tecno Mas'\n",
            " 'Tienda que vende notebook en Chile: Version 2'\n",
            " 'Tienda que vende notebook en Chile: Natcom'\n",
            " 'Tienda que vende notebook en Chile: Nuevatec'\n",
            " 'Tienda que vende notebook en Chile: Huawei Shop'\n",
            " 'Tienda que vende notebook en Chile: Llevatelo.cl'\n",
            " 'Tienda que vende notebook en Chile: TIC Online Store'\n",
            " 'Tienda que vende notebook en Chile: TopPC'\n",
            " 'Tienda que vende notebook en Chile: Travel Tienda'\n",
            " 'Tienda que vende notebook en Chile: PC Master Games'\n",
            " 'Tienda que vende notebook en Chile: Full Color'\n",
            " 'Tienda que vende notebook en Chile: Tienda Entel'\n",
            " 'Tienda que vende notebook en Chile: Samsung Shop'\n",
            " 'Tienda que vende notebook en Chile: TecTec'\n",
            " 'Tienda que vende notebook en Chile: Lenovo Chile'\n",
            " 'Tienda que vende notebook en Chile: Todo Geek'\n",
            " 'Tienda que vende notebook en Chile: Tecno Master'\n",
            " 'Tienda que vende notebook en Chile: ASUS Store'\n",
            " 'Tienda que vende notebook en Chile: PC Gamer'\n",
            " 'Tienda que vende notebook en Chile: Tienda Movistar'\n",
            " 'Tienda que vende notebook en Chile: Infosep'\n",
            " 'Tienda que vende notebook en Chile: Notetop'\n",
            " 'Tienda que vende notebook en Chile: Wisdom TS'\n",
            " 'Tienda que vende notebook en Chile: UG Store'\n",
            " 'Tienda que vende notebook en Chile: MacOnline'\n",
            " 'Tienda que vende notebook en Chile: Infographics Solutions']\n"
          ]
        }
      ],
      "source": [
        "# Nombre de las tiendas que venden notebook\n",
        "print(\"Tienda que vende notebook en Chile: \" + df_clean['Tienda'].unique())"
      ],
      "id": "z9or381nqnc9"
    },
    {
      "cell_type": "code",
      "source": [
        "# Numero de tiendas en Chile que venden notebook\n",
        "print(\"Numero de tiendas en Chile que venden notebook: \" + str(len(df_clean['Tienda'].unique())))"
      ],
      "metadata": {
        "colab": {
          "base_uri": "https://localhost:8080/"
        },
        "id": "wr-d5IueDP2i",
        "outputId": "a37b66b1-2207-45e4-ce5a-3c6468c3e674"
      },
      "id": "wr-d5IueDP2i",
      "execution_count": null,
      "outputs": [
        {
          "output_type": "stream",
          "name": "stdout",
          "text": [
            "Numero de tiendas en Chile que venden notebook: 87\n"
          ]
        }
      ]
    },
    {
      "cell_type": "markdown",
      "source": [
        "### Información de marcas de notebook que se venden en el mercado chileno"
      ],
      "metadata": {
        "id": "V1Rxlx6xEvIS"
      },
      "id": "V1Rxlx6xEvIS"
    },
    {
      "cell_type": "code",
      "source": [
        "# Nombre de las marcas de notebook\n",
        "print(\"Nombre de marca de notebook en Chile: \" + df_clean['marca'].unique())"
      ],
      "metadata": {
        "colab": {
          "base_uri": "https://localhost:8080/"
        },
        "id": "fh3Go6EZE0Us",
        "outputId": "6931077a-43cf-4375-ce2b-bc54db72c9da"
      },
      "id": "fh3Go6EZE0Us",
      "execution_count": null,
      "outputs": [
        {
          "output_type": "stream",
          "name": "stdout",
          "text": [
            "['Nombre de marca de notebook en Chile: ASUS'\n",
            " 'Nombre de marca de notebook en Chile: Lenovo'\n",
            " 'Nombre de marca de notebook en Chile: EVOO'\n",
            " 'Nombre de marca de notebook en Chile: HP'\n",
            " 'Nombre de marca de notebook en Chile: Hyundai'\n",
            " 'Nombre de marca de notebook en Chile: Dell'\n",
            " 'Nombre de marca de notebook en Chile: CHUWI'\n",
            " 'Nombre de marca de notebook en Chile: Acer'\n",
            " 'Nombre de marca de notebook en Chile: Samsung'\n",
            " 'Nombre de marca de notebook en Chile: Gateway'\n",
            " 'Nombre de marca de notebook en Chile: Gear'\n",
            " 'Nombre de marca de notebook en Chile: BMAX'\n",
            " 'Nombre de marca de notebook en Chile: Toshiba'\n",
            " 'Nombre de marca de notebook en Chile: V2'\n",
            " 'Nombre de marca de notebook en Chile: Huawei'\n",
            " 'Nombre de marca de notebook en Chile: Apple'\n",
            " 'Nombre de marca de notebook en Chile: MSI'\n",
            " 'Nombre de marca de notebook en Chile: Microsoft'\n",
            " 'Nombre de marca de notebook en Chile: Xiaomi'\n",
            " 'Nombre de marca de notebook en Chile: XPG'\n",
            " 'Nombre de marca de notebook en Chile: Gigabyte']\n"
          ]
        }
      ]
    },
    {
      "cell_type": "code",
      "source": [
        "# Numero de marcas de notebook que se venden en Chile\n",
        "print(\"Numero de marcas de notebook que se venden en Chile: \" + str(len(df_clean['marca'].unique())))"
      ],
      "metadata": {
        "colab": {
          "base_uri": "https://localhost:8080/"
        },
        "id": "Aoe-DXyMFcz_",
        "outputId": "e2733ee9-4dda-4134-981f-1d221a128d8e"
      },
      "id": "Aoe-DXyMFcz_",
      "execution_count": null,
      "outputs": [
        {
          "output_type": "stream",
          "name": "stdout",
          "text": [
            "Numero de marcas de notebook que se venden en Chile: 21\n"
          ]
        }
      ]
    },
    {
      "cell_type": "markdown",
      "metadata": {
        "id": "6dac7ae1"
      },
      "source": [
        "### Pregunta 2.3 (2 pts - bonus):\n",
        "\n",
        "¿Cuál es la cantidad de Notebooks que se venden por marca (considere todos los Notebooks, independiente si se vende en otra tienda o no). Para esto se le pide la siguiente tabla:\n",
        "\n",
        "| Marca | Cantidad |\n",
        "|:-----------:|:------:|\n",
        "| Asus\t |38\n",
        "| Apple | 286 |\n",
        "| HP | 462 |\n",
        "| ... | ... |\n",
        "\n",
        "Ademas, con esta información construya un gráfico de barras. Para esto pueden utilizar la librería **Matplotlib**. \n",
        "\n",
        "**Reminder:** Un gráfico siempre debe tener título y labels en el eje x e y."
      ],
      "id": "6dac7ae1"
    },
    {
      "cell_type": "code",
      "execution_count": null,
      "metadata": {
        "id": "A0uwxV_SstKH"
      },
      "outputs": [],
      "source": [
        "tabla_marcas = pd.DataFrame(df_clean['marca'].value_counts().rename_axis('marca').reset_index(name = 'cantidad'))"
      ],
      "id": "A0uwxV_SstKH"
    },
    {
      "cell_type": "code",
      "source": [
        "# N° de notebook que se venden por marca, independiente de la tienda\n",
        "print(tabla_marcas)"
      ],
      "metadata": {
        "colab": {
          "base_uri": "https://localhost:8080/"
        },
        "id": "UYmw8qjlHH0N",
        "outputId": "3064f669-8399-4835-88b2-eeae52d9a8dd"
      },
      "id": "UYmw8qjlHH0N",
      "execution_count": null,
      "outputs": [
        {
          "output_type": "stream",
          "name": "stdout",
          "text": [
            "        marca  cantidad\n",
            "0      Lenovo       975\n",
            "1          HP       960\n",
            "2        Dell       445\n",
            "3        ASUS       426\n",
            "4        Acer       135\n",
            "5     Samsung        70\n",
            "6      Huawei        62\n",
            "7       Apple        42\n",
            "8         MSI        33\n",
            "9       CHUWI        27\n",
            "10    Gateway        25\n",
            "11    Toshiba        22\n",
            "12    Hyundai        12\n",
            "13       EVOO         5\n",
            "14       BMAX         5\n",
            "15  Microsoft         5\n",
            "16       Gear         4\n",
            "17   Gigabyte         2\n",
            "18         V2         1\n",
            "19     Xiaomi         1\n",
            "20        XPG         1\n"
          ]
        }
      ]
    },
    {
      "cell_type": "code",
      "source": [
        "plt.barh(tabla_marcas['marca'], tabla_marcas['cantidad'], align = 'center')"
      ],
      "metadata": {
        "colab": {
          "base_uri": "https://localhost:8080/",
          "height": 283
        },
        "id": "ng4lSeHPHoOt",
        "outputId": "c68aa847-958e-43b3-8421-eaa1640a5447"
      },
      "id": "ng4lSeHPHoOt",
      "execution_count": null,
      "outputs": [
        {
          "output_type": "execute_result",
          "data": {
            "text/plain": [
              "<BarContainer object of 21 artists>"
            ]
          },
          "metadata": {},
          "execution_count": 82
        },
        {
          "output_type": "display_data",
          "data": {
            "text/plain": [
              "<Figure size 432x288 with 1 Axes>"
            ],
            "image/png": "[encoded data removed]"
          },
          "metadata": {
            "needs_background": "light"
          }
        }
      ]
    },
    {
      "cell_type": "code",
      "source": [
        "fig, ax = plt.subplots()\n",
        "ax.barh(tabla_marcas['marca'], tabla_marcas['cantidad'])\n",
        "plt.title(\"Notebook vendidos por marca en Chile\")\n",
        "plt.ylabel('Marcas')\n",
        "plt.xlabel('Unidades vendidas')\n",
        "plt.show()"
      ],
      "metadata": {
        "colab": {
          "base_uri": "https://localhost:8080/",
          "height": 295
        },
        "id": "_xovxpC2OeOV",
        "outputId": "84fe9198-aeda-413d-e088-8e1978b1cf1d"
      },
      "id": "_xovxpC2OeOV",
      "execution_count": null,
      "outputs": [
        {
          "output_type": "display_data",
          "data": {
            "text/plain": [
              "<Figure size 432x288 with 1 Axes>"
            ],
            "image/png": "[encoded data removed]"
          },
          "metadata": {
            "needs_background": "light"
          }
        }
      ]
    },
    {
      "cell_type": "markdown",
      "metadata": {
        "id": "2c527d90"
      },
      "source": [
        "### Pregunta 2.4 (6 pts - bonus):\n",
        "\n",
        "- Muestre en una tabla los precios normales promedios de todas las marcas (redondeé a dos decimales) y luego las estadísticas descriptivas (desviación estándar, promedio, valor máximo y mínimo) de las 3 marcas de Notebooks que tengan el mayor precio normal promedio y las 2 marcas que tengan el menor precio normal promedio (considere todos los Notebooks).\n",
        "\n",
        "    *Ejemplo (primera tabla).*\n",
        "\n",
        "| Marca | Precio normal promedio |\n",
        "|:----------------:|:----------------:|\n",
        "|  Marca 1 | 4.100.000 |\n",
        "| ... | ... |\n",
        "| Marca 26 | 250.000 |\n",
        "\n",
        "- Entregue una tabla con los 30 Notebooks con mayor descuento (precio normal - precio oferta). La tabla debe contener los descuentos de mayor a menor y sin repetición de un mismo notebook en diferentes tiendas (mantenga el Notebook de una misma tienda con el descuento mayor).\n",
        "\n",
        "    *Ejemplo.*\n",
        "\n",
        "| Tienda | Nombre | Precio normal | Precio oferta | Descuento |\n",
        "|:----------------:|:----------------:|:----------------:|:----------------:|:----------------:|\n",
        "| Tienda x |  Nombre 1 | 900.000 |  830.000 | 70.000 |\n",
        "| ... | ... | ... | ... | ... |\n",
        "| Tienda x | Nombre 30 | 643.000 | 603.000 | 40.000 |\n",
        "\n"
      ],
      "id": "2c527d90"
    },
    {
      "cell_type": "code",
      "source": [
        "# Muestre en una tabla los precios normales promedios de todas las marcas\n",
        "tabla_normal = df_clean[['marca', 'precio normal']]"
      ],
      "metadata": {
        "id": "mqFHLxPF1EAf"
      },
      "id": "mqFHLxPF1EAf",
      "execution_count": 11,
      "outputs": []
    },
    {
      "cell_type": "code",
      "source": [
        "# marcas\n",
        "avr_normal = tabla_normal.groupby(['marca']).mean().reset_index().round(2).rename(columns={'precio normal':'precio normal promedio'})"
      ],
      "metadata": {
        "id": "OBr9CJvd5J6Q"
      },
      "id": "OBr9CJvd5J6Q",
      "execution_count": 12,
      "outputs": []
    },
    {
      "cell_type": "code",
      "source": [
        "# Seleccion de las marcas con mayor y menor precio promedio\n",
        "marcas_mayorP = avr_normal.sort_values(by='precio normal promedio', ascending = False)[:3]\n",
        "marcas_menorP = avr_normal.sort_values(by='precio normal promedio', ascending = False)[-2:]\n"
      ],
      "metadata": {
        "id": "eR8uSKaF68ET"
      },
      "id": "eR8uSKaF68ET",
      "execution_count": 13,
      "outputs": []
    },
    {
      "cell_type": "code",
      "source": [
        "# Estadística descriptiva de las 5 marcas seleccionadas\n",
        "descripcion_marcas = pd.concat([marcas_mayorP, marcas_menorP])\n",
        "print(descripcion_marcas.describe())"
      ],
      "metadata": {
        "colab": {
          "base_uri": "https://localhost:8080/"
        },
        "id": "-3lcYUx8aldi",
        "outputId": "4b769c12-c6bf-4294-90ed-d96d778beb06"
      },
      "id": "-3lcYUx8aldi",
      "execution_count": 14,
      "outputs": [
        {
          "output_type": "stream",
          "name": "stdout",
          "text": [
            "       precio normal promedio\n",
            "count                 5.00000\n",
            "mean             666465.10000\n",
            "std              382599.45607\n",
            "min              223558.33000\n",
            "25%              273990.00000\n",
            "50%              919842.00000\n",
            "75%              927790.00000\n",
            "max              987145.17000\n"
          ]
        }
      ]
    },
    {
      "cell_type": "code",
      "source": [
        "#tienda, nombre, precio normal, precio oferta, descuento\n",
        "descuentos = df_clean[['id', 'Tienda', 'name', 'precio normal', 'precio oferta']]\n",
        "descuentos['descuento total'] = df_clean['precio normal']-df_clean['precio oferta']"
      ],
      "metadata": {
        "id": "dLcsWuOocfVX"
      },
      "id": "dLcsWuOocfVX",
      "execution_count": 29,
      "outputs": []
    },
    {
      "cell_type": "code",
      "source": [
        "descuentos = descuentos.sort_values(by='descuento total', ascending = False)[:30]"
      ],
      "metadata": {
        "id": "c-7vG8aJ-gFt"
      },
      "id": "c-7vG8aJ-gFt",
      "execution_count": 33,
      "outputs": []
    },
    {
      "cell_type": "code",
      "source": [
        "print(descuentos)"
      ],
      "metadata": {
        "colab": {
          "base_uri": "https://localhost:8080/"
        },
        "id": "Sx8_6lZD_nGG",
        "outputId": "4092f695-1dea-40fd-81a2-2ca5cb81184b"
      },
      "id": "Sx8_6lZD_nGG",
      "execution_count": 35,
      "outputs": [
        {
          "output_type": "stream",
          "name": "stdout",
          "text": [
            "          id      Tienda                                               name  \\\n",
            "3268  112808  PC Factory  Huawei Matebook X Pro 2021 [MachD-WFE9A / 5301...   \n",
            "3073  128273  PC Factory                       HP Omen 16-B0509LA [4P618LA]   \n",
            "3083  135008  PC Factory  Samsung Galaxy Book2 Pro - Silver [NP950XED-KB...   \n",
            "3153  110264  PC Factory          Huawei Matebook X [Euler-W19D / 53011SWS]   \n",
            "3071  128273  PC Factory                       HP Omen 16-B0509LA [4P618LA]   \n",
            "2946  136126  PC Factory  Samsung Galaxy Book2 360 - Silver [NP730QED-KB...   \n",
            "3211  101280  PC Factory  Apple MacBook Air (Late 2020 / Apple Silicon M...   \n",
            "3206  103257  PC Factory  Apple MacBook Air (Late 2020 / Apple Silicon M...   \n",
            "3277  155117  PC Factory                        Dell G5 Gaming 5525 [5CFYD]   \n",
            "3276  136123  PC Factory  ASUS Vivobook Pro 15 OLED K3500PC-L1386W [90NB...   \n",
            "3163  133422  PC Factory                       Dell G15 Gaming 5511 [JPMK1]   \n",
            "3165  125096  PC Factory           MSI Bravo 15 B5DD-255CL [9S7-158K12-255]   \n",
            "2811  128124  PC Factory              HP Spectre x360 14-EA0510LA [4J6N0LA]   \n",
            "3093  122442  PC Factory                     HP Victus 16-D0501LA [470N9LA]   \n",
            "3056  152569  PC Factory               Dell Inspiron 14 2-in-1 7415 [PG4HV]   \n",
            "2958   99296  PC Factory  Apple MacBook Air (Late 2020 / Apple Silicon M...   \n",
            "2953   99298  PC Factory  Apple MacBook Air (Late 2020 / Apple Silicon M...   \n",
            "2969  102052  PC Factory  Apple MacBook Air (Late 2020 / Apple Silicon M...   \n",
            "2416  148663  PC Factory  Acer Aspire Nitro 5 AN515-57-54TP-1 [NH.QEKAL....   \n",
            "2618  111639  PC Factory                  HP Pavilion 15-EH0011LA [310H1LA]   \n",
            "2221  129029  PC Factory             HP Pavilion x360 14-DY0010LA [3A9B2LA]   \n",
            "2870  156141  PC Factory  Lenovo IdeaPad 3 14ITL6 (i7-1165G7 / 12GB / 51...   \n",
            "2869  125095  PC Factory  MSI Modern 15 A5M (Ryzen 7 5700U / 8GB / 512GB...   \n",
            "2868  121264  PC Factory                            XPG Xenia 14 [15260049]   \n",
            "2852  133358  PC Factory   ASUS Zenbook 13 UX325EA-KG757W [90NB0SL1-M00E00]   \n",
            "2844  136783  PC Factory                  HP Pavilion 14-DV0509LA [4J997LA]   \n",
            "2850  107880  PC Factory  Huawei Matebook D 15 + Router + Mouse [53012BG...   \n",
            "2819  136629  PC Factory  Samsung Galaxy Book2 360 - Graphite [NP730QED-...   \n",
            "2817  133985  PC Factory           HP Pavilion Gaming 15-EC1037LA [3Y799LA]   \n",
            "2330  114327  PC Factory               Lenovo IdeaPad 3 14ITL6 [82H700D5CL]   \n",
            "\n",
            "      precio normal  precio oferta  descuento total  \n",
            "3268        1546390        1314390           232000  \n",
            "3073        1443290        1226790           216500  \n",
            "3083        1329890        1130390           199500  \n",
            "3153        1288690        1095390           193300  \n",
            "3071        1237090        1051490           185600  \n",
            "2946        1206190        1025290           180900  \n",
            "3211        1185590        1007790           177800  \n",
            "3206        1185590        1007790           177800  \n",
            "3277        1061890         902590           159300  \n",
            "3276        1061890         902590           159300  \n",
            "3163        1030890         876290           154600  \n",
            "3165        1030890         876290           154600  \n",
            "2811        1010290         858690           151600  \n",
            "3093         999990         849990           150000  \n",
            "3056         979390         832490           146900  \n",
            "2958         948490         806190           142300  \n",
            "2953         948490         806190           142300  \n",
            "2969         948490         806190           142300  \n",
            "2416         927790         788590           139200  \n",
            "2618         927790         788590           139200  \n",
            "2221         927790         788590           139200  \n",
            "2870         927790         788590           139200  \n",
            "2869         927790         788590           139200  \n",
            "2868         927790         788590           139200  \n",
            "2852         917490         779890           137600  \n",
            "2844         907190         771090           136100  \n",
            "2850         907190         771090           136100  \n",
            "2819         896890         762390           134500  \n",
            "2817         896890         762390           134500  \n",
            "2330         876290         744790           131500  \n"
          ]
        }
      ]
    },
    {
      "cell_type": "markdown",
      "metadata": {
        "id": "02dcbbe2"
      },
      "source": [
        "## 3. Clasificación (23 ptos)"
      ],
      "id": "02dcbbe2"
    },
    {
      "cell_type": "markdown",
      "metadata": {
        "id": "sQQjm30uQSOp"
      },
      "source": [
        "Para resolver el segundo problema (encontrar una relación entre las funciones de un Notebook\n",
        "y su precio de venta), en primera instancia, se le ocurre formular un problema de clasificación en\n",
        "vez de ir directo a uno de regresión. Es decir, se le ocurre formular un modelo que permita clasificar\n",
        "un celular entre ciertos rangos de precios de acuerdo con las características que este tiene. Los\n",
        "rangos de precios que usted debe generar para predecir (etiquetas) son los siguientes:\n",
        "\n",
        "| Etiqueta | Precio | Rango |\n",
        "|:----------------:|:----------------:|:----------------:|\n",
        "| 0 | Bajo | [0 – 500.000) |\n",
        "| 1 | Medio | [500.000 – 700.000) |\n",
        "| 2 | Alto | [700.000 – más) |\n"
      ],
      "id": "sQQjm30uQSOp"
    },
    {
      "cell_type": "markdown",
      "metadata": {
        "id": "VNkgO0-xtqWA"
      },
      "source": [
        "**Consideraciones:**\n",
        "- En esta tarea no tiene que predecir el precio real, sino más bien, debe\n",
        "clasificar en qué rango de precios estará un celular de acuerdo con sus características.\n",
        "- Revise que las variables de una misma columna estén en la misma unidad de medida.\n",
        "- Para la clasificación usted puede utilizar las carcterísticas que estime conveniente, el único requisito es justificar sus decisiones. \n",
        "- Siguiendo la misma lógica del punto anterior, puede eliminar filas si aclara y menciona su eliminación.\n"
      ],
      "id": "VNkgO0-xtqWA"
    },
    {
      "cell_type": "markdown",
      "metadata": {
        "id": "741022f7"
      },
      "source": [
        "### Preparación datos\n",
        "\n",
        "Si dentro de esta etapa toma ciertas decisiones sobre el conjunto de datos, dejelas por escrita."
      ],
      "id": "741022f7"
    },
    {
      "cell_type": "markdown",
      "metadata": {
        "id": "0500b0bc"
      },
      "source": [
        "#### 1.1 Preprocese los datos para entrenar un algoritmo de Machine Learning. (3 pts)\n",
        "\n",
        "Debe crear las etiquetas mencionadas en el enunciado, para esto se recomienda el uso de filtros para la creación de las etiquetas."
      ],
      "id": "0500b0bc"
    },
    {
      "cell_type": "code",
      "execution_count": 36,
      "metadata": {
        "id": "f8d706c3"
      },
      "outputs": [],
      "source": [
        "df_modelo = df_clean.reset_index().drop(columns=['index'])"
      ],
      "id": "f8d706c3"
    },
    {
      "cell_type": "code",
      "source": [
        "df_modelo_precios = df_modelo.groupby('id').mean().reset_index()\n",
        "df_modelo_precios['etiqueta'] = ''"
      ],
      "metadata": {
        "id": "zrvx-Rz4DGBA"
      },
      "id": "zrvx-Rz4DGBA",
      "execution_count": 40,
      "outputs": []
    },
    {
      "cell_type": "code",
      "source": [
        "#función para asignar etiquetas (modelo de Yesenia Lara)\n",
        "\n",
        "def etiqueta(df, columna, nueva_columna):\n",
        "  for i in range(df.shape[0]):\n",
        "    \n",
        "    if 0 <= df[columna][i] < 500000:\n",
        "      df[nueva_columna][i] = 1\n",
        "\n",
        "    elif 500000 <= df[columna][i] < 700000:\n",
        "      df[nueva_columna][i] = 2\n",
        "    \n",
        "    else:\n",
        "      df[nueva_columna][i] = 3"
      ],
      "metadata": {
        "id": "Y5wAebPfFVAO"
      },
      "id": "Y5wAebPfFVAO",
      "execution_count": 41,
      "outputs": []
    },
    {
      "cell_type": "code",
      "source": [
        "etiqueta(df_modelo_precios, 'precio normal', 'etiqueta')"
      ],
      "metadata": {
        "id": "5Pl0z_lMFeK_"
      },
      "id": "5Pl0z_lMFeK_",
      "execution_count": 43,
      "outputs": []
    },
    {
      "cell_type": "code",
      "source": [
        "#pasamos nan a 0\n",
        "df_modelo_precios['freq_procesador_turbo_MHz'] = df_modelo_precios['freq_procesador_turbo_MHz'].replace(np.nan, 0)\n",
        "df_modelo_precios['gb_gpu_dedicada'] = df_modelo_precios['gb_gpu_dedicada'].replace(np.nan, 0)"
      ],
      "metadata": {
        "id": "kRkAl7reLNbC"
      },
      "id": "kRkAl7reLNbC",
      "execution_count": 44,
      "outputs": []
    },
    {
      "cell_type": "code",
      "source": [
        "df_modelo_precios = df_modelo_precios.astype(int)\n",
        "print(df_modelo_precios.info())"
      ],
      "metadata": {
        "colab": {
          "base_uri": "https://localhost:8080/"
        },
        "id": "EwAuAwVzNWve",
        "outputId": "bd615945-6b2b-42cd-f62e-8dfa3b5ee784"
      },
      "id": "EwAuAwVzNWve",
      "execution_count": 46,
      "outputs": [
        {
          "output_type": "stream",
          "name": "stdout",
          "text": [
            "<class 'pandas.core.frame.DataFrame'>\n",
            "RangeIndex: 1079 entries, 0 to 1078\n",
            "Data columns (total 12 columns):\n",
            " #   Column                     Non-Null Count  Dtype\n",
            "---  ------                     --------------  -----\n",
            " 0   id                         1079 non-null   int64\n",
            " 1   precio oferta              1079 non-null   int64\n",
            " 2   precio normal              1079 non-null   int64\n",
            " 3   nucleos_procesador         1079 non-null   int64\n",
            " 4   hilos_procesador           1079 non-null   int64\n",
            " 5   freq_procesador_MHz        1079 non-null   int64\n",
            " 6   freq_procesador_turbo_MHz  1079 non-null   int64\n",
            " 7   GB_ram                     1079 non-null   int64\n",
            " 8   freq_ram_MHz               1079 non-null   int64\n",
            " 9   tamaño_almacenamiento      1079 non-null   int64\n",
            " 10  gb_gpu_dedicada            1079 non-null   int64\n",
            " 11  etiqueta                   1079 non-null   int64\n",
            "dtypes: int64(12)\n",
            "memory usage: 101.3 KB\n",
            "None\n"
          ]
        }
      ]
    },
    {
      "cell_type": "code",
      "source": [
        "df_modelo_precios = df_modelo_precios.drop(columns= (['precio normal', 'precio oferta']))"
      ],
      "metadata": {
        "id": "2NL56cziNtfv"
      },
      "id": "2NL56cziNtfv",
      "execution_count": 47,
      "outputs": []
    },
    {
      "cell_type": "code",
      "source": [
        "df_modelo_precios.corr()"
      ],
      "metadata": {
        "colab": {
          "base_uri": "https://localhost:8080/",
          "height": 427
        },
        "id": "tevE-8rPNusW",
        "outputId": "701f0a23-02c0-479c-e247-8efc2a546968"
      },
      "id": "tevE-8rPNusW",
      "execution_count": 49,
      "outputs": [
        {
          "output_type": "execute_result",
          "data": {
            "text/plain": [
              "                                 id  nucleos_procesador  hilos_procesador  \\\n",
              "id                         1.000000            0.169755          0.189380   \n",
              "nucleos_procesador         0.169755            1.000000          0.881576   \n",
              "hilos_procesador           0.189380            0.881576          1.000000   \n",
              "freq_procesador_MHz        0.128814           -0.019780          0.113835   \n",
              "freq_procesador_turbo_MHz  0.190864            0.386830          0.525354   \n",
              "GB_ram                     0.281450            0.358597          0.450730   \n",
              "freq_ram_MHz               0.221415            0.476090          0.510211   \n",
              "tamaño_almacenamiento      0.281183            0.381010          0.406368   \n",
              "gb_gpu_dedicada            0.002653            0.256719          0.333284   \n",
              "etiqueta                   0.115038            0.591815          0.649770   \n",
              "\n",
              "                           freq_procesador_MHz  freq_procesador_turbo_MHz  \\\n",
              "id                                    0.128814                   0.190864   \n",
              "nucleos_procesador                   -0.019780                   0.386830   \n",
              "hilos_procesador                      0.113835                   0.525354   \n",
              "freq_procesador_MHz                   1.000000                   0.230685   \n",
              "freq_procesador_turbo_MHz             0.230685                   1.000000   \n",
              "GB_ram                                0.233158                   0.359908   \n",
              "freq_ram_MHz                          0.079003                   0.544511   \n",
              "tamaño_almacenamiento                 0.172547                   0.302506   \n",
              "gb_gpu_dedicada                       0.271358                   0.214044   \n",
              "etiqueta                              0.236384                   0.471438   \n",
              "\n",
              "                             GB_ram  freq_ram_MHz  tamaño_almacenamiento  \\\n",
              "id                         0.281450      0.221415               0.281183   \n",
              "nucleos_procesador         0.358597      0.476090               0.381010   \n",
              "hilos_procesador           0.450730      0.510211               0.406368   \n",
              "freq_procesador_MHz        0.233158      0.079003               0.172547   \n",
              "freq_procesador_turbo_MHz  0.359908      0.544511               0.302506   \n",
              "GB_ram                     1.000000      0.221557               0.373132   \n",
              "freq_ram_MHz               0.221557      1.000000               0.256973   \n",
              "tamaño_almacenamiento      0.373132      0.256973               1.000000   \n",
              "gb_gpu_dedicada            0.169816      0.142060               0.121516   \n",
              "etiqueta                   0.440765      0.403105               0.381370   \n",
              "\n",
              "                           gb_gpu_dedicada  etiqueta  \n",
              "id                                0.002653  0.115038  \n",
              "nucleos_procesador                0.256719  0.591815  \n",
              "hilos_procesador                  0.333284  0.649770  \n",
              "freq_procesador_MHz               0.271358  0.236384  \n",
              "freq_procesador_turbo_MHz         0.214044  0.471438  \n",
              "GB_ram                            0.169816  0.440765  \n",
              "freq_ram_MHz                      0.142060  0.403105  \n",
              "tamaño_almacenamiento             0.121516  0.381370  \n",
              "gb_gpu_dedicada                   1.000000  0.351502  \n",
              "etiqueta                          0.351502  1.000000  "
            ],
            "text/html": [
              "\n",
              "  <div id=\"df-f741a3a5-7cbf-4fb5-9c32-180cb05d37ce\">\n",
              "    <div class=\"colab-df-container\">\n",
              "      <div>\n",
              "<style scoped>\n",
              "    .dataframe tbody tr th:only-of-type {\n",
              "        vertical-align: middle;\n",
              "    }\n",
              "\n",
              "    .dataframe tbody tr th {\n",
              "        vertical-align: top;\n",
              "    }\n",
              "\n",
              "    .dataframe thead th {\n",
              "        text-align: right;\n",
              "    }\n",
              "</style>\n",
              "<table border=\"1\" class=\"dataframe\">\n",
              "  <thead>\n",
              "    <tr style=\"text-align: right;\">\n",
              "      <th></th>\n",
              "      <th>id</th>\n",
              "      <th>nucleos_procesador</th>\n",
              "      <th>hilos_procesador</th>\n",
              "      <th>freq_procesador_MHz</th>\n",
              "      <th>freq_procesador_turbo_MHz</th>\n",
              "      <th>GB_ram</th>\n",
              "      <th>freq_ram_MHz</th>\n",
              "      <th>tamaño_almacenamiento</th>\n",
              "      <th>gb_gpu_dedicada</th>\n",
              "      <th>etiqueta</th>\n",
              "    </tr>\n",
              "  </thead>\n",
              "  <tbody>\n",
              "    <tr>\n",
              "      <th>id</th>\n",
              "      <td>1.000000</td>\n",
              "      <td>0.169755</td>\n",
              "      <td>0.189380</td>\n",
              "      <td>0.128814</td>\n",
              "      <td>0.190864</td>\n",
              "      <td>0.281450</td>\n",
              "      <td>0.221415</td>\n",
              "      <td>0.281183</td>\n",
              "      <td>0.002653</td>\n",
              "      <td>0.115038</td>\n",
              "    </tr>\n",
              "    <tr>\n",
              "      <th>nucleos_procesador</th>\n",
              "      <td>0.169755</td>\n",
              "      <td>1.000000</td>\n",
              "      <td>0.881576</td>\n",
              "      <td>-0.019780</td>\n",
              "      <td>0.386830</td>\n",
              "      <td>0.358597</td>\n",
              "      <td>0.476090</td>\n",
              "      <td>0.381010</td>\n",
              "      <td>0.256719</td>\n",
              "      <td>0.591815</td>\n",
              "    </tr>\n",
              "    <tr>\n",
              "      <th>hilos_procesador</th>\n",
              "      <td>0.189380</td>\n",
              "      <td>0.881576</td>\n",
              "      <td>1.000000</td>\n",
              "      <td>0.113835</td>\n",
              "      <td>0.525354</td>\n",
              "      <td>0.450730</td>\n",
              "      <td>0.510211</td>\n",
              "      <td>0.406368</td>\n",
              "      <td>0.333284</td>\n",
              "      <td>0.649770</td>\n",
              "    </tr>\n",
              "    <tr>\n",
              "      <th>freq_procesador_MHz</th>\n",
              "      <td>0.128814</td>\n",
              "      <td>-0.019780</td>\n",
              "      <td>0.113835</td>\n",
              "      <td>1.000000</td>\n",
              "      <td>0.230685</td>\n",
              "      <td>0.233158</td>\n",
              "      <td>0.079003</td>\n",
              "      <td>0.172547</td>\n",
              "      <td>0.271358</td>\n",
              "      <td>0.236384</td>\n",
              "    </tr>\n",
              "    <tr>\n",
              "      <th>freq_procesador_turbo_MHz</th>\n",
              "      <td>0.190864</td>\n",
              "      <td>0.386830</td>\n",
              "      <td>0.525354</td>\n",
              "      <td>0.230685</td>\n",
              "      <td>1.000000</td>\n",
              "      <td>0.359908</td>\n",
              "      <td>0.544511</td>\n",
              "      <td>0.302506</td>\n",
              "      <td>0.214044</td>\n",
              "      <td>0.471438</td>\n",
              "    </tr>\n",
              "    <tr>\n",
              "      <th>GB_ram</th>\n",
              "      <td>0.281450</td>\n",
              "      <td>0.358597</td>\n",
              "      <td>0.450730</td>\n",
              "      <td>0.233158</td>\n",
              "      <td>0.359908</td>\n",
              "      <td>1.000000</td>\n",
              "      <td>0.221557</td>\n",
              "      <td>0.373132</td>\n",
              "      <td>0.169816</td>\n",
              "      <td>0.440765</td>\n",
              "    </tr>\n",
              "    <tr>\n",
              "      <th>freq_ram_MHz</th>\n",
              "      <td>0.221415</td>\n",
              "      <td>0.476090</td>\n",
              "      <td>0.510211</td>\n",
              "      <td>0.079003</td>\n",
              "      <td>0.544511</td>\n",
              "      <td>0.221557</td>\n",
              "      <td>1.000000</td>\n",
              "      <td>0.256973</td>\n",
              "      <td>0.142060</td>\n",
              "      <td>0.403105</td>\n",
              "    </tr>\n",
              "    <tr>\n",
              "      <th>tamaño_almacenamiento</th>\n",
              "      <td>0.281183</td>\n",
              "      <td>0.381010</td>\n",
              "      <td>0.406368</td>\n",
              "      <td>0.172547</td>\n",
              "      <td>0.302506</td>\n",
              "      <td>0.373132</td>\n",
              "      <td>0.256973</td>\n",
              "      <td>1.000000</td>\n",
              "      <td>0.121516</td>\n",
              "      <td>0.381370</td>\n",
              "    </tr>\n",
              "    <tr>\n",
              "      <th>gb_gpu_dedicada</th>\n",
              "      <td>0.002653</td>\n",
              "      <td>0.256719</td>\n",
              "      <td>0.333284</td>\n",
              "      <td>0.271358</td>\n",
              "      <td>0.214044</td>\n",
              "      <td>0.169816</td>\n",
              "      <td>0.142060</td>\n",
              "      <td>0.121516</td>\n",
              "      <td>1.000000</td>\n",
              "      <td>0.351502</td>\n",
              "    </tr>\n",
              "    <tr>\n",
              "      <th>etiqueta</th>\n",
              "      <td>0.115038</td>\n",
              "      <td>0.591815</td>\n",
              "      <td>0.649770</td>\n",
              "      <td>0.236384</td>\n",
              "      <td>0.471438</td>\n",
              "      <td>0.440765</td>\n",
              "      <td>0.403105</td>\n",
              "      <td>0.381370</td>\n",
              "      <td>0.351502</td>\n",
              "      <td>1.000000</td>\n",
              "    </tr>\n",
              "  </tbody>\n",
              "</table>\n",
              "</div>\n",
              "      <button class=\"colab-df-convert\" onclick=\"convertToInteractive('df-f741a3a5-7cbf-4fb5-9c32-180cb05d37ce')\"\n",
              "              title=\"Convert this dataframe to an interactive table.\"\n",
              "              style=\"display:none;\">\n",
              "        \n",
              "  <svg xmlns=\"http://www.w3.org/2000/svg\" height=\"24px\"viewBox=\"0 0 24 24\"\n",
              "       width=\"24px\">\n",
              "    <path d=\"M0 0h24v24H0V0z\" fill=\"none\"/>\n",
              "    <path d=\"M18.56 5.44l.94 2.06.94-2.06 2.06-.94-2.06-.94-.94-2.06-.94 2.06-2.06.94zm-11 1L8.5 8.5l.94-2.06 2.06-.94-2.06-.94L8.5 2.5l-.94 2.06-2.06.94zm10 10l.94 2.06.94-2.06 2.06-.94-2.06-.94-.94-2.06-.94 2.06-2.06.94z\"/><path d=\"M17.41 7.96l-1.37-1.37c-.4-.4-.92-.59-1.43-.59-.52 0-1.04.2-1.43.59L10.3 9.45l-7.72 7.72c-.78.78-.78 2.05 0 2.83L4 21.41c.39.39.9.59 1.41.59.51 0 1.02-.2 1.41-.59l7.78-7.78 2.81-2.81c.8-.78.8-2.07 0-2.86zM5.41 20L4 18.59l7.72-7.72 1.47 1.35L5.41 20z\"/>\n",
              "  </svg>\n",
              "      </button>\n",
              "      \n",
              "  <style>\n",
              "    .colab-df-container {\n",
              "      display:flex;\n",
              "      flex-wrap:wrap;\n",
              "      gap: 12px;\n",
              "    }\n",
              "\n",
              "    .colab-df-convert {\n",
              "      background-color: #E8F0FE;\n",
              "      border: none;\n",
              "      border-radius: 50%;\n",
              "      cursor: pointer;\n",
              "      display: none;\n",
              "      fill: #1967D2;\n",
              "      height: 32px;\n",
              "      padding: 0 0 0 0;\n",
              "      width: 32px;\n",
              "    }\n",
              "\n",
              "    .colab-df-convert:hover {\n",
              "      background-color: #E2EBFA;\n",
              "      box-shadow: 0px 1px 2px rgba(60, 64, 67, 0.3), 0px 1px 3px 1px rgba(60, 64, 67, 0.15);\n",
              "      fill: #174EA6;\n",
              "    }\n",
              "\n",
              "    [theme=dark] .colab-df-convert {\n",
              "      background-color: #3B4455;\n",
              "      fill: #D2E3FC;\n",
              "    }\n",
              "\n",
              "    [theme=dark] .colab-df-convert:hover {\n",
              "      background-color: #434B5C;\n",
              "      box-shadow: 0px 1px 3px 1px rgba(0, 0, 0, 0.15);\n",
              "      filter: drop-shadow(0px 1px 2px rgba(0, 0, 0, 0.3));\n",
              "      fill: #FFFFFF;\n",
              "    }\n",
              "  </style>\n",
              "\n",
              "      <script>\n",
              "        const buttonEl =\n",
              "          document.querySelector('#df-f741a3a5-7cbf-4fb5-9c32-180cb05d37ce button.colab-df-convert');\n",
              "        buttonEl.style.display =\n",
              "          google.colab.kernel.accessAllowed ? 'block' : 'none';\n",
              "\n",
              "        async function convertToInteractive(key) {\n",
              "          const element = document.querySelector('#df-f741a3a5-7cbf-4fb5-9c32-180cb05d37ce');\n",
              "          const dataTable =\n",
              "            await google.colab.kernel.invokeFunction('convertToInteractive',\n",
              "                                                     [key], {});\n",
              "          if (!dataTable) return;\n",
              "\n",
              "          const docLinkHtml = 'Like what you see? Visit the ' +\n",
              "            '<a target=\"_blank\" href=https://colab.research.google.com/notebooks/data_table.ipynb>data table notebook</a>'\n",
              "            + ' to learn more about interactive tables.';\n",
              "          element.innerHTML = '';\n",
              "          dataTable['output_type'] = 'display_data';\n",
              "          await google.colab.output.renderOutput(dataTable, element);\n",
              "          const docLink = document.createElement('div');\n",
              "          docLink.innerHTML = docLinkHtml;\n",
              "          element.appendChild(docLink);\n",
              "        }\n",
              "      </script>\n",
              "    </div>\n",
              "  </div>\n",
              "  "
            ]
          },
          "metadata": {},
          "execution_count": 49
        }
      ]
    },
    {
      "cell_type": "code",
      "source": [
        "df_modelo_precios.shape\n",
        "df_modelo_precios['etiqueta'].value_counts()"
      ],
      "metadata": {
        "colab": {
          "base_uri": "https://localhost:8080/"
        },
        "id": "YXst4PaCOHzQ",
        "outputId": "d745eae3-6442-4f6a-a3b2-041cd2b23ca6"
      },
      "id": "YXst4PaCOHzQ",
      "execution_count": 52,
      "outputs": [
        {
          "output_type": "execute_result",
          "data": {
            "text/plain": [
              "1    485\n",
              "2    300\n",
              "3    294\n",
              "Name: etiqueta, dtype: int64"
            ]
          },
          "metadata": {},
          "execution_count": 52
        }
      ]
    },
    {
      "cell_type": "markdown",
      "metadata": {
        "id": "2bd58412"
      },
      "source": [
        "#### 1.2 Divida el conjunto de datos en entrenamiento, validación y test. (3 pts)"
      ],
      "id": "2bd58412"
    },
    {
      "cell_type": "code",
      "execution_count": 53,
      "metadata": {
        "id": "284313c8"
      },
      "outputs": [],
      "source": [
        "X, y = df_modelo_precios.drop(columns=['etiqueta']), df_modelo_precios['etiqueta']"
      ],
      "id": "284313c8"
    },
    {
      "cell_type": "code",
      "source": [
        "X.shape, y.shape"
      ],
      "metadata": {
        "colab": {
          "base_uri": "https://localhost:8080/"
        },
        "id": "4MTWZ08bOib0",
        "outputId": "0a042fe9-e3a9-4d16-b18c-2f7ecdfc6f15"
      },
      "id": "4MTWZ08bOib0",
      "execution_count": 54,
      "outputs": [
        {
          "output_type": "execute_result",
          "data": {
            "text/plain": [
              "((1079, 9), (1079,))"
            ]
          },
          "metadata": {},
          "execution_count": 54
        }
      ]
    },
    {
      "cell_type": "markdown",
      "source": [
        "# Librerías Modelo"
      ],
      "metadata": {
        "id": "8IV_0FrmPFjb"
      },
      "id": "8IV_0FrmPFjb"
    },
    {
      "cell_type": "code",
      "source": [
        "from sklearn.model_selection import GridSearchCV, train_test_split\n",
        "\n",
        "from sklearn.svm import SVC\n",
        "from sklearn.pipeline import Pipeline\n",
        "from sklearn.metrics import classification_report\n",
        "from sklearn.preprocessing import StandardScaler\n",
        "\n",
        "from sklearn.tree import DecisionTreeClassifier\n",
        "from sklearn.ensemble import AdaBoostClassifier, GradientBoostingClassifier, RandomForestClassifier\n",
        "\n",
        "from sklearn.metrics import accuracy_score\n",
        "from sklearn.metrics import balanced_accuracy_score\n",
        "from sklearn.metrics import precision_score\n",
        "from sklearn.metrics import recall_score\n",
        "from sklearn.metrics import f1_score\n"
      ],
      "metadata": {
        "id": "6XYCCZxpPEAc"
      },
      "id": "6XYCCZxpPEAc",
      "execution_count": 56,
      "outputs": []
    },
    {
      "cell_type": "code",
      "source": [
        "X_train, X_test, y_train, y_test = train_test_split(X,y, test_size=0.3, random_state=3)\n",
        "\n",
        "X_train, X_val, y_train, y_val = train_test_split(X_train,y_train, test_size=0.2, random_state=2)"
      ],
      "metadata": {
        "id": "6X_kkBfXOs79"
      },
      "id": "6X_kkBfXOs79",
      "execution_count": 57,
      "outputs": []
    },
    {
      "cell_type": "code",
      "source": [
        "X_train.shape, y_train.shape\n"
      ],
      "metadata": {
        "colab": {
          "base_uri": "https://localhost:8080/"
        },
        "id": "oS4j4G8PPXGp",
        "outputId": "70d08004-2657-426b-9958-db166b94e92e"
      },
      "id": "oS4j4G8PPXGp",
      "execution_count": 58,
      "outputs": [
        {
          "output_type": "execute_result",
          "data": {
            "text/plain": [
              "((604, 9), (604,))"
            ]
          },
          "metadata": {},
          "execution_count": 58
        }
      ]
    },
    {
      "cell_type": "code",
      "source": [
        "X_test.shape, y_test.shape"
      ],
      "metadata": {
        "colab": {
          "base_uri": "https://localhost:8080/"
        },
        "id": "VvhFBGjQPZ_d",
        "outputId": "1a2bf9cf-a072-4bfc-eb8c-2a671d537ee9"
      },
      "id": "VvhFBGjQPZ_d",
      "execution_count": 59,
      "outputs": [
        {
          "output_type": "execute_result",
          "data": {
            "text/plain": [
              "((324, 9), (324,))"
            ]
          },
          "metadata": {},
          "execution_count": 59
        }
      ]
    },
    {
      "cell_type": "code",
      "source": [
        "X_val.shape, y_val.shape"
      ],
      "metadata": {
        "colab": {
          "base_uri": "https://localhost:8080/"
        },
        "id": "DvJhgqN7PcX1",
        "outputId": "d1fb72a4-a590-4adc-b38c-16d871142a03"
      },
      "id": "DvJhgqN7PcX1",
      "execution_count": 60,
      "outputs": [
        {
          "output_type": "execute_result",
          "data": {
            "text/plain": [
              "((151, 9), (151,))"
            ]
          },
          "metadata": {},
          "execution_count": 60
        }
      ]
    },
    {
      "cell_type": "code",
      "source": [
        "#Estandarización de datos\n",
        "sc = StandardScaler()\n",
        "\n",
        "X_train_sc = sc.fit_transform(X_train)\n",
        "X_test_sc = sc.transform(X_test)\n",
        "X_val_sc = sc.transform(X_val)"
      ],
      "metadata": {
        "id": "IKVJsO0lPgZi"
      },
      "id": "IKVJsO0lPgZi",
      "execution_count": 61,
      "outputs": []
    },
    {
      "cell_type": "code",
      "source": [
        "y_train.value_counts()"
      ],
      "metadata": {
        "colab": {
          "base_uri": "https://localhost:8080/"
        },
        "id": "X-lseqgOPiSM",
        "outputId": "44c889ab-48ee-459a-ffe0-1f37354ceecd"
      },
      "id": "X-lseqgOPiSM",
      "execution_count": 62,
      "outputs": [
        {
          "output_type": "execute_result",
          "data": {
            "text/plain": [
              "1    286\n",
              "2    159\n",
              "3    159\n",
              "Name: etiqueta, dtype: int64"
            ]
          },
          "metadata": {},
          "execution_count": 62
        }
      ]
    },
    {
      "cell_type": "code",
      "source": [
        "# Aplicamos SMOTE para nivelar el tamaño de las muestras\n",
        "from imblearn.over_sampling import SMOTE\n",
        "oversample = SMOTE(k_neighbors=4)\n",
        "# transform the dataset\n",
        "X_train_sm, y_train_sm = oversample.fit_resample(X_train_sc, y_train)"
      ],
      "metadata": {
        "id": "byhjE7ShPkYj"
      },
      "id": "byhjE7ShPkYj",
      "execution_count": 63,
      "outputs": []
    },
    {
      "cell_type": "code",
      "source": [
        "X_train_sm.shape, y_train_sm.shape"
      ],
      "metadata": {
        "colab": {
          "base_uri": "https://localhost:8080/"
        },
        "id": "KgEhabJbPq-Y",
        "outputId": "bf1aaf2d-79c3-4435-fea9-748c494d0c6a"
      },
      "id": "KgEhabJbPq-Y",
      "execution_count": 65,
      "outputs": [
        {
          "output_type": "execute_result",
          "data": {
            "text/plain": [
              "((858, 9), (858,))"
            ]
          },
          "metadata": {},
          "execution_count": 65
        }
      ]
    },
    {
      "cell_type": "code",
      "source": [
        "y_train_sm.value_counts()"
      ],
      "metadata": {
        "colab": {
          "base_uri": "https://localhost:8080/"
        },
        "id": "_aSAbftDPtWy",
        "outputId": "2ffb7243-7aa5-43db-e2c1-a148bd69aebd"
      },
      "id": "_aSAbftDPtWy",
      "execution_count": 66,
      "outputs": [
        {
          "output_type": "execute_result",
          "data": {
            "text/plain": [
              "2    286\n",
              "1    286\n",
              "3    286\n",
              "Name: etiqueta, dtype: int64"
            ]
          },
          "metadata": {},
          "execution_count": 66
        }
      ]
    },
    {
      "cell_type": "markdown",
      "metadata": {
        "id": "c072bdcb"
      },
      "source": [
        "### Modelamiento\n",
        "\n",
        "Se espera que entrene el modelo con los datos de entrenamiento y busqué los mejores hiperparametros sobre el conjunto de validación. Recuerde utilizar las métricas vistas en clases."
      ],
      "id": "c072bdcb"
    },
    {
      "cell_type": "markdown",
      "metadata": {
        "id": "c17b2696"
      },
      "source": [
        "#### 1.3 Entrene el algoritmo sobre el conjunto de entrenamiento. (5 pts)"
      ],
      "id": "c17b2696"
    },
    {
      "cell_type": "code",
      "execution_count": 67,
      "metadata": {
        "id": "247f02fc"
      },
      "outputs": [],
      "source": [
        "# SVC\n",
        "SVC_params = {'C':[0.0001 , 0.001 , 0.01 , 0.1 , 1 , 10 , 100 , 1000], \n",
        "            'gamma': [0.0000001 , 0.0001 , 0.001 , 0.01 , 0.1 , 1 , 10],\n",
        "             'class_weight':['balanced']}\n"
      ],
      "id": "247f02fc"
    },
    {
      "cell_type": "code",
      "source": [
        "%%time\n",
        "SVC_Model = GridSearchCV(SVC(random_state=123, gamma= 'scale', kernel= 'rbf'), SVC_params, cv=5, n_jobs=-1) "
      ],
      "metadata": {
        "colab": {
          "base_uri": "https://localhost:8080/"
        },
        "id": "1E2blmAAP8SQ",
        "outputId": "2bb463ef-b71d-429b-ebe5-eb0850024101"
      },
      "id": "1E2blmAAP8SQ",
      "execution_count": 71,
      "outputs": [
        {
          "output_type": "stream",
          "name": "stdout",
          "text": [
            "CPU times: user 71 µs, sys: 9 µs, total: 80 µs\n",
            "Wall time: 83.2 µs\n"
          ]
        }
      ]
    },
    {
      "cell_type": "code",
      "source": [
        "# Arbol de Decisión\n",
        "RandomForest_params= {'n_estimators':[50, 100, 500, 1000, 2000], \n",
        "                         'criterion':['gini'],\n",
        "                         'class_weight':['balanced']}"
      ],
      "metadata": {
        "id": "-P4HR38xP9_4"
      },
      "id": "-P4HR38xP9_4",
      "execution_count": null,
      "outputs": []
    },
    {
      "cell_type": "code",
      "source": [
        "%%time\n",
        "dt = DecisionTreeClassifier(max_depth= 1 , random_state= 11238)\n",
        "dt_model = dt.fit(X_train_sm, y_train_sm)"
      ],
      "metadata": {
        "colab": {
          "base_uri": "https://localhost:8080/"
        },
        "id": "IyOQfOY_QGPd",
        "outputId": "23b22680-a6dd-46f7-efad-01b8877a262d"
      },
      "id": "IyOQfOY_QGPd",
      "execution_count": 70,
      "outputs": [
        {
          "output_type": "stream",
          "name": "stdout",
          "text": [
            "CPU times: user 3.21 ms, sys: 0 ns, total: 3.21 ms\n",
            "Wall time: 8.36 ms\n"
          ]
        }
      ]
    },
    {
      "cell_type": "code",
      "source": [
        "print(f\"- Mejor combinación de hiper parámetros SVC: \\n\\t{svc.best_params_}\\n\")\n",
        "print(f\"- Desempeño del modelo final SVC: \\n\\t{svc.best_score_}\")\n",
        "bestimatorSVC_modelo_final = svc.best_estimator_"
      ],
      "metadata": {
        "colab": {
          "base_uri": "https://localhost:8080/",
          "height": 208
        },
        "id": "Qy-Zpuw7QP1F",
        "outputId": "fa7c412c-c5cf-4197-dd1c-931d675454c1"
      },
      "id": "Qy-Zpuw7QP1F",
      "execution_count": 72,
      "outputs": [
        {
          "output_type": "error",
          "ename": "NameError",
          "evalue": "ignored",
          "traceback": [
            "\u001b[0;31m---------------------------------------------------------------------------\u001b[0m",
            "\u001b[0;31mNameError\u001b[0m                                 Traceback (most recent call last)",
            "\u001b[0;32m<ipython-input-72-0f016fa70b09>\u001b[0m in \u001b[0;36m<module>\u001b[0;34m\u001b[0m\n\u001b[0;32m----> 1\u001b[0;31m \u001b[0mprint\u001b[0m\u001b[0;34m(\u001b[0m\u001b[0;34mf\"- Mejor combinación de hiper parámetros SVC: \\n\\t{svc.best_params_}\\n\"\u001b[0m\u001b[0;34m)\u001b[0m\u001b[0;34m\u001b[0m\u001b[0;34m\u001b[0m\u001b[0m\n\u001b[0m\u001b[1;32m      2\u001b[0m \u001b[0mprint\u001b[0m\u001b[0;34m(\u001b[0m\u001b[0;34mf\"- Desempeño del modelo final SVC: \\n\\t{svc.best_score_}\"\u001b[0m\u001b[0;34m)\u001b[0m\u001b[0;34m\u001b[0m\u001b[0;34m\u001b[0m\u001b[0m\n\u001b[1;32m      3\u001b[0m \u001b[0mbestimatorSVC_modelo_final\u001b[0m \u001b[0;34m=\u001b[0m \u001b[0msvc\u001b[0m\u001b[0;34m.\u001b[0m\u001b[0mbest_estimator_\u001b[0m\u001b[0;34m\u001b[0m\u001b[0;34m\u001b[0m\u001b[0m\n",
            "\u001b[0;31mNameError\u001b[0m: name 'svc' is not defined"
          ]
        }
      ]
    },
    {
      "cell_type": "markdown",
      "metadata": {
        "id": "4e17d1c7"
      },
      "source": [
        "#### 1.4 Valide sus resultados. (5 pts)"
      ],
      "id": "4e17d1c7"
    },
    {
      "cell_type": "code",
      "execution_count": null,
      "metadata": {
        "id": "e9998fab"
      },
      "outputs": [],
      "source": [],
      "id": "e9998fab"
    },
    {
      "cell_type": "markdown",
      "metadata": {
        "id": "8fc6fca9"
      },
      "source": [
        "### Modelo en producción (7 pts)\n",
        "\n",
        "Luego de asegurarse de que encontró los mejores hiperparametros para el modelo, debe ponerlo en producción. Para esto se utilizaran los datos de test (es muy importante que estos datos no hayan sido utilizados antes), ya que esto permite evaluar el desempeño de su modelo sobre datos que no se tienen disponibles en la práctica."
      ],
      "id": "8fc6fca9"
    },
    {
      "cell_type": "markdown",
      "metadata": {
        "id": "dcd21949"
      },
      "source": [
        "#### 1.5 Pruebe el algoritmo sobre datos con los que no ha trabajado antes (datos de test). (2 pts)"
      ],
      "id": "dcd21949"
    },
    {
      "cell_type": "code",
      "execution_count": null,
      "metadata": {
        "id": "d72e7cad"
      },
      "outputs": [],
      "source": [],
      "id": "d72e7cad"
    },
    {
      "cell_type": "markdown",
      "metadata": {
        "id": "290312b6"
      },
      "source": [
        "#### 1.6 Concluya los resultados obtenidos, tanto para el conjunto de validación, como para el conjunto de test. (5 pts)"
      ],
      "id": "290312b6"
    },
    {
      "cell_type": "code",
      "execution_count": null,
      "metadata": {
        "id": "46b7768a"
      },
      "outputs": [],
      "source": [],
      "id": "46b7768a"
    }
  ],
  "metadata": {
    "colab": {
      "provenance": [],
      "include_colab_link": true
    },
    "kernelspec": {
      "display_name": "Python 3",
      "language": "python",
      "name": "python3"
    },
    "language_info": {
      "codemirror_mode": {
        "name": "ipython",
        "version": 3
      },
      "file_extension": ".py",
      "mimetype": "text/x-python",
      "name": "python",
      "nbconvert_exporter": "python",
      "pygments_lexer": "ipython3",
      "version": "3.7.3"
    },
    "vscode": {
      "interpreter": {
        "hash": "99dbe7d137ab5e4dabafce500ed6bbf0d5f642a9ac691b75854551f3d54cce9c"
      }
    }
  },
  "nbformat": 4,
  "nbformat_minor": 5
}