{
  "cells": [
    {
      "cell_type": "markdown",
      "metadata": {
        "id": "view-in-github",
        "colab_type": "text"
      },
      "source": [
        "<a href=\"https://colab.research.google.com/github/ssalazara/MACI_Analitica1/blob/main/tarea_2.ipynb\" target=\"_parent\"><img src=\"https://colab.research.google.com/assets/colab-badge.svg\" alt=\"Open In Colab\"/></a>"
      ]
    },
    {
      "cell_type": "markdown",
      "metadata": {
        "id": "9a51b834"
      },
      "source": [
        "# Tarea 2. Analítica de datos.\n",
        "\n",
        "**Profesor:** Julio Erasmo Godoy Del Campo (jugodoy@inf.udec.cl).<br>\n",
        "**Ayudante:** Martina Cádiz (mcadiz2018@inf.udec.cl).\n",
        "\n",
        "**Integrante:**"
      ],
      "id": "9a51b834"
    },
    {
      "cell_type": "markdown",
      "metadata": {
        "id": "307dc8b6"
      },
      "source": [
        "\n",
        "**¿Cómo debe subir la tarea?:** La tarea debe ser subida a la plataforma de Canvas en un archivo con el formato **NombreApellido_tarea2.zip**. Este debe contener el Notebook."
      ],
      "id": "307dc8b6"
    },
    {
      "cell_type": "markdown",
      "metadata": {
        "id": "e2a2abc7"
      },
      "source": [
        "## Objetivo\n",
        "\n",
        "El objetivo de esta tarea es ver como funcionan los métodos de agrupación y reducción de la dimensionalidad sobre un conjunto de datos de reconocimiento de actividad humana que viene adjunto en el zip. Principalmente se quiere que el alumno aprenda a utilizar técnicas de clustering sobre un conjunto de datos, técnicas de reducción de dimensionalidad y que pueda observar experimentalmente como varian los resultados al agrupar datos considerando todas las dimensiones, como también, considerando solo las más importantes.\n",
        "\n",
        "El dataset fue extraido desde el repositorio de datos de Machine Learning, [aquí](https://archive.ics.uci.edu/ml/datasets/Human+Activity+Recognition+Using+Smartphones) pueden encontrar más información del conjunto de datos a utilizar. En simples palabras, este dataset corresponde a la actividad que esta realizando cierta persona en un momento dado, la cual puede ser explicada mediante ciertos atributos de interes que fueron medidos usando un celular en la cintura. Por ejemplo, se sabe si una persona camino, se puso de pie, se acostó, se sentó, subio o bajo las escaleras.\n",
        "\n",
        "Supondremos que no conocemos el tipo de actividad que esta realizando la persona, e intentaremos agrupar a las personas, según su tipo de actividad, únicamente en función de los atributos disponibles."
      ],
      "id": "e2a2abc7"
    },
    {
      "cell_type": "code",
      "execution_count": 11,
      "metadata": {
        "colab": {
          "base_uri": "https://localhost:8080/"
        },
        "id": "9_7e96DMIkoD",
        "outputId": "b33ea336-54a1-42cd-bab0-512e8b668e3e"
      },
      "outputs": [
        {
          "output_type": "stream",
          "name": "stdout",
          "text": [
            "Drive already mounted at /content/drive; to attempt to forcibly remount, call drive.mount(\"/content/drive\", force_remount=True).\n"
          ]
        }
      ],
      "source": [
        "from google.colab import drive\n",
        "drive.mount('/content/drive')"
      ],
      "id": "9_7e96DMIkoD"
    },
    {
      "cell_type": "markdown",
      "metadata": {
        "id": "3ac7b74d"
      },
      "source": [
        "## Lectura del conjunto de datos\n",
        "\n",
        "Se adjuntará el código de lectura para el conjunto de datos. Si se fijan el dataset tambien viene con más atributos que se podrían considerar, sin embargo, solo se usaran los que estan directamente en los archivos train y test."
      ],
      "id": "3ac7b74d"
    },
    {
      "cell_type": "code",
      "execution_count": 106,
      "metadata": {
        "id": "9d0503ca"
      },
      "outputs": [],
      "source": [
        "import numpy as np\n",
        "import pandas as pd\n",
        "import matplotlib.pyplot as plt\n",
        "import zipfile\n",
        "import seaborn as sns"
      ],
      "id": "9d0503ca"
    },
    {
      "cell_type": "code",
      "source": [
        "from google.colab import files\n",
        "\n",
        "files.upload()"
      ],
      "metadata": {
        "colab": {
          "base_uri": "https://localhost:8080/",
          "height": 74
        },
        "id": "icT8-_VDN_bP",
        "outputId": "34479d84-eb22-4712-c83b-faefbc2e4522"
      },
      "id": "icT8-_VDN_bP",
      "execution_count": null,
      "outputs": [
        {
          "output_type": "display_data",
          "data": {
            "text/plain": [
              "<IPython.core.display.HTML object>"
            ],
            "text/html": [
              "\n",
              "     <input type=\"file\" id=\"files-9d834afc-9bed-4a42-bcb7-e94cbfb20cfb\" name=\"files[]\" multiple disabled\n",
              "        style=\"border:none\" />\n",
              "     <output id=\"result-9d834afc-9bed-4a42-bcb7-e94cbfb20cfb\">\n",
              "      Upload widget is only available when the cell has been executed in the\n",
              "      current browser session. Please rerun this cell to enable.\n",
              "      </output>\n",
              "      <script>// Copyright 2017 Google LLC\n",
              "//\n",
              "// Licensed under the Apache License, Version 2.0 (the \"License\");\n",
              "// you may not use this file except in compliance with the License.\n",
              "// You may obtain a copy of the License at\n",
              "//\n",
              "//      http://www.apache.org/licenses/LICENSE-2.0\n",
              "//\n",
              "// Unless required by applicable law or agreed to in writing, software\n",
              "// distributed under the License is distributed on an \"AS IS\" BASIS,\n",
              "// WITHOUT WARRANTIES OR CONDITIONS OF ANY KIND, either express or implied.\n",
              "// See the License for the specific language governing permissions and\n",
              "// limitations under the License.\n",
              "\n",
              "/**\n",
              " * @fileoverview Helpers for google.colab Python module.\n",
              " */\n",
              "(function(scope) {\n",
              "function span(text, styleAttributes = {}) {\n",
              "  const element = document.createElement('span');\n",
              "  element.textContent = text;\n",
              "  for (const key of Object.keys(styleAttributes)) {\n",
              "    element.style[key] = styleAttributes[key];\n",
              "  }\n",
              "  return element;\n",
              "}\n",
              "\n",
              "// Max number of bytes which will be uploaded at a time.\n",
              "const MAX_PAYLOAD_SIZE = 100 * 1024;\n",
              "\n",
              "function _uploadFiles(inputId, outputId) {\n",
              "  const steps = uploadFilesStep(inputId, outputId);\n",
              "  const outputElement = document.getElementById(outputId);\n",
              "  // Cache steps on the outputElement to make it available for the next call\n",
              "  // to uploadFilesContinue from Python.\n",
              "  outputElement.steps = steps;\n",
              "\n",
              "  return _uploadFilesContinue(outputId);\n",
              "}\n",
              "\n",
              "// This is roughly an async generator (not supported in the browser yet),\n",
              "// where there are multiple asynchronous steps and the Python side is going\n",
              "// to poll for completion of each step.\n",
              "// This uses a Promise to block the python side on completion of each step,\n",
              "// then passes the result of the previous step as the input to the next step.\n",
              "function _uploadFilesContinue(outputId) {\n",
              "  const outputElement = document.getElementById(outputId);\n",
              "  const steps = outputElement.steps;\n",
              "\n",
              "  const next = steps.next(outputElement.lastPromiseValue);\n",
              "  return Promise.resolve(next.value.promise).then((value) => {\n",
              "    // Cache the last promise value to make it available to the next\n",
              "    // step of the generator.\n",
              "    outputElement.lastPromiseValue = value;\n",
              "    return next.value.response;\n",
              "  });\n",
              "}\n",
              "\n",
              "/**\n",
              " * Generator function which is called between each async step of the upload\n",
              " * process.\n",
              " * @param {string} inputId Element ID of the input file picker element.\n",
              " * @param {string} outputId Element ID of the output display.\n",
              " * @return {!Iterable<!Object>} Iterable of next steps.\n",
              " */\n",
              "function* uploadFilesStep(inputId, outputId) {\n",
              "  const inputElement = document.getElementById(inputId);\n",
              "  inputElement.disabled = false;\n",
              "\n",
              "  const outputElement = document.getElementById(outputId);\n",
              "  outputElement.innerHTML = '';\n",
              "\n",
              "  const pickedPromise = new Promise((resolve) => {\n",
              "    inputElement.addEventListener('change', (e) => {\n",
              "      resolve(e.target.files);\n",
              "    });\n",
              "  });\n",
              "\n",
              "  const cancel = document.createElement('button');\n",
              "  inputElement.parentElement.appendChild(cancel);\n",
              "  cancel.textContent = 'Cancel upload';\n",
              "  const cancelPromise = new Promise((resolve) => {\n",
              "    cancel.onclick = () => {\n",
              "      resolve(null);\n",
              "    };\n",
              "  });\n",
              "\n",
              "  // Wait for the user to pick the files.\n",
              "  const files = yield {\n",
              "    promise: Promise.race([pickedPromise, cancelPromise]),\n",
              "    response: {\n",
              "      action: 'starting',\n",
              "    }\n",
              "  };\n",
              "\n",
              "  cancel.remove();\n",
              "\n",
              "  // Disable the input element since further picks are not allowed.\n",
              "  inputElement.disabled = true;\n",
              "\n",
              "  if (!files) {\n",
              "    return {\n",
              "      response: {\n",
              "        action: 'complete',\n",
              "      }\n",
              "    };\n",
              "  }\n",
              "\n",
              "  for (const file of files) {\n",
              "    const li = document.createElement('li');\n",
              "    li.append(span(file.name, {fontWeight: 'bold'}));\n",
              "    li.append(span(\n",
              "        `(${file.type || 'n/a'}) - ${file.size} bytes, ` +\n",
              "        `last modified: ${\n",
              "            file.lastModifiedDate ? file.lastModifiedDate.toLocaleDateString() :\n",
              "                                    'n/a'} - `));\n",
              "    const percent = span('0% done');\n",
              "    li.appendChild(percent);\n",
              "\n",
              "    outputElement.appendChild(li);\n",
              "\n",
              "    const fileDataPromise = new Promise((resolve) => {\n",
              "      const reader = new FileReader();\n",
              "      reader.onload = (e) => {\n",
              "        resolve(e.target.result);\n",
              "      };\n",
              "      reader.readAsArrayBuffer(file);\n",
              "    });\n",
              "    // Wait for the data to be ready.\n",
              "    let fileData = yield {\n",
              "      promise: fileDataPromise,\n",
              "      response: {\n",
              "        action: 'continue',\n",
              "      }\n",
              "    };\n",
              "\n",
              "    // Use a chunked sending to avoid message size limits. See b/62115660.\n",
              "    let position = 0;\n",
              "    do {\n",
              "      const length = Math.min(fileData.byteLength - position, MAX_PAYLOAD_SIZE);\n",
              "      const chunk = new Uint8Array(fileData, position, length);\n",
              "      position += length;\n",
              "\n",
              "      const base64 = btoa(String.fromCharCode.apply(null, chunk));\n",
              "      yield {\n",
              "        response: {\n",
              "          action: 'append',\n",
              "          file: file.name,\n",
              "          data: base64,\n",
              "        },\n",
              "      };\n",
              "\n",
              "      let percentDone = fileData.byteLength === 0 ?\n",
              "          100 :\n",
              "          Math.round((position / fileData.byteLength) * 100);\n",
              "      percent.textContent = `${percentDone}% done`;\n",
              "\n",
              "    } while (position < fileData.byteLength);\n",
              "  }\n",
              "\n",
              "  // All done.\n",
              "  yield {\n",
              "    response: {\n",
              "      action: 'complete',\n",
              "    }\n",
              "  };\n",
              "}\n",
              "\n",
              "scope.google = scope.google || {};\n",
              "scope.google.colab = scope.google.colab || {};\n",
              "scope.google.colab._files = {\n",
              "  _uploadFiles,\n",
              "  _uploadFilesContinue,\n",
              "};\n",
              "})(self);\n",
              "</script> "
            ]
          },
          "metadata": {}
        },
        {
          "output_type": "stream",
          "name": "stdout",
          "text": [
            "Saving UCI_HAR_Dataset.zip to UCI_HAR_Dataset.zip\n"
          ]
        }
      ]
    },
    {
      "cell_type": "code",
      "execution_count": null,
      "metadata": {
        "colab": {
          "base_uri": "https://localhost:8080/"
        },
        "id": "viOOntCUGeNk",
        "outputId": "415ec0ff-d9a8-4d3c-af65-66a63056597c"
      },
      "outputs": [
        {
          "output_type": "stream",
          "name": "stdout",
          "text": [
            "Access denied with the following error:\n",
            "\n",
            " \tCannot retrieve the public link of the file. You may need to change\n",
            "\tthe permission to 'Anyone with the link', or have had many accesses. \n",
            "\n",
            "You may still be able to access the file from the browser:\n",
            "\n",
            "\t https://drive.google.com/uc?id=1EesF7WkBRztuwMa49AVxKy_I3_g-xxvV \n",
            "\n"
          ]
        }
      ],
      "source": [
        "!gdown -O UCI_HAR_Dataset.zip https://drive.google.com/uc?id=1EesF7WkBRztuwMa49AVxKy_I3_g-xxvV&export=download"
      ],
      "id": "viOOntCUGeNk"
    },
    {
      "cell_type": "markdown",
      "metadata": {
        "id": "1OXJ8yPIG-EI"
      },
      "source": [
        "Luego de acceder al link, pueden subir el archivo zip a su drive y descomprimirlo de la siguiente manera:"
      ],
      "id": "1OXJ8yPIG-EI"
    },
    {
      "cell_type": "code",
      "execution_count": 12,
      "metadata": {
        "id": "ak9wwZVkDtF2"
      },
      "outputs": [],
      "source": [
        "#Download and Extract Data \n",
        "\n",
        "zipfilename = \"/content/drive/MyDrive/Colab Notebooks/tarea2_analitica/0-UCI_HAR_Dataset.zip\" #acá deben poner la ubicación de su archivo zip en su drive\n",
        "\n",
        "password = None\n",
        "z = zipfile.ZipFile(zipfilename, \"r\")\n",
        "try:\n",
        "    z.extractall(pwd=password)\n",
        "except:\n",
        "    print('Error')\n",
        "    pass\n",
        "z.close()"
      ],
      "id": "ak9wwZVkDtF2"
    },
    {
      "cell_type": "code",
      "execution_count": 13,
      "metadata": {
        "id": "74d9e0ed"
      },
      "outputs": [],
      "source": [
        "path_file = 'UCI HAR Dataset'\n",
        "\n",
        "train_path_x = 'train/X_train.txt'\n",
        "train_path_y = 'train/y_train.txt'\n",
        "\n",
        "test_path_x = 'test/X_test.txt'\n",
        "test_path_y = 'test/y_test.txt'\n",
        "\n",
        "X_train = np.loadtxt('{}/{}'.format(path_file, train_path_x))\n",
        "y_train = np.loadtxt('{}/{}'.format(path_file, train_path_y)).astype(int)\n",
        "\n",
        "X_test = np.loadtxt('{}/{}'.format(path_file, test_path_x))\n",
        "y_test = np.loadtxt('{}/{}'.format(path_file, test_path_y)).astype(int)"
      ],
      "id": "74d9e0ed"
    },
    {
      "cell_type": "code",
      "execution_count": 14,
      "metadata": {
        "colab": {
          "base_uri": "https://localhost:8080/"
        },
        "id": "eCfepXW5JlHK",
        "outputId": "e78780c8-f7b8-4dda-b0aa-cd7327b03dce"
      },
      "outputs": [
        {
          "output_type": "stream",
          "name": "stdout",
          "text": [
            "Tamaño de los datos:\n",
            "\n",
            "X_train: (7352, 561)\n",
            "y_train: (7352,)\n",
            "X_test: (2947, 561)\n",
            "y_test: (2947,)\n"
          ]
        }
      ],
      "source": [
        "print(\"Tamaño de los datos:\\n\")\n",
        "print(f\"X_train: {X_train.shape}\")\n",
        "print(f\"y_train: {y_train.shape}\")\n",
        "print(f\"X_test: {X_test.shape}\")\n",
        "print(f\"y_test: {y_test.shape}\")"
      ],
      "id": "eCfepXW5JlHK"
    },
    {
      "cell_type": "markdown",
      "metadata": {
        "id": "f48101cb"
      },
      "source": [
        "Como puede darse cuenta los datos estan separados en conjunto de train y test, sin embargo, para realizar apredizaje no supervisado, no es necesario un conjunto de test con el cual comparar la agrupación, ya que esta agrupación se puede hacer con la etiqueta respectiva de cada uno de los datos (columna actividad). Por lo tanto, trabajaremos con la combinación de muestras de train y test. \n",
        "\n",
        "**1**. **Combine X_train con X_test e y_train con y_test. <span style=\"color:red\">(0.5 pt)</span>** "
      ],
      "id": "f48101cb"
    },
    {
      "cell_type": "code",
      "execution_count": 16,
      "metadata": {
        "id": "075bf74d"
      },
      "outputs": [],
      "source": [
        "X = np.concatenate((X_train, X_test), axis=0, out=None)\n",
        "y = np.concatenate((y_train, y_test), axis=0, out=None)"
      ],
      "id": "075bf74d"
    },
    {
      "cell_type": "code",
      "source": [
        "X.shape"
      ],
      "metadata": {
        "colab": {
          "base_uri": "https://localhost:8080/"
        },
        "id": "pt5YbcJ-pGVy",
        "outputId": "457be274-348b-4b60-e894-094d37a82114"
      },
      "id": "pt5YbcJ-pGVy",
      "execution_count": 18,
      "outputs": [
        {
          "output_type": "execute_result",
          "data": {
            "text/plain": [
              "(10299, 561)"
            ]
          },
          "metadata": {},
          "execution_count": 18
        }
      ]
    },
    {
      "cell_type": "code",
      "source": [
        "\n",
        "y.shape"
      ],
      "metadata": {
        "colab": {
          "base_uri": "https://localhost:8080/"
        },
        "id": "D8gcC71GpLw6",
        "outputId": "3e077e52-f556-48a6-b82b-f318a4c45a3e"
      },
      "id": "D8gcC71GpLw6",
      "execution_count": 19,
      "outputs": [
        {
          "output_type": "execute_result",
          "data": {
            "text/plain": [
              "(10299,)"
            ]
          },
          "metadata": {},
          "execution_count": 19
        }
      ]
    },
    {
      "cell_type": "markdown",
      "metadata": {
        "id": "c6203c2e"
      },
      "source": [
        " **2. Defina el número de valores únicos de las etiquetas de cada clase, como también la cantidad de observaciones por clase (columna actividad). <span style=\"color:red\">(0.5 pt)</span>**"
      ],
      "id": "c6203c2e"
    },
    {
      "cell_type": "code",
      "execution_count": 21,
      "metadata": {
        "id": "2724f9a9",
        "colab": {
          "base_uri": "https://localhost:8080/"
        },
        "outputId": "60424ef9-b9ec-4583-9dba-729d3cc4a1bf"
      },
      "outputs": [
        {
          "output_type": "execute_result",
          "data": {
            "text/plain": [
              "(array([1, 2, 3, 4, 5, 6]), array([1722, 1544, 1406, 1777, 1906, 1944]))"
            ]
          },
          "metadata": {},
          "execution_count": 21
        }
      ],
      "source": [
        "np.unique(y, return_counts=True)\n",
        "# imprimir mejor la frecuencia por etiqueta"
      ],
      "id": "2724f9a9"
    },
    {
      "cell_type": "code",
      "source": [
        "#print(np.unique(y, return_counts=True)[0][0])\n",
        "\n",
        "for i in range(0,6):\n",
        "    print(\"La etiqueta numero \",np.unique(y, return_counts=True)[0][i], \"tiene \" ,np.unique(y, return_counts=True)[1][i], \"valores unicos\")"
      ],
      "metadata": {
        "colab": {
          "base_uri": "https://localhost:8080/"
        },
        "id": "tQP1DHSGqENd",
        "outputId": "9f7e4839-f58e-4aef-e7cd-a94cad43bcda"
      },
      "id": "tQP1DHSGqENd",
      "execution_count": 31,
      "outputs": [
        {
          "output_type": "stream",
          "name": "stdout",
          "text": [
            "La etiqueta numero  1 tiene  1722 valores unicos\n",
            "La etiqueta numero  2 tiene  1544 valores unicos\n",
            "La etiqueta numero  3 tiene  1406 valores unicos\n",
            "La etiqueta numero  4 tiene  1777 valores unicos\n",
            "La etiqueta numero  5 tiene  1906 valores unicos\n",
            "La etiqueta numero  6 tiene  1944 valores unicos\n"
          ]
        }
      ]
    },
    {
      "cell_type": "markdown",
      "metadata": {
        "id": "803bcd11"
      },
      "source": [
        "**3. Generalmente los métodos de clustering y de reducción de dimensionalidad funcionan mejor con datos escalados, por ende, escale la muestra.  <span style=\"color:red\">(1 pt)</span>**"
      ],
      "id": "803bcd11"
    },
    {
      "cell_type": "code",
      "execution_count": 32,
      "metadata": {
        "id": "a54fc3c2"
      },
      "outputs": [],
      "source": [
        "from sklearn.preprocessing import StandardScaler"
      ],
      "id": "a54fc3c2"
    },
    {
      "cell_type": "code",
      "source": [
        "scaler = StandardScaler()"
      ],
      "metadata": {
        "id": "Mn7O_Dqcrvr5"
      },
      "id": "Mn7O_Dqcrvr5",
      "execution_count": 33,
      "outputs": []
    },
    {
      "cell_type": "code",
      "source": [
        "scaler.fit(X)"
      ],
      "metadata": {
        "colab": {
          "base_uri": "https://localhost:8080/"
        },
        "id": "9l4t_vVCsLRm",
        "outputId": "62d22698-74f5-4153-cb54-a725b2595ebe"
      },
      "id": "9l4t_vVCsLRm",
      "execution_count": 34,
      "outputs": [
        {
          "output_type": "execute_result",
          "data": {
            "text/plain": [
              "StandardScaler()"
            ]
          },
          "metadata": {},
          "execution_count": 34
        }
      ]
    },
    {
      "cell_type": "code",
      "source": [
        "X_scaled = scaler.transform(X)"
      ],
      "metadata": {
        "id": "voYClxeHsVUA"
      },
      "id": "voYClxeHsVUA",
      "execution_count": 42,
      "outputs": []
    },
    {
      "cell_type": "markdown",
      "metadata": {
        "id": "8cd0f96b"
      },
      "source": [
        "## Aplicación de algoritmo de clustering.\n",
        "\n",
        "La idea es que aplique el algoritmo  de clustering kmeans directamente al conjunto de datos utilizado y responda las preguntas presentadas en esta sección.\n",
        "\n",
        " "
      ],
      "id": "8cd0f96b"
    },
    {
      "cell_type": "markdown",
      "metadata": {
        "id": "b549dc12"
      },
      "source": [
        "**4. Utilice silhouette para visualizar el número de cluster \"óptimos\" en el métodos. <span style=\"color:red\">(2 pts)</span>**"
      ],
      "id": "b549dc12"
    },
    {
      "cell_type": "code",
      "execution_count": 43,
      "metadata": {
        "id": "6fedff3d"
      },
      "outputs": [],
      "source": [
        "from sklearn.metrics import silhouette_score\n",
        "from sklearn.cluster import KMeans"
      ],
      "id": "6fedff3d"
    },
    {
      "cell_type": "code",
      "source": [
        "scores_s = []\n",
        "\n",
        "for i in range(2, 11):\n",
        "    km = KMeans(n_clusters = i, random_state = 24)\n",
        "    km.fit(X_scaled)\n",
        "    scores_s.append(silhouette_score(X_scaled, km.labels_))\n",
        "    \n",
        "# Coeficiente de Silhouette Method\n",
        "plt.plot(range(2, 11), scores_s, '-s', color='darkred')\n",
        "plt.xlabel('Clusters')\n",
        "plt.ylabel('Coeficiente de Silhouette')\n",
        "plt.grid()\n",
        "\n",
        "plt.show()"
      ],
      "metadata": {
        "colab": {
          "base_uri": "https://localhost:8080/",
          "height": 279
        },
        "id": "lTby_qv4tOP6",
        "outputId": "611c7a2b-022e-4245-dcb1-d1eb22229bb7"
      },
      "id": "lTby_qv4tOP6",
      "execution_count": 45,
      "outputs": [
        {
          "output_type": "display_data",
          "data": {
            "text/plain": [
              "<Figure size 432x288 with 1 Axes>"
            ],
            "image/png": "[encoded data removed]"
          },
          "metadata": {
            "needs_background": "light"
          }
        }
      ]
    },
    {
      "cell_type": "markdown",
      "metadata": {
        "id": "8c200be7"
      },
      "source": [
        "<span style=\"color:red\">A pesar de la cantidad de cluster \"óptimos\" que se hayan obtenido de la pregunta 1, para las siguientes preguntas utilice n_cluster = 6, ya que permitirá hacer la comparación directa con las etiquetas reales. "
      ],
      "id": "8c200be7"
    },
    {
      "cell_type": "markdown",
      "metadata": {
        "id": "c3ece231"
      },
      "source": [
        "**5. Realice el grafico de barra de los clusters formados por K-means, es decir, utilice las etiquetas en el eje \"x\" y la cantidad por etiqueta en el eje \"y\". <span style=\"color:red\">(1 pt)</span>**"
      ],
      "id": "c3ece231"
    },
    {
      "cell_type": "code",
      "execution_count": 119,
      "metadata": {
        "id": "e1c20615"
      },
      "outputs": [],
      "source": [
        "km = KMeans(n_clusters = 6, random_state = 0)\n",
        "km.fit(X_scaled)\n",
        "\n",
        "val_km = km.predict(X_scaled)"
      ],
      "id": "e1c20615"
    },
    {
      "cell_type": "code",
      "source": [
        "plt.bar(np.unique(val_km, return_counts=True)[0],np.unique(val_km, return_counts=True)[1])\n",
        "plt.xlabel(\"Clusters\")\n",
        "plt.ylabel(\"Frecuencia\")\n",
        "plt.show()"
      ],
      "metadata": {
        "colab": {
          "base_uri": "https://localhost:8080/",
          "height": 279
        },
        "id": "P-_hyIRr5S1P",
        "outputId": "155649e9-ca5a-4eb3-a7a0-7460b36abe62"
      },
      "id": "P-_hyIRr5S1P",
      "execution_count": 120,
      "outputs": [
        {
          "output_type": "display_data",
          "data": {
            "text/plain": [
              "<Figure size 432x288 with 1 Axes>"
            ],
            "image/png": "[encoded data removed]"
          },
          "metadata": {
            "needs_background": "light"
          }
        }
      ]
    },
    {
      "cell_type": "code",
      "source": [
        "np.unique(val_km, return_counts=True)"
      ],
      "metadata": {
        "colab": {
          "base_uri": "https://localhost:8080/"
        },
        "id": "48CyVBnU_PQ0",
        "outputId": "c75d2502-6186-46ac-d0f7-66e61220d5b0"
      },
      "id": "48CyVBnU_PQ0",
      "execution_count": 121,
      "outputs": [
        {
          "output_type": "execute_result",
          "data": {
            "text/plain": [
              "(array([0, 1, 2, 3, 4, 5], dtype=int32),\n",
              " array([2449, 1349, 1647, 1920,  307, 2627]))"
            ]
          },
          "metadata": {},
          "execution_count": 121
        }
      ]
    },
    {
      "cell_type": "markdown",
      "metadata": {
        "id": "86b14da2"
      },
      "source": [
        "**6. Mire la correspondencia entre los clusters y las etiquetas de clase originales y diga en qué tipo de actividades se confunde el algoritmo. <span style=\"color:red\">(2 pts)</span>**"
      ],
      "id": "86b14da2"
    },
    {
      "cell_type": "code",
      "execution_count": 122,
      "metadata": {
        "id": "9a2f9c09",
        "colab": {
          "base_uri": "https://localhost:8080/"
        },
        "outputId": "8002ed58-82db-4402-81a1-84c72ce0cc79"
      },
      "outputs": [
        {
          "output_type": "execute_result",
          "data": {
            "text/plain": [
              "array([5, 5, 5, ..., 0, 0, 0], dtype=int32)"
            ]
          },
          "metadata": {},
          "execution_count": 122
        }
      ],
      "source": [
        "val_km\n"
      ],
      "id": "9a2f9c09"
    },
    {
      "cell_type": "code",
      "source": [
        "y_lbl = pd.read_csv('/content/UCI HAR Dataset/activity_labels.txt', header = None)"
      ],
      "metadata": {
        "id": "Eh9N-gqxwfOl"
      },
      "id": "Eh9N-gqxwfOl",
      "execution_count": 123,
      "outputs": []
    },
    {
      "cell_type": "code",
      "source": [
        "y_lbl"
      ],
      "metadata": {
        "colab": {
          "base_uri": "https://localhost:8080/",
          "height": 238
        },
        "id": "s0sR9o_0yQ_r",
        "outputId": "358128d2-3acb-4f63-ea4d-090d6264daac"
      },
      "id": "s0sR9o_0yQ_r",
      "execution_count": 118,
      "outputs": [
        {
          "output_type": "execute_result",
          "data": {
            "text/plain": [
              "                      0\n",
              "0             1 WALKING\n",
              "1    2 WALKING_UPSTAIRS\n",
              "2  3 WALKING_DOWNSTAIRS\n",
              "3             4 SITTING\n",
              "4            5 STANDING\n",
              "5              6 LAYING"
            ],
            "text/html": [
              "\n",
              "  <div id=\"df-94ae1de2-35b7-45da-9f84-1ce4a4979c42\">\n",
              "    <div class=\"colab-df-container\">\n",
              "      <div>\n",
              "<style scoped>\n",
              "    .dataframe tbody tr th:only-of-type {\n",
              "        vertical-align: middle;\n",
              "    }\n",
              "\n",
              "    .dataframe tbody tr th {\n",
              "        vertical-align: top;\n",
              "    }\n",
              "\n",
              "    .dataframe thead th {\n",
              "        text-align: right;\n",
              "    }\n",
              "</style>\n",
              "<table border=\"1\" class=\"dataframe\">\n",
              "  <thead>\n",
              "    <tr style=\"text-align: right;\">\n",
              "      <th></th>\n",
              "      <th>0</th>\n",
              "    </tr>\n",
              "  </thead>\n",
              "  <tbody>\n",
              "    <tr>\n",
              "      <th>0</th>\n",
              "      <td>1 WALKING</td>\n",
              "    </tr>\n",
              "    <tr>\n",
              "      <th>1</th>\n",
              "      <td>2 WALKING_UPSTAIRS</td>\n",
              "    </tr>\n",
              "    <tr>\n",
              "      <th>2</th>\n",
              "      <td>3 WALKING_DOWNSTAIRS</td>\n",
              "    </tr>\n",
              "    <tr>\n",
              "      <th>3</th>\n",
              "      <td>4 SITTING</td>\n",
              "    </tr>\n",
              "    <tr>\n",
              "      <th>4</th>\n",
              "      <td>5 STANDING</td>\n",
              "    </tr>\n",
              "    <tr>\n",
              "      <th>5</th>\n",
              "      <td>6 LAYING</td>\n",
              "    </tr>\n",
              "  </tbody>\n",
              "</table>\n",
              "</div>\n",
              "      <button class=\"colab-df-convert\" onclick=\"convertToInteractive('df-94ae1de2-35b7-45da-9f84-1ce4a4979c42')\"\n",
              "              title=\"Convert this dataframe to an interactive table.\"\n",
              "              style=\"display:none;\">\n",
              "        \n",
              "  <svg xmlns=\"http://www.w3.org/2000/svg\" height=\"24px\"viewBox=\"0 0 24 24\"\n",
              "       width=\"24px\">\n",
              "    <path d=\"M0 0h24v24H0V0z\" fill=\"none\"/>\n",
              "    <path d=\"M18.56 5.44l.94 2.06.94-2.06 2.06-.94-2.06-.94-.94-2.06-.94 2.06-2.06.94zm-11 1L8.5 8.5l.94-2.06 2.06-.94-2.06-.94L8.5 2.5l-.94 2.06-2.06.94zm10 10l.94 2.06.94-2.06 2.06-.94-2.06-.94-.94-2.06-.94 2.06-2.06.94z\"/><path d=\"M17.41 7.96l-1.37-1.37c-.4-.4-.92-.59-1.43-.59-.52 0-1.04.2-1.43.59L10.3 9.45l-7.72 7.72c-.78.78-.78 2.05 0 2.83L4 21.41c.39.39.9.59 1.41.59.51 0 1.02-.2 1.41-.59l7.78-7.78 2.81-2.81c.8-.78.8-2.07 0-2.86zM5.41 20L4 18.59l7.72-7.72 1.47 1.35L5.41 20z\"/>\n",
              "  </svg>\n",
              "      </button>\n",
              "      \n",
              "  <style>\n",
              "    .colab-df-container {\n",
              "      display:flex;\n",
              "      flex-wrap:wrap;\n",
              "      gap: 12px;\n",
              "    }\n",
              "\n",
              "    .colab-df-convert {\n",
              "      background-color: #E8F0FE;\n",
              "      border: none;\n",
              "      border-radius: 50%;\n",
              "      cursor: pointer;\n",
              "      display: none;\n",
              "      fill: #1967D2;\n",
              "      height: 32px;\n",
              "      padding: 0 0 0 0;\n",
              "      width: 32px;\n",
              "    }\n",
              "\n",
              "    .colab-df-convert:hover {\n",
              "      background-color: #E2EBFA;\n",
              "      box-shadow: 0px 1px 2px rgba(60, 64, 67, 0.3), 0px 1px 3px 1px rgba(60, 64, 67, 0.15);\n",
              "      fill: #174EA6;\n",
              "    }\n",
              "\n",
              "    [theme=dark] .colab-df-convert {\n",
              "      background-color: #3B4455;\n",
              "      fill: #D2E3FC;\n",
              "    }\n",
              "\n",
              "    [theme=dark] .colab-df-convert:hover {\n",
              "      background-color: #434B5C;\n",
              "      box-shadow: 0px 1px 3px 1px rgba(0, 0, 0, 0.15);\n",
              "      filter: drop-shadow(0px 1px 2px rgba(0, 0, 0, 0.3));\n",
              "      fill: #FFFFFF;\n",
              "    }\n",
              "  </style>\n",
              "\n",
              "      <script>\n",
              "        const buttonEl =\n",
              "          document.querySelector('#df-94ae1de2-35b7-45da-9f84-1ce4a4979c42 button.colab-df-convert');\n",
              "        buttonEl.style.display =\n",
              "          google.colab.kernel.accessAllowed ? 'block' : 'none';\n",
              "\n",
              "        async function convertToInteractive(key) {\n",
              "          const element = document.querySelector('#df-94ae1de2-35b7-45da-9f84-1ce4a4979c42');\n",
              "          const dataTable =\n",
              "            await google.colab.kernel.invokeFunction('convertToInteractive',\n",
              "                                                     [key], {});\n",
              "          if (!dataTable) return;\n",
              "\n",
              "          const docLinkHtml = 'Like what you see? Visit the ' +\n",
              "            '<a target=\"_blank\" href=https://colab.research.google.com/notebooks/data_table.ipynb>data table notebook</a>'\n",
              "            + ' to learn more about interactive tables.';\n",
              "          element.innerHTML = '';\n",
              "          dataTable['output_type'] = 'display_data';\n",
              "          await google.colab.output.renderOutput(dataTable, element);\n",
              "          const docLink = document.createElement('div');\n",
              "          docLink.innerHTML = docLinkHtml;\n",
              "          element.appendChild(docLink);\n",
              "        }\n",
              "      </script>\n",
              "    </div>\n",
              "  </div>\n",
              "  "
            ]
          },
          "metadata": {},
          "execution_count": 118
        }
      ]
    },
    {
      "cell_type": "code",
      "source": [
        "df_km = pd.DataFrame()"
      ],
      "metadata": {
        "id": "HnN6QIIuxvmt"
      },
      "id": "HnN6QIIuxvmt",
      "execution_count": 65,
      "outputs": []
    },
    {
      "cell_type": "code",
      "source": [
        "df_km['cluster'] = val_km"
      ],
      "metadata": {
        "id": "bFYX1bIZ0RxB"
      },
      "id": "bFYX1bIZ0RxB",
      "execution_count": 66,
      "outputs": []
    },
    {
      "cell_type": "code",
      "source": [
        "df_km['y'] = y"
      ],
      "metadata": {
        "id": "TltXQ2tf0YNt"
      },
      "id": "TltXQ2tf0YNt",
      "execution_count": 69,
      "outputs": []
    },
    {
      "cell_type": "code",
      "source": [
        "df_km['label'] = df_km['y'].replace(1, 'Walking').replace(2, 'Walking_Upstairs').replace(3, 'Walking_Downstairs').replace(4, 'Sitting').replace(5,'Standing').replace(6, 'Laying')"
      ],
      "metadata": {
        "id": "Ty2G_u7e0gxG"
      },
      "id": "Ty2G_u7e0gxG",
      "execution_count": 73,
      "outputs": []
    },
    {
      "cell_type": "code",
      "source": [
        "df_km"
      ],
      "metadata": {
        "colab": {
          "base_uri": "https://localhost:8080/",
          "height": 424
        },
        "id": "4vLq2teV1cu7",
        "outputId": "d1462bbd-864e-4111-d5a6-681b9a7c4387"
      },
      "id": "4vLq2teV1cu7",
      "execution_count": 74,
      "outputs": [
        {
          "output_type": "execute_result",
          "data": {
            "text/plain": [
              "       cluster  y             label\n",
              "0            5  5          Standing\n",
              "1            5  5          Standing\n",
              "2            5  5          Standing\n",
              "3            5  5          Standing\n",
              "4            5  5          Standing\n",
              "...        ... ..               ...\n",
              "10294        0  2  Walking_Upstairs\n",
              "10295        0  2  Walking_Upstairs\n",
              "10296        0  2  Walking_Upstairs\n",
              "10297        0  2  Walking_Upstairs\n",
              "10298        0  2  Walking_Upstairs\n",
              "\n",
              "[10299 rows x 3 columns]"
            ],
            "text/html": [
              "\n",
              "  <div id=\"df-1024a6c8-b5af-4818-8592-880b5c8f8fe9\">\n",
              "    <div class=\"colab-df-container\">\n",
              "      <div>\n",
              "<style scoped>\n",
              "    .dataframe tbody tr th:only-of-type {\n",
              "        vertical-align: middle;\n",
              "    }\n",
              "\n",
              "    .dataframe tbody tr th {\n",
              "        vertical-align: top;\n",
              "    }\n",
              "\n",
              "    .dataframe thead th {\n",
              "        text-align: right;\n",
              "    }\n",
              "</style>\n",
              "<table border=\"1\" class=\"dataframe\">\n",
              "  <thead>\n",
              "    <tr style=\"text-align: right;\">\n",
              "      <th></th>\n",
              "      <th>cluster</th>\n",
              "      <th>y</th>\n",
              "      <th>label</th>\n",
              "    </tr>\n",
              "  </thead>\n",
              "  <tbody>\n",
              "    <tr>\n",
              "      <th>0</th>\n",
              "      <td>5</td>\n",
              "      <td>5</td>\n",
              "      <td>Standing</td>\n",
              "    </tr>\n",
              "    <tr>\n",
              "      <th>1</th>\n",
              "      <td>5</td>\n",
              "      <td>5</td>\n",
              "      <td>Standing</td>\n",
              "    </tr>\n",
              "    <tr>\n",
              "      <th>2</th>\n",
              "      <td>5</td>\n",
              "      <td>5</td>\n",
              "      <td>Standing</td>\n",
              "    </tr>\n",
              "    <tr>\n",
              "      <th>3</th>\n",
              "      <td>5</td>\n",
              "      <td>5</td>\n",
              "      <td>Standing</td>\n",
              "    </tr>\n",
              "    <tr>\n",
              "      <th>4</th>\n",
              "      <td>5</td>\n",
              "      <td>5</td>\n",
              "      <td>Standing</td>\n",
              "    </tr>\n",
              "    <tr>\n",
              "      <th>...</th>\n",
              "      <td>...</td>\n",
              "      <td>...</td>\n",
              "      <td>...</td>\n",
              "    </tr>\n",
              "    <tr>\n",
              "      <th>10294</th>\n",
              "      <td>0</td>\n",
              "      <td>2</td>\n",
              "      <td>Walking_Upstairs</td>\n",
              "    </tr>\n",
              "    <tr>\n",
              "      <th>10295</th>\n",
              "      <td>0</td>\n",
              "      <td>2</td>\n",
              "      <td>Walking_Upstairs</td>\n",
              "    </tr>\n",
              "    <tr>\n",
              "      <th>10296</th>\n",
              "      <td>0</td>\n",
              "      <td>2</td>\n",
              "      <td>Walking_Upstairs</td>\n",
              "    </tr>\n",
              "    <tr>\n",
              "      <th>10297</th>\n",
              "      <td>0</td>\n",
              "      <td>2</td>\n",
              "      <td>Walking_Upstairs</td>\n",
              "    </tr>\n",
              "    <tr>\n",
              "      <th>10298</th>\n",
              "      <td>0</td>\n",
              "      <td>2</td>\n",
              "      <td>Walking_Upstairs</td>\n",
              "    </tr>\n",
              "  </tbody>\n",
              "</table>\n",
              "<p>10299 rows × 3 columns</p>\n",
              "</div>\n",
              "      <button class=\"colab-df-convert\" onclick=\"convertToInteractive('df-1024a6c8-b5af-4818-8592-880b5c8f8fe9')\"\n",
              "              title=\"Convert this dataframe to an interactive table.\"\n",
              "              style=\"display:none;\">\n",
              "        \n",
              "  <svg xmlns=\"http://www.w3.org/2000/svg\" height=\"24px\"viewBox=\"0 0 24 24\"\n",
              "       width=\"24px\">\n",
              "    <path d=\"M0 0h24v24H0V0z\" fill=\"none\"/>\n",
              "    <path d=\"M18.56 5.44l.94 2.06.94-2.06 2.06-.94-2.06-.94-.94-2.06-.94 2.06-2.06.94zm-11 1L8.5 8.5l.94-2.06 2.06-.94-2.06-.94L8.5 2.5l-.94 2.06-2.06.94zm10 10l.94 2.06.94-2.06 2.06-.94-2.06-.94-.94-2.06-.94 2.06-2.06.94z\"/><path d=\"M17.41 7.96l-1.37-1.37c-.4-.4-.92-.59-1.43-.59-.52 0-1.04.2-1.43.59L10.3 9.45l-7.72 7.72c-.78.78-.78 2.05 0 2.83L4 21.41c.39.39.9.59 1.41.59.51 0 1.02-.2 1.41-.59l7.78-7.78 2.81-2.81c.8-.78.8-2.07 0-2.86zM5.41 20L4 18.59l7.72-7.72 1.47 1.35L5.41 20z\"/>\n",
              "  </svg>\n",
              "      </button>\n",
              "      \n",
              "  <style>\n",
              "    .colab-df-container {\n",
              "      display:flex;\n",
              "      flex-wrap:wrap;\n",
              "      gap: 12px;\n",
              "    }\n",
              "\n",
              "    .colab-df-convert {\n",
              "      background-color: #E8F0FE;\n",
              "      border: none;\n",
              "      border-radius: 50%;\n",
              "      cursor: pointer;\n",
              "      display: none;\n",
              "      fill: #1967D2;\n",
              "      height: 32px;\n",
              "      padding: 0 0 0 0;\n",
              "      width: 32px;\n",
              "    }\n",
              "\n",
              "    .colab-df-convert:hover {\n",
              "      background-color: #E2EBFA;\n",
              "      box-shadow: 0px 1px 2px rgba(60, 64, 67, 0.3), 0px 1px 3px 1px rgba(60, 64, 67, 0.15);\n",
              "      fill: #174EA6;\n",
              "    }\n",
              "\n",
              "    [theme=dark] .colab-df-convert {\n",
              "      background-color: #3B4455;\n",
              "      fill: #D2E3FC;\n",
              "    }\n",
              "\n",
              "    [theme=dark] .colab-df-convert:hover {\n",
              "      background-color: #434B5C;\n",
              "      box-shadow: 0px 1px 3px 1px rgba(0, 0, 0, 0.15);\n",
              "      filter: drop-shadow(0px 1px 2px rgba(0, 0, 0, 0.3));\n",
              "      fill: #FFFFFF;\n",
              "    }\n",
              "  </style>\n",
              "\n",
              "      <script>\n",
              "        const buttonEl =\n",
              "          document.querySelector('#df-1024a6c8-b5af-4818-8592-880b5c8f8fe9 button.colab-df-convert');\n",
              "        buttonEl.style.display =\n",
              "          google.colab.kernel.accessAllowed ? 'block' : 'none';\n",
              "\n",
              "        async function convertToInteractive(key) {\n",
              "          const element = document.querySelector('#df-1024a6c8-b5af-4818-8592-880b5c8f8fe9');\n",
              "          const dataTable =\n",
              "            await google.colab.kernel.invokeFunction('convertToInteractive',\n",
              "                                                     [key], {});\n",
              "          if (!dataTable) return;\n",
              "\n",
              "          const docLinkHtml = 'Like what you see? Visit the ' +\n",
              "            '<a target=\"_blank\" href=https://colab.research.google.com/notebooks/data_table.ipynb>data table notebook</a>'\n",
              "            + ' to learn more about interactive tables.';\n",
              "          element.innerHTML = '';\n",
              "          dataTable['output_type'] = 'display_data';\n",
              "          await google.colab.output.renderOutput(dataTable, element);\n",
              "          const docLink = document.createElement('div');\n",
              "          docLink.innerHTML = docLinkHtml;\n",
              "          element.appendChild(docLink);\n",
              "        }\n",
              "      </script>\n",
              "    </div>\n",
              "  </div>\n",
              "  "
            ]
          },
          "metadata": {},
          "execution_count": 74
        }
      ]
    },
    {
      "cell_type": "code",
      "source": [
        "df_km[df_km['cluster'] == 0].value_counts()"
      ],
      "metadata": {
        "colab": {
          "base_uri": "https://localhost:8080/"
        },
        "id": "gqTn-za_63Tx",
        "outputId": "e2a4c385-e5ac-4549-b878-97d235fcf7b8"
      },
      "id": "gqTn-za_63Tx",
      "execution_count": 91,
      "outputs": [
        {
          "output_type": "execute_result",
          "data": {
            "text/plain": [
              "cluster  y  label             \n",
              "0        2  Walking_Upstairs      1236\n",
              "         1  Walking                897\n",
              "         3  Walking_Downstairs     310\n",
              "         6  Laying                   5\n",
              "         4  Sitting                  1\n",
              "dtype: int64"
            ]
          },
          "metadata": {},
          "execution_count": 91
        }
      ]
    },
    {
      "cell_type": "code",
      "source": [
        "df_km[df_km['cluster'] == 1].value_counts()\n"
      ],
      "metadata": {
        "colab": {
          "base_uri": "https://localhost:8080/"
        },
        "id": "_xh8FpOk2KdX",
        "outputId": "0424b643-d18f-44cd-ba2f-ede63ee41cad"
      },
      "id": "_xh8FpOk2KdX",
      "execution_count": 86,
      "outputs": [
        {
          "output_type": "execute_result",
          "data": {
            "text/plain": [
              "cluster  y  label           \n",
              "1        5  Standing            566\n",
              "         4  Sitting             451\n",
              "         6  Laying              330\n",
              "         2  Walking_Upstairs      2\n",
              "dtype: int64"
            ]
          },
          "metadata": {},
          "execution_count": 86
        }
      ]
    },
    {
      "cell_type": "code",
      "source": [
        "df_km[df_km['cluster'] == 2].value_counts()"
      ],
      "metadata": {
        "colab": {
          "base_uri": "https://localhost:8080/"
        },
        "id": "6QhyTBbh3cGV",
        "outputId": "6622e4a1-5a35-46aa-b61c-6d660b367090"
      },
      "id": "6QhyTBbh3cGV",
      "execution_count": 87,
      "outputs": [
        {
          "output_type": "execute_result",
          "data": {
            "text/plain": [
              "cluster  y  label  \n",
              "2        6  Laying     1556\n",
              "         4  Sitting      91\n",
              "dtype: int64"
            ]
          },
          "metadata": {},
          "execution_count": 87
        }
      ]
    },
    {
      "cell_type": "code",
      "source": [
        "df_km[df_km['cluster'] == 3].value_counts()"
      ],
      "metadata": {
        "colab": {
          "base_uri": "https://localhost:8080/"
        },
        "id": "0tkdnEKB3dZ9",
        "outputId": "80e4508c-d9b7-49b3-a80e-49b10ada925e"
      },
      "id": "0tkdnEKB3dZ9",
      "execution_count": 88,
      "outputs": [
        {
          "output_type": "execute_result",
          "data": {
            "text/plain": [
              "cluster  y  label             \n",
              "3        3  Walking_Downstairs    882\n",
              "         1  Walking               741\n",
              "         2  Walking_Upstairs      297\n",
              "dtype: int64"
            ]
          },
          "metadata": {},
          "execution_count": 88
        }
      ]
    },
    {
      "cell_type": "code",
      "source": [
        "df_km[df_km['cluster'] == 4].value_counts()"
      ],
      "metadata": {
        "colab": {
          "base_uri": "https://localhost:8080/"
        },
        "id": "V4e1Kyp33epp",
        "outputId": "90558eae-fcff-4cdb-9a3c-98b69ea9ca11"
      },
      "id": "V4e1Kyp33epp",
      "execution_count": 89,
      "outputs": [
        {
          "output_type": "execute_result",
          "data": {
            "text/plain": [
              "cluster  y  label             \n",
              "4        3  Walking_Downstairs    214\n",
              "         1  Walking                84\n",
              "         2  Walking_Upstairs        9\n",
              "dtype: int64"
            ]
          },
          "metadata": {},
          "execution_count": 89
        }
      ]
    },
    {
      "cell_type": "code",
      "source": [
        "df_km[df_km['cluster'] == 5].value_counts()"
      ],
      "metadata": {
        "colab": {
          "base_uri": "https://localhost:8080/"
        },
        "id": "Ir30UWqY3f8s",
        "outputId": "48adee19-5f05-4359-b4f6-21fa8e2ec581"
      },
      "id": "Ir30UWqY3f8s",
      "execution_count": 90,
      "outputs": [
        {
          "output_type": "execute_result",
          "data": {
            "text/plain": [
              "cluster  y  label   \n",
              "5        5  Standing    1340\n",
              "         4  Sitting     1234\n",
              "         6  Laying        53\n",
              "dtype: int64"
            ]
          },
          "metadata": {},
          "execution_count": 90
        }
      ]
    },
    {
      "cell_type": "code",
      "source": [
        "# Cluster 0 se confunde en Laying y sitting\n",
        "# Cluster 1 se confunde con el walking_upstair\n",
        "# Cluster 2 sitting es significativamente inferior respecto a Laying\n",
        "# Cluster 3 y Cluster 4 podrian ser un mismo cluster\n",
        "# Cluster 5 se confunde en Laying"
      ],
      "metadata": {
        "id": "TghftU5x3YfA"
      },
      "id": "TghftU5x3YfA",
      "execution_count": 148,
      "outputs": []
    },
    {
      "cell_type": "markdown",
      "metadata": {
        "id": "59e8a399"
      },
      "source": [
        "**7. ¿Qué tipos de actividad se incluyen en cada clúster?. En otras palabras, diga cuales actividades estan incluidas en cada cluster. Luego de obtenerlas puede escribir su respuesta en \"Respuesta: ...\". <span style=\"color:red\">(2 pts)</span>** \n",
        "\n",
        "**Por ejemplo:**\n",
        "\n",
        "Cluster 1: sitting, laying y walking downstairs<p>\n",
        "...<p>\n",
        "Cluster 6: Todas las actividades\n",
        "\n"
      ],
      "id": "59e8a399"
    },
    {
      "cell_type": "code",
      "source": [
        "for i in range(6):\n",
        "    print(\"El cluster\", i, \"tiene las actividades: \", df_km[df_km['cluster'] == i]['label'].unique())"
      ],
      "metadata": {
        "colab": {
          "base_uri": "https://localhost:8080/"
        },
        "id": "DB91jkrx7j47",
        "outputId": "f150a126-be54-427e-b3da-35b4905d3556"
      },
      "id": "DB91jkrx7j47",
      "execution_count": 98,
      "outputs": [
        {
          "output_type": "stream",
          "name": "stdout",
          "text": [
            "El cluster 0 tiene las actividades:  ['Laying' 'Walking' 'Walking_Upstairs' 'Walking_Downstairs' 'Sitting']\n",
            "El cluster 1 tiene las actividades:  ['Standing' 'Sitting' 'Laying' 'Walking_Upstairs']\n",
            "El cluster 2 tiene las actividades:  ['Sitting' 'Laying']\n",
            "El cluster 3 tiene las actividades:  ['Walking' 'Walking_Downstairs' 'Walking_Upstairs']\n",
            "El cluster 4 tiene las actividades:  ['Walking_Downstairs' 'Walking' 'Walking_Upstairs']\n",
            "El cluster 5 tiene las actividades:  ['Standing' 'Sitting' 'Laying']\n"
          ]
        }
      ]
    },
    {
      "cell_type": "markdown",
      "metadata": {
        "id": "ef7253f3"
      },
      "source": [
        "## Aplicación de técnica de reducción de dimensionalidad\n",
        "\n",
        "La idea es que aplique la técnica de reducción de dimensionalidad PCA sobre los datos entregados y luego realice el mismo procedimiento de la pregunta 1 con el fin de comparar los resultados agrupando los datos con y sin reducción de dimensionalidad."
      ],
      "id": "ef7253f3"
    },
    {
      "cell_type": "markdown",
      "metadata": {
        "id": "3caa60b8"
      },
      "source": [
        "**8. Aplique PCA sobre los datos. <span style=\"color:red\">(2pts)</span>**"
      ],
      "id": "3caa60b8"
    },
    {
      "cell_type": "code",
      "execution_count": 125,
      "metadata": {
        "id": "a1b20cc2"
      },
      "outputs": [],
      "source": [
        "from sklearn.decomposition import PCA"
      ],
      "id": "a1b20cc2"
    },
    {
      "cell_type": "code",
      "source": [
        "pca = PCA(0.90) #PCA(n_components=2) \n",
        "pca.fit(X_scaled)\n",
        "xx = pca.transform(X_scaled)"
      ],
      "metadata": {
        "id": "oCKGg3i1AI70"
      },
      "id": "oCKGg3i1AI70",
      "execution_count": 126,
      "outputs": []
    },
    {
      "cell_type": "code",
      "source": [
        "xx.shape"
      ],
      "metadata": {
        "colab": {
          "base_uri": "https://localhost:8080/"
        },
        "id": "N7y2K5Q6AzVF",
        "outputId": "eee78e87-fb46-47ed-c6c6-75b05caf7ec4"
      },
      "id": "N7y2K5Q6AzVF",
      "execution_count": 127,
      "outputs": [
        {
          "output_type": "execute_result",
          "data": {
            "text/plain": [
              "(10299, 65)"
            ]
          },
          "metadata": {},
          "execution_count": 127
        }
      ]
    },
    {
      "cell_type": "markdown",
      "source": [
        "Se redujo a 65 columnas"
      ],
      "metadata": {
        "id": "Sh1__DeaIn9c"
      },
      "id": "Sh1__DeaIn9c"
    },
    {
      "cell_type": "markdown",
      "metadata": {
        "id": "8c324927"
      },
      "source": [
        "Luego de aplicar PCA y antes de realizar kmeas, responda las siguientes preguntas."
      ],
      "id": "8c324927"
    },
    {
      "cell_type": "markdown",
      "metadata": {
        "id": "2262343d"
      },
      "source": [
        "**9. ¿Cuál es el número mínimo de componentes principales necesarios para cubrir el 90 % de la varianza de los datos originales? <span style=\"color:red\">(2 pts)</span>**"
      ],
      "id": "2262343d"
    },
    {
      "cell_type": "code",
      "execution_count": 131,
      "metadata": {
        "id": "48f68af5",
        "colab": {
          "base_uri": "https://localhost:8080/"
        },
        "outputId": "0b9968ca-acaf-4b01-9712-9523efbfdb55"
      },
      "outputs": [
        {
          "output_type": "stream",
          "name": "stdout",
          "text": [
            "0.9004833346822926\n"
          ]
        }
      ],
      "source": [
        "print(pca.explained_variance_ratio_.sum())"
      ],
      "id": "48f68af5"
    },
    {
      "cell_type": "markdown",
      "metadata": {
        "id": "0bbc5bca"
      },
      "source": [
        "**10. ¿Qué porcentaje de la varianza cubre el primer componente principal? Redondear al porcentaje más cercano. <span style=\"color:red\">(2 pts)</span>**"
      ],
      "id": "0bbc5bca"
    },
    {
      "cell_type": "code",
      "execution_count": 134,
      "metadata": {
        "id": "2fb3cca4",
        "colab": {
          "base_uri": "https://localhost:8080/"
        },
        "outputId": "336f00ed-496c-4773-bc30-93bee5da0243"
      },
      "outputs": [
        {
          "output_type": "stream",
          "name": "stdout",
          "text": [
            "0.51\n"
          ]
        }
      ],
      "source": [
        "print(round(pca.explained_variance_ratio_[0], 2))\n"
      ],
      "id": "2fb3cca4"
    },
    {
      "cell_type": "markdown",
      "source": [
        "El primer componente explica el 51 % de la varianza"
      ],
      "metadata": {
        "id": "ra0TUTziIhnx"
      },
      "id": "ra0TUTziIhnx"
    },
    {
      "cell_type": "markdown",
      "metadata": {
        "id": "c23306f8"
      },
      "source": [
        "**11. Entrene el algoritmo de kmeans, pero ahora teniendo en cuenta las componentes principales que decidio dejar y número de clústers = 6. <span style=\"color:red\">(10 pts)</span>**"
      ],
      "id": "c23306f8"
    },
    {
      "cell_type": "code",
      "execution_count": 135,
      "metadata": {
        "id": "a64fcb10"
      },
      "outputs": [],
      "source": [
        "km = KMeans(n_clusters = 6, random_state = 0)\n",
        "km.fit(xx)\n",
        "\n",
        "val_km2 = km.predict(xx)"
      ],
      "id": "a64fcb10"
    },
    {
      "cell_type": "code",
      "source": [
        "plt.bar(np.unique(val_km2, return_counts=True)[0],np.unique(val_km2, return_counts=True)[1])\n",
        "plt.xlabel(\"Clusters\")\n",
        "plt.ylabel(\"Frecuencia\")\n",
        "plt.show()"
      ],
      "metadata": {
        "colab": {
          "base_uri": "https://localhost:8080/",
          "height": 279
        },
        "id": "IEwIoqpnB795",
        "outputId": "30a57ae0-edf0-42fd-d041-6d2487ba235a"
      },
      "id": "IEwIoqpnB795",
      "execution_count": 136,
      "outputs": [
        {
          "output_type": "display_data",
          "data": {
            "text/plain": [
              "<Figure size 432x288 with 1 Axes>"
            ],
            "image/png": "[encoded data removed]"
          },
          "metadata": {
            "needs_background": "light"
          }
        }
      ]
    },
    {
      "cell_type": "code",
      "source": [
        "np.unique(val_km, return_counts=True)"
      ],
      "metadata": {
        "colab": {
          "base_uri": "https://localhost:8080/"
        },
        "id": "Z4-gBqkwCEOz",
        "outputId": "82c1466b-8d18-4c4f-a0fe-3dbc55270871"
      },
      "id": "Z4-gBqkwCEOz",
      "execution_count": 137,
      "outputs": [
        {
          "output_type": "execute_result",
          "data": {
            "text/plain": [
              "(array([0, 1, 2, 3, 4, 5], dtype=int32),\n",
              " array([2449, 1349, 1647, 1920,  307, 2627]))"
            ]
          },
          "metadata": {},
          "execution_count": 137
        }
      ]
    },
    {
      "cell_type": "markdown",
      "metadata": {
        "id": "4379a4af"
      },
      "source": [
        "**12. Evalué la agrupación mediante la métrica de silhouette. <span style=\"color:red\">(2 pts - BONUS)</span>**"
      ],
      "id": "4379a4af"
    },
    {
      "cell_type": "code",
      "execution_count": 139,
      "metadata": {
        "id": "bba2731e",
        "colab": {
          "base_uri": "https://localhost:8080/",
          "height": 282
        },
        "outputId": "4cbbbaac-c98e-4a12-c1f5-a0da1679eb75"
      },
      "outputs": [
        {
          "output_type": "display_data",
          "data": {
            "text/plain": [
              "<Figure size 432x288 with 1 Axes>"
            ],
            "image/png": "[encoded data removed]"
          },
          "metadata": {
            "needs_background": "light"
          }
        }
      ],
      "source": [
        "scores_s = []\n",
        "\n",
        "for i in range(2, 11):\n",
        "    km = KMeans(n_clusters = i, random_state = 24)\n",
        "    km.fit(xx)\n",
        "    scores_s.append(silhouette_score(xx, km.labels_))\n",
        "    \n",
        "# Coeficiente de Silhouette Method\n",
        "plt.plot(range(2, 11), scores_s, '-s', color='darkred')\n",
        "plt.xlabel('Clusters')\n",
        "plt.ylabel('Coeficiente de Silhouette')\n",
        "plt.grid()\n",
        "\n",
        "plt.show()"
      ],
      "id": "bba2731e"
    },
    {
      "cell_type": "code",
      "source": [
        "scores = []\n",
        "scores_pca = []\n",
        "for i in range(2, 6):\n",
        "    km = KMeans(n_clusters = i, random_state = 24)\n",
        "    km.fit(X_scaled)\n",
        "    scores.append(silhouette_score(X_scaled, km.labels_))\n",
        "    km_pca = KMeans(n_clusters = i, random_state = 24)\n",
        "    km_pca.fit(xx)\n",
        "    scores_pca.append(silhouette_score(xx, km_pca.labels_))\n",
        "    \n",
        "    \n",
        "# Coeficiente de Silhouette\n",
        "plt.figure(figsize=(13,5))\n",
        "plt.subplot(1,2,1)\n",
        "plt.plot(range(2, 6), scores, '-s', color='darkred')\n",
        "plt.xlabel('Clusters KMeans')\n",
        "plt.ylabel('Coeficiente de Silhouette')\n",
        "plt.grid()\n",
        "\n",
        "# Coeficiente de Silhouette \n",
        "plt.subplot(1,2,2)\n",
        "plt.plot(range(2, 6), scores_pca, '-s', color='darkred')\n",
        "plt.xlabel('Clusters PCA')\n",
        "plt.ylabel('Coeficiente de Silhouette')\n",
        "plt.grid()\n",
        "\n",
        "plt.show()"
      ],
      "metadata": {
        "colab": {
          "base_uri": "https://localhost:8080/",
          "height": 334
        },
        "id": "yJ6NSycDFUCD",
        "outputId": "b3517eb1-c483-4b97-cff9-ab9934487cc7"
      },
      "id": "yJ6NSycDFUCD",
      "execution_count": 147,
      "outputs": [
        {
          "output_type": "display_data",
          "data": {
            "text/plain": [
              "<Figure size 936x360 with 2 Axes>"
            ],
            "image/png": "[encoded data removed]"
          },
          "metadata": {
            "needs_background": "light"
          }
        }
      ]
    },
    {
      "cell_type": "markdown",
      "metadata": {
        "id": "d2b79e42"
      },
      "source": [
        "**13. Concluya las diferencias, o bien, resultados, de la utilización de PCA sobre la agrupación. ¿Porque cree usted que fue mejor o peor? <span style=\"color:red\">(2 pts - BONUS)</span>**"
      ],
      "id": "d2b79e42"
    },
    {
      "cell_type": "markdown",
      "source": [
        "Se puede observar que al utilizar PCA existe una menor varianza, por ejemplo al observar el punto x = 3 el coeficiente es 0.5 superior respecto a la utilizacion de KMeans."
      ],
      "metadata": {
        "id": "cm1ZYR_zH4gC"
      },
      "id": "cm1ZYR_zH4gC"
    },
    {
      "cell_type": "code",
      "source": [],
      "metadata": {
        "id": "HJDAiUImIc4-"
      },
      "id": "HJDAiUImIc4-",
      "execution_count": null,
      "outputs": []
    }
  ],
  "metadata": {
    "colab": {
      "provenance": [],
      "include_colab_link": true
    },
    "kernelspec": {
      "display_name": "Python 3",
      "language": "python",
      "name": "python3"
    },
    "language_info": {
      "codemirror_mode": {
        "name": "ipython",
        "version": 3
      },
      "file_extension": ".py",
      "mimetype": "text/x-python",
      "name": "python",
      "nbconvert_exporter": "python",
      "pygments_lexer": "ipython3",
      "version": "3.7.3"
    },
    "vscode": {
      "interpreter": {
        "hash": "99dbe7d137ab5e4dabafce500ed6bbf0d5f642a9ac691b75854551f3d54cce9c"
      }
    }
  },
  "nbformat": 4,
  "nbformat_minor": 5
}